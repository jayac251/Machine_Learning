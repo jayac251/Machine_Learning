{
  "nbformat": 4,
  "nbformat_minor": 0,
  "metadata": {
    "colab": {
      "name": "pandas_4_descriptive_statistics.ipynb",
      "provenance": [],
      "authorship_tag": "ABX9TyMS/f5zrMOunsG7JxyikPsO",
      "include_colab_link": true
    },
    "kernelspec": {
      "name": "python3",
      "display_name": "Python 3"
    },
    "language_info": {
      "name": "python"
    }
  },
  "cells": [
    {
      "cell_type": "markdown",
      "metadata": {
        "id": "view-in-github",
        "colab_type": "text"
      },
      "source": [
        "<a href=\"https://colab.research.google.com/github/jayac251/Machine_Learning/blob/main/pandas_4_descriptive_statistics.ipynb\" target=\"_parent\"><img src=\"https://colab.research.google.com/assets/colab-badge.svg\" alt=\"Open In Colab\"/></a>"
      ]
    },
    {
      "cell_type": "code",
      "metadata": {
        "id": "8nFKNsMSHqJT"
      },
      "source": [
        "import pandas as pd\n",
        "import numpy as np"
      ],
      "execution_count": 2,
      "outputs": []
    },
    {
      "cell_type": "code",
      "metadata": {
        "colab": {
          "base_uri": "https://localhost:8080/"
        },
        "id": "_yfUpM69GfW6",
        "outputId": "62e7d669-d253-4f19-f478-10912f96db4b"
      },
      "source": [
        "marksUT= {'Name':['Raman','Raman','Raman','Zuhaire','Zuhaire','Zuhaire', 'Ashravy','Ashravy','Ashravy','Mishti','Mishti','Mishti'],\n",
        " 'UT':[1,2,3,1,2,3,1,2,3,1,2,3],\n",
        " 'Maths':[22,21,14,20,23,22,23,24,12,15,18,17],\n",
        " 'Science':[21,20,19,17,15,18,19,22,25,22,21,18],\n",
        " 'S.St':[18,17,15,22,21,19,20,24,19,25,25,20],\n",
        " 'Hindi':[20,22,24,24,25,23,15,17,21,22,24,25],\n",
        " 'Eng':[21,24,23,19,15,13,22,21,23,22,23,20]\n",
        " }\n",
        "\n",
        "df=pd.DataFrame(marksUT)\n",
        "\n",
        "print(df)"
      ],
      "execution_count": 3,
      "outputs": [
        {
          "output_type": "stream",
          "name": "stdout",
          "text": [
            "       Name  UT  Maths  Science  S.St  Hindi  Eng\n",
            "0     Raman   1     22       21    18     20   21\n",
            "1     Raman   2     21       20    17     22   24\n",
            "2     Raman   3     14       19    15     24   23\n",
            "3   Zuhaire   1     20       17    22     24   19\n",
            "4   Zuhaire   2     23       15    21     25   15\n",
            "5   Zuhaire   3     22       18    19     23   13\n",
            "6   Ashravy   1     23       19    20     15   22\n",
            "7   Ashravy   2     24       22    24     17   21\n",
            "8   Ashravy   3     12       25    19     21   23\n",
            "9    Mishti   1     15       22    25     22   22\n",
            "10   Mishti   2     18       21    25     24   23\n",
            "11   Mishti   3     17       18    20     25   20\n"
          ]
        }
      ]
    },
    {
      "cell_type": "markdown",
      "metadata": {
        "id": "ttQy18NoICFx"
      },
      "source": [
        "## 1 .**Descriptive Statistics**\n",
        "\n",
        "Used to summarize the given data\n",
        "\n",
        "1.   min\n",
        "2.   max\n",
        "3.   count\n",
        "4.   sum\n",
        "5.   median\n",
        "6.   mean\n",
        "7.   mode\n",
        "8.   quartiles\n",
        "9.   variance\n",
        "\n",
        "\n",
        "\n"
      ]
    },
    {
      "cell_type": "markdown",
      "metadata": {
        "id": "oqGI5FE7I3E4"
      },
      "source": [
        "### **1. max**"
      ]
    },
    {
      "cell_type": "code",
      "metadata": {
        "colab": {
          "base_uri": "https://localhost:8080/"
        },
        "id": "4oI3cWHkH9gK",
        "outputId": "fb1b87ed-f54b-4117-b93c-0206bf39f89c"
      },
      "source": [
        "# max (calculate max value from DF, regardless its datatype)\n",
        "print(df.max())\n",
        "\n",
        "#calculate max value for columns having numeric values\n",
        "print('\\n', df.max(numeric_only=True))"
      ],
      "execution_count": null,
      "outputs": [
        {
          "output_type": "stream",
          "name": "stdout",
          "text": [
            "Name       Zuhaire\n",
            "UT               3\n",
            "Maths           24\n",
            "Science         25\n",
            "S.St            25\n",
            "Hindi           25\n",
            "Eng             24\n",
            "dtype: object\n",
            "\n",
            " UT          3\n",
            "Maths      24\n",
            "Science    25\n",
            "S.St       25\n",
            "Hindi      25\n",
            "Eng        24\n",
            "dtype: int64\n"
          ]
        }
      ]
    },
    {
      "cell_type": "code",
      "metadata": {
        "colab": {
          "base_uri": "https://localhost:8080/"
        },
        "id": "aKwINAFKJh7n",
        "outputId": "9ece67ac-4dca-4502-b0c4-b4c2845615d8"
      },
      "source": [
        "# Write statements to output the max marks obtained in each subject in Unit 2\n",
        "print(df,'\\n\\n')\n",
        "\n",
        "print(df[df.loc[:,'UT']==2].max(numeric_only=True))\n",
        "\n",
        "#print('\\n\\n')\n",
        "\n",
        "#df1 = df[df.loc[:,'Name'] == 'Raman']\n",
        "#print('\\n\\n',df1)\n",
        "\n",
        "#df2 = df1[df1.loc[:,'UT'] == 2]\n",
        "#print('\\n\\n',df2)\n",
        "   \n",
        "  \n"
      ],
      "execution_count": 42,
      "outputs": [
        {
          "output_type": "stream",
          "name": "stdout",
          "text": [
            "       Name  UT  Maths  Science  S.St  Hindi  Eng\n",
            "0     Raman   1     22       21    18     20   21\n",
            "1     Raman   2     21       20    17     22   24\n",
            "2     Raman   3     14       19    15     24   23\n",
            "3   Zuhaire   1     20       17    22     24   19\n",
            "4   Zuhaire   2     23       15    21     25   15\n",
            "5   Zuhaire   3     22       18    19     23   13\n",
            "6   Ashravy   1     23       19    20     15   22\n",
            "7   Ashravy   2     24       22    24     17   21\n",
            "8   Ashravy   3     12       25    19     21   23\n",
            "9    Mishti   1     15       22    25     22   22\n",
            "10   Mishti   2     18       21    25     24   23\n",
            "11   Mishti   3     17       18    20     25   20 \n",
            "\n",
            "\n",
            "UT          2\n",
            "Maths      24\n",
            "Science    22\n",
            "S.St       25\n",
            "Hindi      25\n",
            "Eng        24\n",
            "dtype: int64\n"
          ]
        }
      ]
    },
    {
      "cell_type": "markdown",
      "metadata": {
        "id": "qAJjiMRHJJc5"
      },
      "source": [
        "By default, the max() method finds the maximum\n",
        "value of each column (which means, axis=0). However,\n",
        "to find the maximum value of each row, we have to\n",
        "specify axis = 1 as its argument."
      ]
    },
    {
      "cell_type": "code",
      "metadata": {
        "colab": {
          "base_uri": "https://localhost:8080/"
        },
        "id": "H1fP2NXqJN3v",
        "outputId": "51add199-bebe-4259-f272-e824001d5159"
      },
      "source": [
        "#maximum marks for each student in each unit test among all the subjects\n",
        "print(df,'\\n\\n')\n",
        "\n",
        "df.max(axis = 1)\n"
      ],
      "execution_count": 51,
      "outputs": [
        {
          "output_type": "stream",
          "name": "stdout",
          "text": [
            "       Name  UT  Maths  Science  S.St  Hindi  Eng\n",
            "0     Raman   1     22       21    18     20   21\n",
            "1     Raman   2     21       20    17     22   24\n",
            "2     Raman   3     14       19    15     24   23\n",
            "3   Zuhaire   1     20       17    22     24   19\n",
            "4   Zuhaire   2     23       15    21     25   15\n",
            "5   Zuhaire   3     22       18    19     23   13\n",
            "6   Ashravy   1     23       19    20     15   22\n",
            "7   Ashravy   2     24       22    24     17   21\n",
            "8   Ashravy   3     12       25    19     21   23\n",
            "9    Mishti   1     15       22    25     22   22\n",
            "10   Mishti   2     18       21    25     24   23\n",
            "11   Mishti   3     17       18    20     25   20 \n",
            "\n",
            "\n"
          ]
        },
        {
          "output_type": "execute_result",
          "data": {
            "text/plain": [
              "0     22\n",
              "1     24\n",
              "2     24\n",
              "3     24\n",
              "4     25\n",
              "5     23\n",
              "6     23\n",
              "7     24\n",
              "8     25\n",
              "9     25\n",
              "10    25\n",
              "11    25\n",
              "dtype: int64"
            ]
          },
          "metadata": {},
          "execution_count": 51
        }
      ]
    },
    {
      "cell_type": "markdown",
      "metadata": {
        "id": "o5IbFCpIJAEW"
      },
      "source": [
        "### **2. min**"
      ]
    },
    {
      "cell_type": "code",
      "metadata": {
        "id": "JvHl0FfqJDGm",
        "colab": {
          "base_uri": "https://localhost:8080/"
        },
        "outputId": "c171b8d2-d9c0-48aa-9f5b-b81b7d03fead"
      },
      "source": [
        "print(df.min())"
      ],
      "execution_count": 52,
      "outputs": [
        {
          "output_type": "stream",
          "name": "stdout",
          "text": [
            "Name       Ashravy\n",
            "UT               1\n",
            "Maths           12\n",
            "Science         15\n",
            "S.St            15\n",
            "Hindi           15\n",
            "Eng             13\n",
            "dtype: object\n"
          ]
        }
      ]
    },
    {
      "cell_type": "code",
      "metadata": {
        "colab": {
          "base_uri": "https://localhost:8080/"
        },
        "id": "ibWQVjFKKfmp",
        "outputId": "e786a4a5-5b5a-4e5c-c5eb-38161938b9e4"
      },
      "source": [
        "# Write the statements to display the minimum marks obtained by a particular student ‘Mishti’ in all the unit tests for each subject.\n",
        "\n",
        "print(df)\n",
        "\n",
        "df1 = df[df.loc[:,'Name'] == 'Mishti']\n",
        "\n",
        "print('\\n',df1.min())\n",
        "\n",
        "print('\\n',df1[['Maths','Science','S.St','Hindi','Eng']].min())"
      ],
      "execution_count": 65,
      "outputs": [
        {
          "output_type": "stream",
          "name": "stdout",
          "text": [
            "       Name  UT  Maths  Science  S.St  Hindi  Eng\n",
            "0     Raman   1     22       21    18     20   21\n",
            "1     Raman   2     21       20    17     22   24\n",
            "2     Raman   3     14       19    15     24   23\n",
            "3   Zuhaire   1     20       17    22     24   19\n",
            "4   Zuhaire   2     23       15    21     25   15\n",
            "5   Zuhaire   3     22       18    19     23   13\n",
            "6   Ashravy   1     23       19    20     15   22\n",
            "7   Ashravy   2     24       22    24     17   21\n",
            "8   Ashravy   3     12       25    19     21   23\n",
            "9    Mishti   1     15       22    25     22   22\n",
            "10   Mishti   2     18       21    25     24   23\n",
            "11   Mishti   3     17       18    20     25   20\n",
            "\n",
            " Name       Mishti\n",
            "UT              1\n",
            "Maths          15\n",
            "Science        18\n",
            "S.St           20\n",
            "Hindi          22\n",
            "Eng            20\n",
            "dtype: object\n",
            "\n",
            " Maths      15\n",
            "Science    18\n",
            "S.St       20\n",
            "Hindi      22\n",
            "Eng        20\n",
            "dtype: int64\n"
          ]
        }
      ]
    },
    {
      "cell_type": "markdown",
      "metadata": {
        "id": "t-DINpdFL7GI"
      },
      "source": [
        "### **3. sum**"
      ]
    },
    {
      "cell_type": "code",
      "metadata": {
        "colab": {
          "base_uri": "https://localhost:8080/"
        },
        "id": "2U9W0-8vMCmV",
        "outputId": "fc62e1c0-ca5c-449f-fd72-f33fe674725c"
      },
      "source": [
        "print(df.sum())\n",
        "print('\\n',df[['Maths','Science','S.St','Hindi','Eng']].sum())\n"
      ],
      "execution_count": 74,
      "outputs": [
        {
          "output_type": "stream",
          "name": "stdout",
          "text": [
            "Name       RamanRamanRamanZuhaireZuhaireZuhaireAshravyAsh...\n",
            "UT                                                        24\n",
            "Maths                                                    231\n",
            "Science                                                  237\n",
            "S.St                                                     245\n",
            "Hindi                                                    262\n",
            "Eng                                                      246\n",
            "dtype: object\n",
            "\n",
            " Maths      231\n",
            "Science    237\n",
            "S.St       245\n",
            "Hindi      262\n",
            "Eng        246\n",
            "dtype: int64\n"
          ]
        }
      ]
    },
    {
      "cell_type": "code",
      "metadata": {
        "colab": {
          "base_uri": "https://localhost:8080/"
        },
        "id": "7SkKV9ijMX0S",
        "outputId": "1c98cbec-fde4-4c7f-e71f-a4159123246e"
      },
      "source": [
        "#marks obtained by Raman in each test\n",
        "\n",
        "df1 = df[df.loc[:,'Name'] == 'Raman']\n",
        "print(df1)\n",
        "\n",
        "print('\\n', df1[['Maths','Science','S.St','Hindi','Eng']].sum())\n",
        "\n",
        "#print marks obtained by Raman in all subjects  in each unit test\n",
        "print('\\n', df1[['Maths','Science','S.St','Hindi','Eng']].sum(axis=1))"
      ],
      "execution_count": 72,
      "outputs": [
        {
          "output_type": "stream",
          "name": "stdout",
          "text": [
            "    Name  UT  Maths  Science  S.St  Hindi  Eng\n",
            "0  Raman   1     22       21    18     20   21\n",
            "1  Raman   2     21       20    17     22   24\n",
            "2  Raman   3     14       19    15     24   23\n",
            "\n",
            " Maths      57\n",
            "Science    60\n",
            "S.St       50\n",
            "Hindi      66\n",
            "Eng        68\n",
            "dtype: int64\n",
            "\n",
            " 0    102\n",
            "1    104\n",
            "2     95\n",
            "dtype: int64\n"
          ]
        }
      ]
    },
    {
      "cell_type": "markdown",
      "metadata": {
        "id": "a_ukLa86OH1B"
      },
      "source": [
        "### **4. calculating number of values**\n",
        "\n",
        "DataFrame.count() display the total number of values in each column or row in Dataframe. To count the rows we need to use the argument axis=1."
      ]
    },
    {
      "cell_type": "code",
      "metadata": {
        "colab": {
          "base_uri": "https://localhost:8080/"
        },
        "id": "axLoEonMOkNn",
        "outputId": "e01d87c8-c77d-4999-8924-b818a79676e7"
      },
      "source": [
        "print(df)\n",
        "\n",
        "print('\\n', df.count())\n",
        "\n",
        "# count no. of values in a row\n",
        "print('\\n', df.count(axis = 1))\n"
      ],
      "execution_count": 76,
      "outputs": [
        {
          "output_type": "stream",
          "name": "stdout",
          "text": [
            "       Name  UT  Maths  Science  S.St  Hindi  Eng\n",
            "0     Raman   1     22       21    18     20   21\n",
            "1     Raman   2     21       20    17     22   24\n",
            "2     Raman   3     14       19    15     24   23\n",
            "3   Zuhaire   1     20       17    22     24   19\n",
            "4   Zuhaire   2     23       15    21     25   15\n",
            "5   Zuhaire   3     22       18    19     23   13\n",
            "6   Ashravy   1     23       19    20     15   22\n",
            "7   Ashravy   2     24       22    24     17   21\n",
            "8   Ashravy   3     12       25    19     21   23\n",
            "9    Mishti   1     15       22    25     22   22\n",
            "10   Mishti   2     18       21    25     24   23\n",
            "11   Mishti   3     17       18    20     25   20\n",
            "\n",
            " Name       12\n",
            "UT         12\n",
            "Maths      12\n",
            "Science    12\n",
            "S.St       12\n",
            "Hindi      12\n",
            "Eng        12\n",
            "dtype: int64\n",
            "\n",
            " 0     7\n",
            "1     7\n",
            "2     7\n",
            "3     7\n",
            "4     7\n",
            "5     7\n",
            "6     7\n",
            "7     7\n",
            "8     7\n",
            "9     7\n",
            "10    7\n",
            "11    7\n",
            "dtype: int64\n"
          ]
        }
      ]
    },
    {
      "cell_type": "markdown",
      "metadata": {
        "id": "QKo_BUVuO358"
      },
      "source": [
        "### **5. Mean**\n",
        "\n",
        "DataFrame.mean() display mean(average) of the values in each column of dataframe. \n",
        "\n",
        "**It is applicable only for numerical values.**"
      ]
    },
    {
      "cell_type": "code",
      "metadata": {
        "colab": {
          "base_uri": "https://localhost:8080/"
        },
        "id": "7N_9l4XMPOCD",
        "outputId": "6e68e8a9-fdb6-4273-e42d-ffe8714e1163"
      },
      "source": [
        "print(df.mean())\n",
        "\n",
        "print('\\n',df['S.St'] . mean())"
      ],
      "execution_count": 79,
      "outputs": [
        {
          "output_type": "stream",
          "name": "stdout",
          "text": [
            "UT          2.000000\n",
            "Maths      19.250000\n",
            "Science    19.750000\n",
            "S.St       20.416667\n",
            "Hindi      21.833333\n",
            "Eng        20.500000\n",
            "dtype: float64\n",
            "\n",
            " 20.416666666666668\n"
          ]
        }
      ]
    },
    {
      "cell_type": "code",
      "metadata": {
        "colab": {
          "base_uri": "https://localhost:8080/"
        },
        "id": "--yEhkGqPed7",
        "outputId": "f67e6cbc-d34b-4614-8429-894e64a5f853"
      },
      "source": [
        "# Write the statements to get an average of marks obtained by Zuhaire in all the Unit Tests.\n",
        "\n",
        "print(df)\n",
        "\n",
        "df1 = df[df.loc[:,'Name'] == 'Zuhaire']\n",
        "print('\\n',df1)\n",
        "\n",
        "print('\\n',df1.mean(axis = 1))\n",
        "\n",
        "print('\\n',df1.loc[:,'Maths':'Eng'].mean(axis = 1))"
      ],
      "execution_count": 87,
      "outputs": [
        {
          "output_type": "stream",
          "name": "stdout",
          "text": [
            "       Name  UT  Maths  Science  S.St  Hindi  Eng\n",
            "0     Raman   1     22       21    18     20   21\n",
            "1     Raman   2     21       20    17     22   24\n",
            "2     Raman   3     14       19    15     24   23\n",
            "3   Zuhaire   1     20       17    22     24   19\n",
            "4   Zuhaire   2     23       15    21     25   15\n",
            "5   Zuhaire   3     22       18    19     23   13\n",
            "6   Ashravy   1     23       19    20     15   22\n",
            "7   Ashravy   2     24       22    24     17   21\n",
            "8   Ashravy   3     12       25    19     21   23\n",
            "9    Mishti   1     15       22    25     22   22\n",
            "10   Mishti   2     18       21    25     24   23\n",
            "11   Mishti   3     17       18    20     25   20\n",
            "\n",
            "       Name  UT  Maths  Science  S.St  Hindi  Eng\n",
            "3  Zuhaire   1     20       17    22     24   19\n",
            "4  Zuhaire   2     23       15    21     25   15\n",
            "5  Zuhaire   3     22       18    19     23   13\n",
            "\n",
            " 3    17.166667\n",
            "4    16.833333\n",
            "5    16.333333\n",
            "dtype: float64\n",
            "\n",
            " 3    20.4\n",
            "4    19.8\n",
            "5    19.0\n",
            "dtype: float64\n"
          ]
        }
      ]
    },
    {
      "cell_type": "markdown",
      "metadata": {
        "id": "8Gxe2Zi8QlGb"
      },
      "source": [
        "### **6. Median**\n",
        "\n",
        "DataFrame.median() display the middle value of the data. This function will display the median of the values of each column of a Dataframe. \n",
        "\n",
        "**It is applicable only for numerical values**"
      ]
    },
    {
      "cell_type": "code",
      "metadata": {
        "colab": {
          "base_uri": "https://localhost:8080/"
        },
        "id": "Z33_SxnARFAY",
        "outputId": "3ce62417-3ad5-4613-8a9a-4019c286621c"
      },
      "source": [
        "print(df.median())"
      ],
      "execution_count": 88,
      "outputs": [
        {
          "output_type": "stream",
          "name": "stdout",
          "text": [
            "UT          2.0\n",
            "Maths      20.5\n",
            "Science    19.5\n",
            "S.St       20.0\n",
            "Hindi      22.5\n",
            "Eng        21.5\n",
            "dtype: float64\n"
          ]
        }
      ]
    },
    {
      "cell_type": "code",
      "metadata": {
        "colab": {
          "base_uri": "https://localhost:8080/"
        },
        "id": "1zQgYSclRUt4",
        "outputId": "17c7ab50-c398-4e76-dbb3-c46a3b3f3260"
      },
      "source": [
        "# Write the statements to print the median marks of mathematics in UT1.\n",
        "\n",
        "print(df)\n",
        "\n",
        "df1=df[df['UT'] == 1]\n",
        "\n",
        "df1['Maths'].median()\n"
      ],
      "execution_count": 101,
      "outputs": [
        {
          "output_type": "stream",
          "name": "stdout",
          "text": [
            "       Name  UT  Maths  Science  S.St  Hindi  Eng\n",
            "0     Raman   1     22       21    18     20   21\n",
            "1     Raman   2     21       20    17     22   24\n",
            "2     Raman   3     14       19    15     24   23\n",
            "3   Zuhaire   1     20       17    22     24   19\n",
            "4   Zuhaire   2     23       15    21     25   15\n",
            "5   Zuhaire   3     22       18    19     23   13\n",
            "6   Ashravy   1     23       19    20     15   22\n",
            "7   Ashravy   2     24       22    24     17   21\n",
            "8   Ashravy   3     12       25    19     21   23\n",
            "9    Mishti   1     15       22    25     22   22\n",
            "10   Mishti   2     18       21    25     24   23\n",
            "11   Mishti   3     17       18    20     25   20\n"
          ]
        },
        {
          "output_type": "execute_result",
          "data": {
            "text/plain": [
              "21.0"
            ]
          },
          "metadata": {},
          "execution_count": 101
        }
      ]
    },
    {
      "cell_type": "markdown",
      "metadata": {
        "id": "WwfL81IIeBV9"
      },
      "source": [
        "### **7. Mode**\n",
        "\n",
        "DateFrame.mode() will display the mode. \n",
        "\n",
        "The mode is defined as the value that **appears the most number of times** in a data. \n",
        "\n",
        "This function will display the mode of each column or row of the DataFrame."
      ]
    },
    {
      "cell_type": "code",
      "metadata": {
        "colab": {
          "base_uri": "https://localhost:8080/"
        },
        "id": "EGJnaK4UeWKy",
        "outputId": "23fa811e-68d8-4a50-f87f-93946b7d6267"
      },
      "source": [
        "df['Hindi']"
      ],
      "execution_count": 102,
      "outputs": [
        {
          "output_type": "execute_result",
          "data": {
            "text/plain": [
              "0     20\n",
              "1     22\n",
              "2     24\n",
              "3     24\n",
              "4     25\n",
              "5     23\n",
              "6     15\n",
              "7     17\n",
              "8     21\n",
              "9     22\n",
              "10    24\n",
              "11    25\n",
              "Name: Hindi, dtype: int64"
            ]
          },
          "metadata": {},
          "execution_count": 102
        }
      ]
    },
    {
      "cell_type": "code",
      "metadata": {
        "colab": {
          "base_uri": "https://localhost:8080/"
        },
        "id": "hGFs__QDeWWb",
        "outputId": "5bf2baba-564b-49cd-e2e2-3882abbf7c09"
      },
      "source": [
        "# The mode of Hindi marks\n",
        "\n",
        "df['Hindi'].mode()"
      ],
      "execution_count": 103,
      "outputs": [
        {
          "output_type": "execute_result",
          "data": {
            "text/plain": [
              "0    24\n",
              "dtype: int64"
            ]
          },
          "metadata": {},
          "execution_count": 103
        }
      ]
    },
    {
      "cell_type": "markdown",
      "metadata": {
        "id": "iYu3MYYle7Pp"
      },
      "source": [
        "### **8. Calculating Quartile**\n",
        "\n",
        "Dataframe.quantile() is used to get the quartiles. \n",
        "\n",
        "It will output the quartile of each column or row of the DataFrame in four parts \n",
        "\n",
        "i.e. \n",
        "\n",
        "the first quartile is 25% (parameter q = .25), \n",
        "\n",
        "the second quartile is 50% (Median), \n",
        "\n",
        "the third quartile is 75% (parameter q = .75).\n",
        "\n",
        "**By default, it will display the second quantile (median) of all numeric values.**\n",
        "\n"
      ]
    },
    {
      "cell_type": "code",
      "metadata": {
        "colab": {
          "base_uri": "https://localhost:8080/"
        },
        "id": "ZLskKW71fUqM",
        "outputId": "5d14450a-616c-4aed-960b-28c952f56306"
      },
      "source": [
        "print(df,'\\n')\n",
        "\n",
        "df.quantile()"
      ],
      "execution_count": 105,
      "outputs": [
        {
          "output_type": "stream",
          "name": "stdout",
          "text": [
            "       Name  UT  Maths  Science  S.St  Hindi  Eng\n",
            "0     Raman   1     22       21    18     20   21\n",
            "1     Raman   2     21       20    17     22   24\n",
            "2     Raman   3     14       19    15     24   23\n",
            "3   Zuhaire   1     20       17    22     24   19\n",
            "4   Zuhaire   2     23       15    21     25   15\n",
            "5   Zuhaire   3     22       18    19     23   13\n",
            "6   Ashravy   1     23       19    20     15   22\n",
            "7   Ashravy   2     24       22    24     17   21\n",
            "8   Ashravy   3     12       25    19     21   23\n",
            "9    Mishti   1     15       22    25     22   22\n",
            "10   Mishti   2     18       21    25     24   23\n",
            "11   Mishti   3     17       18    20     25   20 \n",
            "\n"
          ]
        },
        {
          "output_type": "execute_result",
          "data": {
            "text/plain": [
              "UT          2.0\n",
              "Maths      20.5\n",
              "Science    19.5\n",
              "S.St       20.0\n",
              "Hindi      22.5\n",
              "Eng        21.5\n",
              "Name: 0.5, dtype: float64"
            ]
          },
          "metadata": {},
          "execution_count": 105
        }
      ]
    },
    {
      "cell_type": "code",
      "metadata": {
        "colab": {
          "base_uri": "https://localhost:8080/"
        },
        "id": "bpqZ7ANcgApn",
        "outputId": "3121001c-d813-47ef-9d6b-967da42e2b2c"
      },
      "source": [
        "df.quantile(q=.25)"
      ],
      "execution_count": 106,
      "outputs": [
        {
          "output_type": "execute_result",
          "data": {
            "text/plain": [
              "UT          1.00\n",
              "Maths      16.50\n",
              "Science    18.00\n",
              "S.St       18.75\n",
              "Hindi      20.75\n",
              "Eng        19.75\n",
              "Name: 0.25, dtype: float64"
            ]
          },
          "metadata": {},
          "execution_count": 106
        }
      ]
    },
    {
      "cell_type": "code",
      "metadata": {
        "colab": {
          "base_uri": "https://localhost:8080/"
        },
        "id": "CWA2YaO6gDaB",
        "outputId": "2ef6ac2d-4148-44da-9bcf-8a61ca516643"
      },
      "source": [
        "df.quantile(q=.75)"
      ],
      "execution_count": 107,
      "outputs": [
        {
          "output_type": "execute_result",
          "data": {
            "text/plain": [
              "UT          3.00\n",
              "Maths      22.25\n",
              "Science    21.25\n",
              "S.St       22.50\n",
              "Hindi      24.00\n",
              "Eng        23.00\n",
              "Name: 0.75, dtype: float64"
            ]
          },
          "metadata": {},
          "execution_count": 107
        }
      ]
    },
    {
      "cell_type": "code",
      "metadata": {
        "colab": {
          "base_uri": "https://localhost:8080/",
          "height": 332
        },
        "id": "XlCvWSn8gGlf",
        "outputId": "d6b4b006-e22c-4904-fa7e-17748a3919be"
      },
      "source": [
        "# Write the statement to display the first and third quartiles of all subjects\n",
        "\n",
        "df1=df.loc[:,'Maths':'Eng']\n",
        "print(df1)\n",
        "\n",
        "df1.quantile(q=[.25,.75])"
      ],
      "execution_count": 118,
      "outputs": [
        {
          "output_type": "stream",
          "name": "stdout",
          "text": [
            "    Maths  Science  S.St  Hindi  Eng\n",
            "0      22       21    18     20   21\n",
            "1      21       20    17     22   24\n",
            "2      14       19    15     24   23\n",
            "3      20       17    22     24   19\n",
            "4      23       15    21     25   15\n",
            "5      22       18    19     23   13\n",
            "6      23       19    20     15   22\n",
            "7      24       22    24     17   21\n",
            "8      12       25    19     21   23\n",
            "9      15       22    25     22   22\n",
            "10     18       21    25     24   23\n",
            "11     17       18    20     25   20\n"
          ]
        },
        {
          "output_type": "execute_result",
          "data": {
            "text/html": [
              "<div>\n",
              "<style scoped>\n",
              "    .dataframe tbody tr th:only-of-type {\n",
              "        vertical-align: middle;\n",
              "    }\n",
              "\n",
              "    .dataframe tbody tr th {\n",
              "        vertical-align: top;\n",
              "    }\n",
              "\n",
              "    .dataframe thead th {\n",
              "        text-align: right;\n",
              "    }\n",
              "</style>\n",
              "<table border=\"1\" class=\"dataframe\">\n",
              "  <thead>\n",
              "    <tr style=\"text-align: right;\">\n",
              "      <th></th>\n",
              "      <th>Maths</th>\n",
              "      <th>Science</th>\n",
              "      <th>S.St</th>\n",
              "      <th>Hindi</th>\n",
              "      <th>Eng</th>\n",
              "    </tr>\n",
              "  </thead>\n",
              "  <tbody>\n",
              "    <tr>\n",
              "      <th>0.25</th>\n",
              "      <td>16.50</td>\n",
              "      <td>18.00</td>\n",
              "      <td>18.75</td>\n",
              "      <td>20.75</td>\n",
              "      <td>19.75</td>\n",
              "    </tr>\n",
              "    <tr>\n",
              "      <th>0.75</th>\n",
              "      <td>22.25</td>\n",
              "      <td>21.25</td>\n",
              "      <td>22.50</td>\n",
              "      <td>24.00</td>\n",
              "      <td>23.00</td>\n",
              "    </tr>\n",
              "  </tbody>\n",
              "</table>\n",
              "</div>"
            ],
            "text/plain": [
              "      Maths  Science   S.St  Hindi    Eng\n",
              "0.25  16.50    18.00  18.75  20.75  19.75\n",
              "0.75  22.25    21.25  22.50  24.00  23.00"
            ]
          },
          "metadata": {},
          "execution_count": 118
        }
      ]
    },
    {
      "cell_type": "markdown",
      "metadata": {
        "id": "cwbwzoIWg-0x"
      },
      "source": [
        "### **9. Calculating Variance**\n",
        "\n",
        "DataFrame.var() is used to display the variance. \n",
        "\n",
        "It is the average of squared differences from the mean. \n",
        "\n"
      ]
    },
    {
      "cell_type": "code",
      "metadata": {
        "colab": {
          "base_uri": "https://localhost:8080/"
        },
        "id": "4Hr3UGw5hI5s",
        "outputId": "66422c3d-a2a6-4675-84fd-41aa486119a6"
      },
      "source": [
        "df[['Maths','Science','S.St','Hindi','Eng']].var()\n",
        "\n",
        "#or\n",
        "\n",
        "(df.loc[:,'Maths':'Eng']).var()"
      ],
      "execution_count": 121,
      "outputs": [
        {
          "output_type": "execute_result",
          "data": {
            "text/plain": [
              "Maths      15.840909\n",
              "Science     7.113636\n",
              "S.St        9.901515\n",
              "Hindi       9.969697\n",
              "Eng        11.363636\n",
              "dtype: float64"
            ]
          },
          "metadata": {},
          "execution_count": 121
        }
      ]
    },
    {
      "cell_type": "markdown",
      "metadata": {
        "id": "VPt6pVBLha01"
      },
      "source": [
        "### **10. Calculating Standard Deviation**\n",
        "\n",
        "\n",
        "DataFrame.std() returns the standard deviation of the values.\n",
        "\n",
        "Standard deviation is calculated as the square root of the variance."
      ]
    },
    {
      "cell_type": "code",
      "metadata": {
        "colab": {
          "base_uri": "https://localhost:8080/"
        },
        "id": "Ddl-p_cahizj",
        "outputId": "454eef43-724b-4b07-9036-24dcd918a76d"
      },
      "source": [
        "df[['Maths','Science','S.St','Hindi','Eng']].std()\n",
        "\n",
        "#or\n",
        "\n",
        "(df.loc[:,'Maths':'Eng']).std()"
      ],
      "execution_count": 124,
      "outputs": [
        {
          "output_type": "execute_result",
          "data": {
            "text/plain": [
              "Maths      3.980064\n",
              "Science    2.667140\n",
              "S.St       3.146667\n",
              "Hindi      3.157483\n",
              "Eng        3.370999\n",
              "dtype: float64"
            ]
          },
          "metadata": {},
          "execution_count": 124
        }
      ]
    },
    {
      "cell_type": "markdown",
      "metadata": {
        "id": "Jy_1Iaodh4Uf"
      },
      "source": [
        "##**DataFrame.describe()**\n",
        "\n",
        "DataFrame.describe() function displays the descriptive statistical values in a  single command.\n",
        "\n",
        "These values help us describe a set of data in a DataFrame."
      ]
    },
    {
      "cell_type": "code",
      "metadata": {
        "colab": {
          "base_uri": "https://localhost:8080/",
          "height": 297
        },
        "id": "92Rb0pxniDnj",
        "outputId": "2fc6c912-dc0d-4369-a73e-a8c7da7ee1fb"
      },
      "source": [
        "df.describe()"
      ],
      "execution_count": 125,
      "outputs": [
        {
          "output_type": "execute_result",
          "data": {
            "text/html": [
              "<div>\n",
              "<style scoped>\n",
              "    .dataframe tbody tr th:only-of-type {\n",
              "        vertical-align: middle;\n",
              "    }\n",
              "\n",
              "    .dataframe tbody tr th {\n",
              "        vertical-align: top;\n",
              "    }\n",
              "\n",
              "    .dataframe thead th {\n",
              "        text-align: right;\n",
              "    }\n",
              "</style>\n",
              "<table border=\"1\" class=\"dataframe\">\n",
              "  <thead>\n",
              "    <tr style=\"text-align: right;\">\n",
              "      <th></th>\n",
              "      <th>UT</th>\n",
              "      <th>Maths</th>\n",
              "      <th>Science</th>\n",
              "      <th>S.St</th>\n",
              "      <th>Hindi</th>\n",
              "      <th>Eng</th>\n",
              "    </tr>\n",
              "  </thead>\n",
              "  <tbody>\n",
              "    <tr>\n",
              "      <th>count</th>\n",
              "      <td>12.000000</td>\n",
              "      <td>12.000000</td>\n",
              "      <td>12.00000</td>\n",
              "      <td>12.000000</td>\n",
              "      <td>12.000000</td>\n",
              "      <td>12.000000</td>\n",
              "    </tr>\n",
              "    <tr>\n",
              "      <th>mean</th>\n",
              "      <td>2.000000</td>\n",
              "      <td>19.250000</td>\n",
              "      <td>19.75000</td>\n",
              "      <td>20.416667</td>\n",
              "      <td>21.833333</td>\n",
              "      <td>20.500000</td>\n",
              "    </tr>\n",
              "    <tr>\n",
              "      <th>std</th>\n",
              "      <td>0.852803</td>\n",
              "      <td>3.980064</td>\n",
              "      <td>2.66714</td>\n",
              "      <td>3.146667</td>\n",
              "      <td>3.157483</td>\n",
              "      <td>3.370999</td>\n",
              "    </tr>\n",
              "    <tr>\n",
              "      <th>min</th>\n",
              "      <td>1.000000</td>\n",
              "      <td>12.000000</td>\n",
              "      <td>15.00000</td>\n",
              "      <td>15.000000</td>\n",
              "      <td>15.000000</td>\n",
              "      <td>13.000000</td>\n",
              "    </tr>\n",
              "    <tr>\n",
              "      <th>25%</th>\n",
              "      <td>1.000000</td>\n",
              "      <td>16.500000</td>\n",
              "      <td>18.00000</td>\n",
              "      <td>18.750000</td>\n",
              "      <td>20.750000</td>\n",
              "      <td>19.750000</td>\n",
              "    </tr>\n",
              "    <tr>\n",
              "      <th>50%</th>\n",
              "      <td>2.000000</td>\n",
              "      <td>20.500000</td>\n",
              "      <td>19.50000</td>\n",
              "      <td>20.000000</td>\n",
              "      <td>22.500000</td>\n",
              "      <td>21.500000</td>\n",
              "    </tr>\n",
              "    <tr>\n",
              "      <th>75%</th>\n",
              "      <td>3.000000</td>\n",
              "      <td>22.250000</td>\n",
              "      <td>21.25000</td>\n",
              "      <td>22.500000</td>\n",
              "      <td>24.000000</td>\n",
              "      <td>23.000000</td>\n",
              "    </tr>\n",
              "    <tr>\n",
              "      <th>max</th>\n",
              "      <td>3.000000</td>\n",
              "      <td>24.000000</td>\n",
              "      <td>25.00000</td>\n",
              "      <td>25.000000</td>\n",
              "      <td>25.000000</td>\n",
              "      <td>24.000000</td>\n",
              "    </tr>\n",
              "  </tbody>\n",
              "</table>\n",
              "</div>"
            ],
            "text/plain": [
              "              UT      Maths   Science       S.St      Hindi        Eng\n",
              "count  12.000000  12.000000  12.00000  12.000000  12.000000  12.000000\n",
              "mean    2.000000  19.250000  19.75000  20.416667  21.833333  20.500000\n",
              "std     0.852803   3.980064   2.66714   3.146667   3.157483   3.370999\n",
              "min     1.000000  12.000000  15.00000  15.000000  15.000000  13.000000\n",
              "25%     1.000000  16.500000  18.00000  18.750000  20.750000  19.750000\n",
              "50%     2.000000  20.500000  19.50000  20.000000  22.500000  21.500000\n",
              "75%     3.000000  22.250000  21.25000  22.500000  24.000000  23.000000\n",
              "max     3.000000  24.000000  25.00000  25.000000  25.000000  24.000000"
            ]
          },
          "metadata": {},
          "execution_count": 125
        }
      ]
    }
  ]
}