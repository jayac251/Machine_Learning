{
  "nbformat": 4,
  "nbformat_minor": 0,
  "metadata": {
    "colab": {
      "name": "Series.ipynb",
      "provenance": [],
      "authorship_tag": "ABX9TyM9NawICHuXV/ao8mFedFzJ",
      "include_colab_link": true
    },
    "kernelspec": {
      "name": "python3",
      "display_name": "Python 3"
    },
    "language_info": {
      "name": "python"
    }
  },
  "cells": [
    {
      "cell_type": "markdown",
      "metadata": {
        "id": "view-in-github",
        "colab_type": "text"
      },
      "source": [
        "<a href=\"https://colab.research.google.com/github/jayac251/Machine_Learning/blob/main/Series.ipynb\" target=\"_parent\"><img src=\"https://colab.research.google.com/assets/colab-badge.svg\" alt=\"Open In Colab\"/></a>"
      ]
    },
    {
      "cell_type": "markdown",
      "metadata": {
        "id": "32Gl_N-MSi0o"
      },
      "source": [
        "## **Series Methods**\n",
        "\n",
        "\n"
      ]
    },
    {
      "cell_type": "code",
      "metadata": {
        "id": "kHHtIUrQSg8n"
      },
      "source": [
        "import pandas as pd"
      ],
      "execution_count": null,
      "outputs": []
    },
    {
      "cell_type": "code",
      "metadata": {
        "colab": {
          "base_uri": "https://localhost:8080/"
        },
        "id": "3ws_qhd2St5i",
        "outputId": "d77fac2d-d7d0-472d-b852-323ed0142477"
      },
      "source": [
        "prices = [2.99, 4.45, 1.36]\n",
        "\n",
        "s = pd.Series(prices)\n",
        "\n",
        "s"
      ],
      "execution_count": null,
      "outputs": [
        {
          "output_type": "execute_result",
          "data": {
            "text/plain": [
              "0    2.99\n",
              "1    4.45\n",
              "2    1.36\n",
              "dtype: float64"
            ]
          },
          "metadata": {},
          "execution_count": 2
        }
      ]
    },
    {
      "cell_type": "code",
      "metadata": {
        "colab": {
          "base_uri": "https://localhost:8080/"
        },
        "id": "xe31kowUS4ht",
        "outputId": "90ced44e-8e41-4c0d-e53e-9b374d1de644"
      },
      "source": [
        "s.sum()"
      ],
      "execution_count": null,
      "outputs": [
        {
          "output_type": "execute_result",
          "data": {
            "text/plain": [
              "8.8"
            ]
          },
          "metadata": {},
          "execution_count": 3
        }
      ]
    },
    {
      "cell_type": "code",
      "metadata": {
        "colab": {
          "base_uri": "https://localhost:8080/"
        },
        "id": "YQZ6PXLATDGO",
        "outputId": "77cfd7c0-9030-487a-9eea-0073d15fb2bc"
      },
      "source": [
        "s.product()"
      ],
      "execution_count": null,
      "outputs": [
        {
          "output_type": "execute_result",
          "data": {
            "text/plain": [
              "18.095480000000006"
            ]
          },
          "metadata": {},
          "execution_count": 4
        }
      ]
    },
    {
      "cell_type": "code",
      "metadata": {
        "colab": {
          "base_uri": "https://localhost:8080/"
        },
        "id": "S6z9ADywTFeh",
        "outputId": "690e9e6a-3d87-4a1b-b909-c29943b36f07"
      },
      "source": [
        "s.mean()"
      ],
      "execution_count": null,
      "outputs": [
        {
          "output_type": "execute_result",
          "data": {
            "text/plain": [
              "2.9333333333333336"
            ]
          },
          "metadata": {},
          "execution_count": 5
        }
      ]
    },
    {
      "cell_type": "markdown",
      "metadata": {
        "id": "sUY_yggTTV5Q"
      },
      "source": [
        "## **Parameters and Arguments**\n"
      ]
    },
    {
      "cell_type": "code",
      "metadata": {
        "colab": {
          "base_uri": "https://localhost:8080/"
        },
        "id": "OPgm1WQITcdJ",
        "outputId": "501052a0-6009-4da0-e61b-f644b8637cbd"
      },
      "source": [
        "# Difficulty - Easy, Medium, Hard\n",
        "# Volumne - 1 through 10\n",
        "# Subtitles - True / False\n",
        "\n",
        "fruits  = ['apple','banana','orange']\n",
        "weekdays = ['sunday','monday','tuesday']\n",
        "\n",
        "pd.Series(fruits,weekdays) #pd.Series(data,index)\n"
      ],
      "execution_count": null,
      "outputs": [
        {
          "output_type": "execute_result",
          "data": {
            "text/plain": [
              "sunday      apple\n",
              "monday     banana\n",
              "tuesday    orange\n",
              "dtype: object"
            ]
          },
          "metadata": {},
          "execution_count": 6
        }
      ]
    },
    {
      "cell_type": "code",
      "metadata": {
        "colab": {
          "base_uri": "https://localhost:8080/"
        },
        "id": "STAYEzS9UpVJ",
        "outputId": "3896c50f-b51b-4cf0-c0dd-fea9f5a3b848"
      },
      "source": [
        "pd.Series(data = fruits, index = weekdays)"
      ],
      "execution_count": null,
      "outputs": [
        {
          "output_type": "execute_result",
          "data": {
            "text/plain": [
              "sunday      apple\n",
              "monday     banana\n",
              "tuesday    orange\n",
              "dtype: object"
            ]
          },
          "metadata": {},
          "execution_count": 7
        }
      ]
    },
    {
      "cell_type": "code",
      "metadata": {
        "colab": {
          "base_uri": "https://localhost:8080/"
        },
        "id": "1RJGanL3icKm",
        "outputId": "8ad1aa61-9224-4e7a-dadd-61473e04cd1b"
      },
      "source": [
        "# mounting google drive\n",
        "from google.colab import drive\n",
        "drive.mount(\"/gdrive\")"
      ],
      "execution_count": null,
      "outputs": [
        {
          "output_type": "stream",
          "name": "stdout",
          "text": [
            "Mounted at /gdrive\n"
          ]
        }
      ]
    },
    {
      "cell_type": "code",
      "metadata": {
        "colab": {
          "base_uri": "https://localhost:8080/",
          "height": 204
        },
        "id": "MFmr5PwdieBD",
        "outputId": "ef56f404-d9ed-4c18-b59c-55a33abb823e"
      },
      "source": [
        "df = pd.read_csv(\"/gdrive/My Drive/Colab Notebooks/pokemon.csv\")\n",
        "df.head()"
      ],
      "execution_count": null,
      "outputs": [
        {
          "output_type": "execute_result",
          "data": {
            "text/html": [
              "<div>\n",
              "<style scoped>\n",
              "    .dataframe tbody tr th:only-of-type {\n",
              "        vertical-align: middle;\n",
              "    }\n",
              "\n",
              "    .dataframe tbody tr th {\n",
              "        vertical-align: top;\n",
              "    }\n",
              "\n",
              "    .dataframe thead th {\n",
              "        text-align: right;\n",
              "    }\n",
              "</style>\n",
              "<table border=\"1\" class=\"dataframe\">\n",
              "  <thead>\n",
              "    <tr style=\"text-align: right;\">\n",
              "      <th></th>\n",
              "      <th>Pokemon</th>\n",
              "      <th>Type</th>\n",
              "    </tr>\n",
              "  </thead>\n",
              "  <tbody>\n",
              "    <tr>\n",
              "      <th>0</th>\n",
              "      <td>Bulbasaur</td>\n",
              "      <td>Grass</td>\n",
              "    </tr>\n",
              "    <tr>\n",
              "      <th>1</th>\n",
              "      <td>Ivysaur</td>\n",
              "      <td>Grass</td>\n",
              "    </tr>\n",
              "    <tr>\n",
              "      <th>2</th>\n",
              "      <td>Venusaur</td>\n",
              "      <td>Grass</td>\n",
              "    </tr>\n",
              "    <tr>\n",
              "      <th>3</th>\n",
              "      <td>Charmander</td>\n",
              "      <td>Fire</td>\n",
              "    </tr>\n",
              "    <tr>\n",
              "      <th>4</th>\n",
              "      <td>Charmeleon</td>\n",
              "      <td>Fire</td>\n",
              "    </tr>\n",
              "  </tbody>\n",
              "</table>\n",
              "</div>"
            ],
            "text/plain": [
              "      Pokemon   Type\n",
              "0   Bulbasaur  Grass\n",
              "1     Ivysaur  Grass\n",
              "2    Venusaur  Grass\n",
              "3  Charmander   Fire\n",
              "4  Charmeleon   Fire"
            ]
          },
          "metadata": {},
          "execution_count": 3
        }
      ]
    },
    {
      "cell_type": "code",
      "metadata": {
        "colab": {
          "base_uri": "https://localhost:8080/"
        },
        "id": "hh20bLP3i1yC",
        "outputId": "974a0593-0eb4-4de0-d238-3f01c29c109e"
      },
      "source": [
        "pd.read_csv(\"/gdrive/My Drive/Colab Notebooks/pokemon.csv\", usecols = ['Pokemon'])\n",
        "pokemon = pd.read_csv(\"/gdrive/My Drive/Colab Notebooks/pokemon.csv\", usecols = ['Pokemon'], squeeze = True)\n",
        "#squeeze = converts the data to series instead of Dataframe\n",
        "\n",
        "pokemon"
      ],
      "execution_count": null,
      "outputs": [
        {
          "output_type": "execute_result",
          "data": {
            "text/plain": [
              "0       Bulbasaur\n",
              "1         Ivysaur\n",
              "2        Venusaur\n",
              "3      Charmander\n",
              "4      Charmeleon\n",
              "          ...    \n",
              "716       Yveltal\n",
              "717       Zygarde\n",
              "718       Diancie\n",
              "719         Hoopa\n",
              "720     Volcanion\n",
              "Name: Pokemon, Length: 721, dtype: object"
            ]
          },
          "metadata": {},
          "execution_count": 4
        }
      ]
    },
    {
      "cell_type": "code",
      "metadata": {
        "colab": {
          "base_uri": "https://localhost:8080/"
        },
        "id": "3e2crwEmlHHm",
        "outputId": "e3e6c0ae-9189-4da5-89f4-b4224820755a"
      },
      "source": [
        "len(pokemon)"
      ],
      "execution_count": null,
      "outputs": [
        {
          "output_type": "execute_result",
          "data": {
            "text/plain": [
              "721"
            ]
          },
          "metadata": {},
          "execution_count": 13
        }
      ]
    },
    {
      "cell_type": "code",
      "metadata": {
        "colab": {
          "base_uri": "https://localhost:8080/"
        },
        "id": "JMHjRvkwlMg2",
        "outputId": "ab1d549b-d8d0-4ce5-99dd-0e52ada981f6"
      },
      "source": [
        "type(pokemon)"
      ],
      "execution_count": null,
      "outputs": [
        {
          "output_type": "execute_result",
          "data": {
            "text/plain": [
              "pandas.core.series.Series"
            ]
          },
          "metadata": {},
          "execution_count": 14
        }
      ]
    },
    {
      "cell_type": "code",
      "metadata": {
        "id": "bPqZQvTqlTGS"
      },
      "source": [
        "dir(pokemon)\n",
        "\n",
        "#shows attributes and methods for the object"
      ],
      "execution_count": null,
      "outputs": []
    },
    {
      "cell_type": "code",
      "metadata": {
        "colab": {
          "base_uri": "https://localhost:8080/"
        },
        "id": "25Go4nk7l4Gj",
        "outputId": "b98c6af2-6aba-427e-e999-ada339424892"
      },
      "source": [
        "sorted(pokemon)"
      ],
      "execution_count": null,
      "outputs": [
        {
          "output_type": "execute_result",
          "data": {
            "text/plain": [
              "['Abomasnow',\n",
              " 'Abra',\n",
              " 'Absol',\n",
              " 'Accelgor',\n",
              " 'Aegislash',\n",
              " 'Aerodactyl',\n",
              " 'Aggron',\n",
              " 'Aipom',\n",
              " 'Alakazam',\n",
              " 'Alomomola',\n",
              " 'Altaria',\n",
              " 'Amaura',\n",
              " 'Ambipom',\n",
              " 'Amoonguss',\n",
              " 'Ampharos',\n",
              " 'Anorith',\n",
              " 'Arbok',\n",
              " 'Arcanine',\n",
              " 'Arceus',\n",
              " 'Archen',\n",
              " 'Archeops',\n",
              " 'Ariados',\n",
              " 'Armaldo',\n",
              " 'Aromatisse',\n",
              " 'Aron',\n",
              " 'Articuno',\n",
              " 'Audino',\n",
              " 'Aurorus',\n",
              " 'Avalugg',\n",
              " 'Axew',\n",
              " 'Azelf',\n",
              " 'Azumarill',\n",
              " 'Azurill',\n",
              " 'Bagon',\n",
              " 'Baltoy',\n",
              " 'Banette',\n",
              " 'Barbaracle',\n",
              " 'Barboach',\n",
              " 'Basculin',\n",
              " 'Bastiodon',\n",
              " 'Bayleef',\n",
              " 'Beartic',\n",
              " 'Beautifly',\n",
              " 'Beedrill',\n",
              " 'Beheeyem',\n",
              " 'Beldum',\n",
              " 'Bellossom',\n",
              " 'Bellsprout',\n",
              " 'Bergmite',\n",
              " 'Bibarel',\n",
              " 'Bidoof',\n",
              " 'Binacle',\n",
              " 'Bisharp',\n",
              " 'Blastoise',\n",
              " 'Blaziken',\n",
              " 'Blissey',\n",
              " 'Blitzle',\n",
              " 'Boldore',\n",
              " 'Bonsly',\n",
              " 'Bouffalant',\n",
              " 'Braixen',\n",
              " 'Braviary',\n",
              " 'Breloom',\n",
              " 'Bronzong',\n",
              " 'Bronzor',\n",
              " 'Budew',\n",
              " 'Buizel',\n",
              " 'Bulbasaur',\n",
              " 'Buneary',\n",
              " 'Bunnelby',\n",
              " 'Burmy',\n",
              " 'Butterfree',\n",
              " 'Cacnea',\n",
              " 'Cacturne',\n",
              " 'Camerupt',\n",
              " 'Carbink',\n",
              " 'Carnivine',\n",
              " 'Carracosta',\n",
              " 'Carvanha',\n",
              " 'Cascoon',\n",
              " 'Castform',\n",
              " 'Caterpie',\n",
              " 'Celebi',\n",
              " 'Chandelure',\n",
              " 'Chansey',\n",
              " 'Charizard',\n",
              " 'Charmander',\n",
              " 'Charmeleon',\n",
              " 'Chatot',\n",
              " 'Cherrim',\n",
              " 'Cherubi',\n",
              " 'Chesnaught',\n",
              " 'Chespin',\n",
              " 'Chikorita',\n",
              " 'Chimchar',\n",
              " 'Chimecho',\n",
              " 'Chinchou',\n",
              " 'Chingling',\n",
              " 'Cinccino',\n",
              " 'Clamperl',\n",
              " 'Clauncher',\n",
              " 'Clawitzer',\n",
              " 'Claydol',\n",
              " 'Clefable',\n",
              " 'Clefairy',\n",
              " 'Cleffa',\n",
              " 'Cloyster',\n",
              " 'Cobalion',\n",
              " 'Cofagrigus',\n",
              " 'Combee',\n",
              " 'Combusken',\n",
              " 'Conkeldurr',\n",
              " 'Corphish',\n",
              " 'Corsola',\n",
              " 'Cottonee',\n",
              " 'Cradily',\n",
              " 'Cranidos',\n",
              " 'Crawdaunt',\n",
              " 'Cresselia',\n",
              " 'Croagunk',\n",
              " 'Crobat',\n",
              " 'Croconaw',\n",
              " 'Crustle',\n",
              " 'Cryogonal',\n",
              " 'Cubchoo',\n",
              " 'Cubone',\n",
              " 'Cyndaquil',\n",
              " 'Darkrai',\n",
              " 'Darmanitan',\n",
              " 'Darumaka',\n",
              " 'Dedenne',\n",
              " 'Deerling',\n",
              " 'Deino',\n",
              " 'Delcatty',\n",
              " 'Delibird',\n",
              " 'Delphox',\n",
              " 'Deoxys',\n",
              " 'Dewgong',\n",
              " 'Dewott',\n",
              " 'Dialga',\n",
              " 'Diancie',\n",
              " 'Diggersby',\n",
              " 'Diglett',\n",
              " 'Ditto',\n",
              " 'Dodrio',\n",
              " 'Doduo',\n",
              " 'Donphan',\n",
              " 'Doublade',\n",
              " 'Dragalge',\n",
              " 'Dragonair',\n",
              " 'Dragonite',\n",
              " 'Drapion',\n",
              " 'Dratini',\n",
              " 'Drifblim',\n",
              " 'Drifloon',\n",
              " 'Drilbur',\n",
              " 'Drowzee',\n",
              " 'Druddigon',\n",
              " 'Ducklett',\n",
              " 'Dugtrio',\n",
              " 'Dunsparce',\n",
              " 'Duosion',\n",
              " 'Durant',\n",
              " 'Dusclops',\n",
              " 'Dusknoir',\n",
              " 'Duskull',\n",
              " 'Dustox',\n",
              " 'Dwebble',\n",
              " 'Eelektrik',\n",
              " 'Eelektross',\n",
              " 'Eevee',\n",
              " 'Ekans',\n",
              " 'Electabuzz',\n",
              " 'Electivire',\n",
              " 'Electrike',\n",
              " 'Electrode',\n",
              " 'Elekid',\n",
              " 'Elgyem',\n",
              " 'Emboar',\n",
              " 'Emolga',\n",
              " 'Empoleon',\n",
              " 'Entei',\n",
              " 'Escavalier',\n",
              " 'Espeon',\n",
              " 'Espurr',\n",
              " 'Excadrill',\n",
              " 'Exeggcute',\n",
              " 'Exeggutor',\n",
              " 'Exploud',\n",
              " \"Farfetch'd\",\n",
              " 'Fearow',\n",
              " 'Feebas',\n",
              " 'Fennekin',\n",
              " 'Feraligatr',\n",
              " 'Ferroseed',\n",
              " 'Ferrothorn',\n",
              " 'Finneon',\n",
              " 'Flaaffy',\n",
              " 'Flabébé',\n",
              " 'Flareon',\n",
              " 'Fletchinder',\n",
              " 'Fletchling',\n",
              " 'Floatzel',\n",
              " 'Floette',\n",
              " 'Florges',\n",
              " 'Flygon',\n",
              " 'Foongus',\n",
              " 'Forretress',\n",
              " 'Fraxure',\n",
              " 'Frillish',\n",
              " 'Froakie',\n",
              " 'Frogadier',\n",
              " 'Froslass',\n",
              " 'Furfrou',\n",
              " 'Furret',\n",
              " 'Gabite',\n",
              " 'Gallade',\n",
              " 'Galvantula',\n",
              " 'Garbodor',\n",
              " 'Garchomp',\n",
              " 'Gardevoir',\n",
              " 'Gastly',\n",
              " 'Gastrodon',\n",
              " 'Genesect',\n",
              " 'Gengar',\n",
              " 'Geodude',\n",
              " 'Gible',\n",
              " 'Gigalith',\n",
              " 'Girafarig',\n",
              " 'Giratina',\n",
              " 'Glaceon',\n",
              " 'Glalie',\n",
              " 'Glameow',\n",
              " 'Gligar',\n",
              " 'Gliscor',\n",
              " 'Gloom',\n",
              " 'Gogoat',\n",
              " 'Golbat',\n",
              " 'Goldeen',\n",
              " 'Golduck',\n",
              " 'Golem',\n",
              " 'Golett',\n",
              " 'Golurk',\n",
              " 'Goodra',\n",
              " 'Goomy',\n",
              " 'Gorebyss',\n",
              " 'Gothita',\n",
              " 'Gothitelle',\n",
              " 'Gothorita',\n",
              " 'Gourgeist',\n",
              " 'Granbull',\n",
              " 'Graveler',\n",
              " 'Greninja',\n",
              " 'Grimer',\n",
              " 'Grotle',\n",
              " 'Groudon',\n",
              " 'Grovyle',\n",
              " 'Growlithe',\n",
              " 'Grumpig',\n",
              " 'Gulpin',\n",
              " 'Gurdurr',\n",
              " 'Gyarados',\n",
              " 'Happiny',\n",
              " 'Hariyama',\n",
              " 'Haunter',\n",
              " 'Hawlucha',\n",
              " 'Haxorus',\n",
              " 'Heatmor',\n",
              " 'Heatran',\n",
              " 'Heliolisk',\n",
              " 'Helioptile',\n",
              " 'Heracross',\n",
              " 'Herdier',\n",
              " 'Hippopotas',\n",
              " 'Hippowdon',\n",
              " 'Hitmonchan',\n",
              " 'Hitmonlee',\n",
              " 'Hitmontop',\n",
              " 'Ho-oh',\n",
              " 'Honchkrow',\n",
              " 'Honedge',\n",
              " 'Hoopa',\n",
              " 'Hoothoot',\n",
              " 'Hoppip',\n",
              " 'Horsea',\n",
              " 'Houndoom',\n",
              " 'Houndour',\n",
              " 'Huntail',\n",
              " 'Hydreigon',\n",
              " 'Hypno',\n",
              " 'Igglybuff',\n",
              " 'Illumise',\n",
              " 'Infernape',\n",
              " 'Inkay',\n",
              " 'Ivysaur',\n",
              " 'Jellicent',\n",
              " 'Jigglypuff',\n",
              " 'Jirachi',\n",
              " 'Jolteon',\n",
              " 'Joltik',\n",
              " 'Jumpluff',\n",
              " 'Jynx',\n",
              " 'Kabuto',\n",
              " 'Kabutops',\n",
              " 'Kadabra',\n",
              " 'Kakuna',\n",
              " 'Kangaskhan',\n",
              " 'Karrablast',\n",
              " 'Kecleon',\n",
              " 'Keldeo',\n",
              " 'Kingdra',\n",
              " 'Kingler',\n",
              " 'Kirlia',\n",
              " 'Klang',\n",
              " 'Klefki',\n",
              " 'Klink',\n",
              " 'Klinklang',\n",
              " 'Koffing',\n",
              " 'Krabby',\n",
              " 'Kricketot',\n",
              " 'Kricketune',\n",
              " 'Krokorok',\n",
              " 'Krookodile',\n",
              " 'Kyogre',\n",
              " 'Kyurem',\n",
              " 'Lairon',\n",
              " 'Lampent',\n",
              " 'Landorus',\n",
              " 'Lanturn',\n",
              " 'Lapras',\n",
              " 'Larvesta',\n",
              " 'Larvitar',\n",
              " 'Latias',\n",
              " 'Latios',\n",
              " 'Leafeon',\n",
              " 'Leavanny',\n",
              " 'Ledian',\n",
              " 'Ledyba',\n",
              " 'Lickilicky',\n",
              " 'Lickitung',\n",
              " 'Liepard',\n",
              " 'Lileep',\n",
              " 'Lilligant',\n",
              " 'Lillipup',\n",
              " 'Linoone',\n",
              " 'Litleo',\n",
              " 'Litwick',\n",
              " 'Lombre',\n",
              " 'Lopunny',\n",
              " 'Lotad',\n",
              " 'Loudred',\n",
              " 'Lucario',\n",
              " 'Ludicolo',\n",
              " 'Lugia',\n",
              " 'Lumineon',\n",
              " 'Lunatone',\n",
              " 'Luvdisc',\n",
              " 'Luxio',\n",
              " 'Luxray',\n",
              " 'Machamp',\n",
              " 'Machoke',\n",
              " 'Machop',\n",
              " 'Magby',\n",
              " 'Magcargo',\n",
              " 'Magikarp',\n",
              " 'Magmar',\n",
              " 'Magmortar',\n",
              " 'Magnemite',\n",
              " 'Magneton',\n",
              " 'Magnezone',\n",
              " 'Makuhita',\n",
              " 'Malamar',\n",
              " 'Mamoswine',\n",
              " 'Manaphy',\n",
              " 'Mandibuzz',\n",
              " 'Manectric',\n",
              " 'Mankey',\n",
              " 'Mantine',\n",
              " 'Mantyke',\n",
              " 'Maractus',\n",
              " 'Mareep',\n",
              " 'Marill',\n",
              " 'Marowak',\n",
              " 'Marshtomp',\n",
              " 'Masquerain',\n",
              " 'Mawile',\n",
              " 'Medicham',\n",
              " 'Meditite',\n",
              " 'Meganium',\n",
              " 'Meloetta',\n",
              " 'Meowstic',\n",
              " 'Meowth',\n",
              " 'Mesprit',\n",
              " 'Metagross',\n",
              " 'Metang',\n",
              " 'Metapod',\n",
              " 'Mew',\n",
              " 'Mewtwo',\n",
              " 'Mienfoo',\n",
              " 'Mienshao',\n",
              " 'Mightyena',\n",
              " 'Milotic',\n",
              " 'Miltank',\n",
              " 'Mime Jr.',\n",
              " 'Minccino',\n",
              " 'Minun',\n",
              " 'Misdreavus',\n",
              " 'Mismagius',\n",
              " 'Moltres',\n",
              " 'Monferno',\n",
              " 'Mothim',\n",
              " 'Mr. Mime',\n",
              " 'Mudkip',\n",
              " 'Muk',\n",
              " 'Munchlax',\n",
              " 'Munna',\n",
              " 'Murkrow',\n",
              " 'Musharna',\n",
              " 'Natu',\n",
              " 'Nidoking',\n",
              " 'Nidoqueen',\n",
              " 'Nidoran',\n",
              " 'Nidoran♂',\n",
              " 'Nidorina',\n",
              " 'Nidorino',\n",
              " 'Nincada',\n",
              " 'Ninetales',\n",
              " 'Ninjask',\n",
              " 'Noctowl',\n",
              " 'Noibat',\n",
              " 'Noivern',\n",
              " 'Nosepass',\n",
              " 'Numel',\n",
              " 'Nuzleaf',\n",
              " 'Octillery',\n",
              " 'Oddish',\n",
              " 'Omanyte',\n",
              " 'Omastar',\n",
              " 'Onix',\n",
              " 'Oshawott',\n",
              " 'Pachirisu',\n",
              " 'Palkia',\n",
              " 'Palpitoad',\n",
              " 'Pancham',\n",
              " 'Pangoro',\n",
              " 'Panpour',\n",
              " 'Pansage',\n",
              " 'Pansear',\n",
              " 'Paras',\n",
              " 'Parasect',\n",
              " 'Patrat',\n",
              " 'Pawniard',\n",
              " 'Pelipper',\n",
              " 'Persian',\n",
              " 'Petilil',\n",
              " 'Phanpy',\n",
              " 'Phantump',\n",
              " 'Phione',\n",
              " 'Pichu',\n",
              " 'Pidgeot',\n",
              " 'Pidgeotto',\n",
              " 'Pidgey',\n",
              " 'Pidove',\n",
              " 'Pignite',\n",
              " 'Pikachu',\n",
              " 'Piloswine',\n",
              " 'Pineco',\n",
              " 'Pinsir',\n",
              " 'Piplup',\n",
              " 'Plusle',\n",
              " 'Politoed',\n",
              " 'Poliwag',\n",
              " 'Poliwhirl',\n",
              " 'Poliwrath',\n",
              " 'Ponyta',\n",
              " 'Poochyena',\n",
              " 'Porygon',\n",
              " 'Porygon-Z',\n",
              " 'Porygon2',\n",
              " 'Primeape',\n",
              " 'Prinplup',\n",
              " 'Probopass',\n",
              " 'Psyduck',\n",
              " 'Pumpkaboo',\n",
              " 'Pupitar',\n",
              " 'Purrloin',\n",
              " 'Purugly',\n",
              " 'Pyroar',\n",
              " 'Quagsire',\n",
              " 'Quilava',\n",
              " 'Quilladin',\n",
              " 'Qwilfish',\n",
              " 'Raichu',\n",
              " 'Raikou',\n",
              " 'Ralts',\n",
              " 'Rampardos',\n",
              " 'Rapidash',\n",
              " 'Raticate',\n",
              " 'Rattata',\n",
              " 'Rayquaza',\n",
              " 'Regice',\n",
              " 'Regigigas',\n",
              " 'Regirock',\n",
              " 'Registeel',\n",
              " 'Relicanth',\n",
              " 'Remoraid',\n",
              " 'Reshiram',\n",
              " 'Reuniclus',\n",
              " 'Rhydon',\n",
              " 'Rhyhorn',\n",
              " 'Rhyperior',\n",
              " 'Riolu',\n",
              " 'Roggenrola',\n",
              " 'Roselia',\n",
              " 'Roserade',\n",
              " 'Rotom',\n",
              " 'Rufflet',\n",
              " 'Sableye',\n",
              " 'Salamence',\n",
              " 'Samurott',\n",
              " 'Sandile',\n",
              " 'Sandshrew',\n",
              " 'Sandslash',\n",
              " 'Sawk',\n",
              " 'Sawsbuck',\n",
              " 'Scatterbug',\n",
              " 'Sceptile',\n",
              " 'Scizor',\n",
              " 'Scolipede',\n",
              " 'Scrafty',\n",
              " 'Scraggy',\n",
              " 'Scyther',\n",
              " 'Seadra',\n",
              " 'Seaking',\n",
              " 'Sealeo',\n",
              " 'Seedot',\n",
              " 'Seel',\n",
              " 'Seismitoad',\n",
              " 'Sentret',\n",
              " 'Serperior',\n",
              " 'Servine',\n",
              " 'Seviper',\n",
              " 'Sewaddle',\n",
              " 'Sharpedo',\n",
              " 'Shaymin',\n",
              " 'Shedinja',\n",
              " 'Shelgon',\n",
              " 'Shellder',\n",
              " 'Shellos',\n",
              " 'Shelmet',\n",
              " 'Shieldon',\n",
              " 'Shiftry',\n",
              " 'Shinx',\n",
              " 'Shroomish',\n",
              " 'Shuckle',\n",
              " 'Shuppet',\n",
              " 'Sigilyph',\n",
              " 'Silcoon',\n",
              " 'Simipour',\n",
              " 'Simisage',\n",
              " 'Simisear',\n",
              " 'Skarmory',\n",
              " 'Skiddo',\n",
              " 'Skiploom',\n",
              " 'Skitty',\n",
              " 'Skorupi',\n",
              " 'Skrelp',\n",
              " 'Skuntank',\n",
              " 'Slaking',\n",
              " 'Slakoth',\n",
              " 'Sliggoo',\n",
              " 'Slowbro',\n",
              " 'Slowking',\n",
              " 'Slowpoke',\n",
              " 'Slugma',\n",
              " 'Slurpuff',\n",
              " 'Smeargle',\n",
              " 'Smoochum',\n",
              " 'Sneasel',\n",
              " 'Snivy',\n",
              " 'Snorlax',\n",
              " 'Snorunt',\n",
              " 'Snover',\n",
              " 'Snubbull',\n",
              " 'Solosis',\n",
              " 'Solrock',\n",
              " 'Spearow',\n",
              " 'Spewpa',\n",
              " 'Spheal',\n",
              " 'Spinarak',\n",
              " 'Spinda',\n",
              " 'Spiritomb',\n",
              " 'Spoink',\n",
              " 'Spritzee',\n",
              " 'Squirtle',\n",
              " 'Stantler',\n",
              " 'Staraptor',\n",
              " 'Staravia',\n",
              " 'Starly',\n",
              " 'Starmie',\n",
              " 'Staryu',\n",
              " 'Steelix',\n",
              " 'Stoutland',\n",
              " 'Stunfisk',\n",
              " 'Stunky',\n",
              " 'Sudowoodo',\n",
              " 'Suicune',\n",
              " 'Sunflora',\n",
              " 'Sunkern',\n",
              " 'Surskit',\n",
              " 'Swablu',\n",
              " 'Swadloon',\n",
              " 'Swalot',\n",
              " 'Swampert',\n",
              " 'Swanna',\n",
              " 'Swellow',\n",
              " 'Swinub',\n",
              " 'Swirlix',\n",
              " 'Swoobat',\n",
              " 'Sylveon',\n",
              " 'Taillow',\n",
              " 'Talonflame',\n",
              " 'Tangela',\n",
              " 'Tangrowth',\n",
              " 'Tauros',\n",
              " 'Teddiursa',\n",
              " 'Tentacool',\n",
              " 'Tentacruel',\n",
              " 'Tepig',\n",
              " 'Terrakion',\n",
              " 'Throh',\n",
              " 'Thundurus',\n",
              " 'Timburr',\n",
              " 'Tirtouga',\n",
              " 'Togekiss',\n",
              " 'Togepi',\n",
              " 'Togetic',\n",
              " 'Torchic',\n",
              " 'Torkoal',\n",
              " 'Tornadus',\n",
              " 'Torterra',\n",
              " 'Totodile',\n",
              " 'Toxicroak',\n",
              " 'Tranquill',\n",
              " 'Trapinch',\n",
              " 'Treecko',\n",
              " 'Trevenant',\n",
              " 'Tropius',\n",
              " 'Trubbish',\n",
              " 'Turtwig',\n",
              " 'Tympole',\n",
              " 'Tynamo',\n",
              " 'Typhlosion',\n",
              " 'Tyranitar',\n",
              " 'Tyrantrum',\n",
              " 'Tyrogue',\n",
              " 'Tyrunt',\n",
              " 'Umbreon',\n",
              " 'Unfezant',\n",
              " 'Unown',\n",
              " 'Ursaring',\n",
              " 'Uxie',\n",
              " 'Vanillish',\n",
              " 'Vanillite',\n",
              " 'Vanilluxe',\n",
              " 'Vaporeon',\n",
              " 'Venipede',\n",
              " 'Venomoth',\n",
              " 'Venonat',\n",
              " 'Venusaur',\n",
              " 'Vespiquen',\n",
              " 'Vibrava',\n",
              " 'Victini',\n",
              " 'Victreebel',\n",
              " 'Vigoroth',\n",
              " 'Vileplume',\n",
              " 'Virizion',\n",
              " 'Vivillon',\n",
              " 'Volbeat',\n",
              " 'Volcanion',\n",
              " 'Volcarona',\n",
              " 'Voltorb',\n",
              " 'Vullaby',\n",
              " 'Vulpix',\n",
              " 'Wailmer',\n",
              " 'Wailord',\n",
              " 'Walrein',\n",
              " 'Wartortle',\n",
              " 'Watchog',\n",
              " 'Weavile',\n",
              " 'Weedle',\n",
              " 'Weepinbell',\n",
              " 'Weezing',\n",
              " 'Whimsicott',\n",
              " 'Whirlipede',\n",
              " 'Whiscash',\n",
              " 'Whismur',\n",
              " 'Wigglytuff',\n",
              " 'Wingull',\n",
              " 'Wobbuffet',\n",
              " 'Woobat',\n",
              " 'Wooper',\n",
              " 'Wormadam',\n",
              " 'Wurmple',\n",
              " 'Wynaut',\n",
              " 'Xatu',\n",
              " 'Xerneas',\n",
              " 'Yamask',\n",
              " 'Yanma',\n",
              " 'Yanmega',\n",
              " 'Yveltal',\n",
              " 'Zangoose',\n",
              " 'Zapdos',\n",
              " 'Zebstrika',\n",
              " 'Zekrom',\n",
              " 'Zigzagoon',\n",
              " 'Zoroark',\n",
              " 'Zorua',\n",
              " 'Zubat',\n",
              " 'Zweilous',\n",
              " 'Zygarde']"
            ]
          },
          "metadata": {},
          "execution_count": 16
        }
      ]
    },
    {
      "cell_type": "code",
      "metadata": {
        "colab": {
          "base_uri": "https://localhost:8080/"
        },
        "id": "2cl0pbkkmxfl",
        "outputId": "84cfd24c-23f2-4b18-acb0-30f12e1dffe9"
      },
      "source": [
        "pokemon.values\n",
        "#returns array of values within the series"
      ],
      "execution_count": null,
      "outputs": [
        {
          "output_type": "execute_result",
          "data": {
            "text/plain": [
              "array(['Bulbasaur', 'Ivysaur', 'Venusaur', 'Charmander', 'Charmeleon',\n",
              "       'Charizard', 'Squirtle', 'Wartortle', 'Blastoise', 'Caterpie',\n",
              "       'Metapod', 'Butterfree', 'Weedle', 'Kakuna', 'Beedrill', 'Pidgey',\n",
              "       'Pidgeotto', 'Pidgeot', 'Rattata', 'Raticate', 'Spearow', 'Fearow',\n",
              "       'Ekans', 'Arbok', 'Pikachu', 'Raichu', 'Sandshrew', 'Sandslash',\n",
              "       'Nidoran', 'Nidorina', 'Nidoqueen', 'Nidoran♂', 'Nidorino',\n",
              "       'Nidoking', 'Clefairy', 'Clefable', 'Vulpix', 'Ninetales',\n",
              "       'Jigglypuff', 'Wigglytuff', 'Zubat', 'Golbat', 'Oddish', 'Gloom',\n",
              "       'Vileplume', 'Paras', 'Parasect', 'Venonat', 'Venomoth', 'Diglett',\n",
              "       'Dugtrio', 'Meowth', 'Persian', 'Psyduck', 'Golduck', 'Mankey',\n",
              "       'Primeape', 'Growlithe', 'Arcanine', 'Poliwag', 'Poliwhirl',\n",
              "       'Poliwrath', 'Abra', 'Kadabra', 'Alakazam', 'Machop', 'Machoke',\n",
              "       'Machamp', 'Bellsprout', 'Weepinbell', 'Victreebel', 'Tentacool',\n",
              "       'Tentacruel', 'Geodude', 'Graveler', 'Golem', 'Ponyta', 'Rapidash',\n",
              "       'Slowpoke', 'Slowbro', 'Magnemite', 'Magneton', \"Farfetch'd\",\n",
              "       'Doduo', 'Dodrio', 'Seel', 'Dewgong', 'Grimer', 'Muk', 'Shellder',\n",
              "       'Cloyster', 'Gastly', 'Haunter', 'Gengar', 'Onix', 'Drowzee',\n",
              "       'Hypno', 'Krabby', 'Kingler', 'Voltorb', 'Electrode', 'Exeggcute',\n",
              "       'Exeggutor', 'Cubone', 'Marowak', 'Hitmonlee', 'Hitmonchan',\n",
              "       'Lickitung', 'Koffing', 'Weezing', 'Rhyhorn', 'Rhydon', 'Chansey',\n",
              "       'Tangela', 'Kangaskhan', 'Horsea', 'Seadra', 'Goldeen', 'Seaking',\n",
              "       'Staryu', 'Starmie', 'Mr. Mime', 'Scyther', 'Jynx', 'Electabuzz',\n",
              "       'Magmar', 'Pinsir', 'Tauros', 'Magikarp', 'Gyarados', 'Lapras',\n",
              "       'Ditto', 'Eevee', 'Vaporeon', 'Jolteon', 'Flareon', 'Porygon',\n",
              "       'Omanyte', 'Omastar', 'Kabuto', 'Kabutops', 'Aerodactyl',\n",
              "       'Snorlax', 'Articuno', 'Zapdos', 'Moltres', 'Dratini', 'Dragonair',\n",
              "       'Dragonite', 'Mewtwo', 'Mew', 'Chikorita', 'Bayleef', 'Meganium',\n",
              "       'Cyndaquil', 'Quilava', 'Typhlosion', 'Totodile', 'Croconaw',\n",
              "       'Feraligatr', 'Sentret', 'Furret', 'Hoothoot', 'Noctowl', 'Ledyba',\n",
              "       'Ledian', 'Spinarak', 'Ariados', 'Crobat', 'Chinchou', 'Lanturn',\n",
              "       'Pichu', 'Cleffa', 'Igglybuff', 'Togepi', 'Togetic', 'Natu',\n",
              "       'Xatu', 'Mareep', 'Flaaffy', 'Ampharos', 'Bellossom', 'Marill',\n",
              "       'Azumarill', 'Sudowoodo', 'Politoed', 'Hoppip', 'Skiploom',\n",
              "       'Jumpluff', 'Aipom', 'Sunkern', 'Sunflora', 'Yanma', 'Wooper',\n",
              "       'Quagsire', 'Espeon', 'Umbreon', 'Murkrow', 'Slowking',\n",
              "       'Misdreavus', 'Unown', 'Wobbuffet', 'Girafarig', 'Pineco',\n",
              "       'Forretress', 'Dunsparce', 'Gligar', 'Steelix', 'Snubbull',\n",
              "       'Granbull', 'Qwilfish', 'Scizor', 'Shuckle', 'Heracross',\n",
              "       'Sneasel', 'Teddiursa', 'Ursaring', 'Slugma', 'Magcargo', 'Swinub',\n",
              "       'Piloswine', 'Corsola', 'Remoraid', 'Octillery', 'Delibird',\n",
              "       'Mantine', 'Skarmory', 'Houndour', 'Houndoom', 'Kingdra', 'Phanpy',\n",
              "       'Donphan', 'Porygon2', 'Stantler', 'Smeargle', 'Tyrogue',\n",
              "       'Hitmontop', 'Smoochum', 'Elekid', 'Magby', 'Miltank', 'Blissey',\n",
              "       'Raikou', 'Entei', 'Suicune', 'Larvitar', 'Pupitar', 'Tyranitar',\n",
              "       'Lugia', 'Ho-oh', 'Celebi', 'Treecko', 'Grovyle', 'Sceptile',\n",
              "       'Torchic', 'Combusken', 'Blaziken', 'Mudkip', 'Marshtomp',\n",
              "       'Swampert', 'Poochyena', 'Mightyena', 'Zigzagoon', 'Linoone',\n",
              "       'Wurmple', 'Silcoon', 'Beautifly', 'Cascoon', 'Dustox', 'Lotad',\n",
              "       'Lombre', 'Ludicolo', 'Seedot', 'Nuzleaf', 'Shiftry', 'Taillow',\n",
              "       'Swellow', 'Wingull', 'Pelipper', 'Ralts', 'Kirlia', 'Gardevoir',\n",
              "       'Surskit', 'Masquerain', 'Shroomish', 'Breloom', 'Slakoth',\n",
              "       'Vigoroth', 'Slaking', 'Nincada', 'Ninjask', 'Shedinja', 'Whismur',\n",
              "       'Loudred', 'Exploud', 'Makuhita', 'Hariyama', 'Azurill',\n",
              "       'Nosepass', 'Skitty', 'Delcatty', 'Sableye', 'Mawile', 'Aron',\n",
              "       'Lairon', 'Aggron', 'Meditite', 'Medicham', 'Electrike',\n",
              "       'Manectric', 'Plusle', 'Minun', 'Volbeat', 'Illumise', 'Roselia',\n",
              "       'Gulpin', 'Swalot', 'Carvanha', 'Sharpedo', 'Wailmer', 'Wailord',\n",
              "       'Numel', 'Camerupt', 'Torkoal', 'Spoink', 'Grumpig', 'Spinda',\n",
              "       'Trapinch', 'Vibrava', 'Flygon', 'Cacnea', 'Cacturne', 'Swablu',\n",
              "       'Altaria', 'Zangoose', 'Seviper', 'Lunatone', 'Solrock',\n",
              "       'Barboach', 'Whiscash', 'Corphish', 'Crawdaunt', 'Baltoy',\n",
              "       'Claydol', 'Lileep', 'Cradily', 'Anorith', 'Armaldo', 'Feebas',\n",
              "       'Milotic', 'Castform', 'Kecleon', 'Shuppet', 'Banette', 'Duskull',\n",
              "       'Dusclops', 'Tropius', 'Chimecho', 'Absol', 'Wynaut', 'Snorunt',\n",
              "       'Glalie', 'Spheal', 'Sealeo', 'Walrein', 'Clamperl', 'Huntail',\n",
              "       'Gorebyss', 'Relicanth', 'Luvdisc', 'Bagon', 'Shelgon',\n",
              "       'Salamence', 'Beldum', 'Metang', 'Metagross', 'Regirock', 'Regice',\n",
              "       'Registeel', 'Latias', 'Latios', 'Kyogre', 'Groudon', 'Rayquaza',\n",
              "       'Jirachi', 'Deoxys', 'Turtwig', 'Grotle', 'Torterra', 'Chimchar',\n",
              "       'Monferno', 'Infernape', 'Piplup', 'Prinplup', 'Empoleon',\n",
              "       'Starly', 'Staravia', 'Staraptor', 'Bidoof', 'Bibarel',\n",
              "       'Kricketot', 'Kricketune', 'Shinx', 'Luxio', 'Luxray', 'Budew',\n",
              "       'Roserade', 'Cranidos', 'Rampardos', 'Shieldon', 'Bastiodon',\n",
              "       'Burmy', 'Wormadam', 'Mothim', 'Combee', 'Vespiquen', 'Pachirisu',\n",
              "       'Buizel', 'Floatzel', 'Cherubi', 'Cherrim', 'Shellos', 'Gastrodon',\n",
              "       'Ambipom', 'Drifloon', 'Drifblim', 'Buneary', 'Lopunny',\n",
              "       'Mismagius', 'Honchkrow', 'Glameow', 'Purugly', 'Chingling',\n",
              "       'Stunky', 'Skuntank', 'Bronzor', 'Bronzong', 'Bonsly', 'Mime Jr.',\n",
              "       'Happiny', 'Chatot', 'Spiritomb', 'Gible', 'Gabite', 'Garchomp',\n",
              "       'Munchlax', 'Riolu', 'Lucario', 'Hippopotas', 'Hippowdon',\n",
              "       'Skorupi', 'Drapion', 'Croagunk', 'Toxicroak', 'Carnivine',\n",
              "       'Finneon', 'Lumineon', 'Mantyke', 'Snover', 'Abomasnow', 'Weavile',\n",
              "       'Magnezone', 'Lickilicky', 'Rhyperior', 'Tangrowth', 'Electivire',\n",
              "       'Magmortar', 'Togekiss', 'Yanmega', 'Leafeon', 'Glaceon',\n",
              "       'Gliscor', 'Mamoswine', 'Porygon-Z', 'Gallade', 'Probopass',\n",
              "       'Dusknoir', 'Froslass', 'Rotom', 'Uxie', 'Mesprit', 'Azelf',\n",
              "       'Dialga', 'Palkia', 'Heatran', 'Regigigas', 'Giratina',\n",
              "       'Cresselia', 'Phione', 'Manaphy', 'Darkrai', 'Shaymin', 'Arceus',\n",
              "       'Victini', 'Snivy', 'Servine', 'Serperior', 'Tepig', 'Pignite',\n",
              "       'Emboar', 'Oshawott', 'Dewott', 'Samurott', 'Patrat', 'Watchog',\n",
              "       'Lillipup', 'Herdier', 'Stoutland', 'Purrloin', 'Liepard',\n",
              "       'Pansage', 'Simisage', 'Pansear', 'Simisear', 'Panpour',\n",
              "       'Simipour', 'Munna', 'Musharna', 'Pidove', 'Tranquill', 'Unfezant',\n",
              "       'Blitzle', 'Zebstrika', 'Roggenrola', 'Boldore', 'Gigalith',\n",
              "       'Woobat', 'Swoobat', 'Drilbur', 'Excadrill', 'Audino', 'Timburr',\n",
              "       'Gurdurr', 'Conkeldurr', 'Tympole', 'Palpitoad', 'Seismitoad',\n",
              "       'Throh', 'Sawk', 'Sewaddle', 'Swadloon', 'Leavanny', 'Venipede',\n",
              "       'Whirlipede', 'Scolipede', 'Cottonee', 'Whimsicott', 'Petilil',\n",
              "       'Lilligant', 'Basculin', 'Sandile', 'Krokorok', 'Krookodile',\n",
              "       'Darumaka', 'Darmanitan', 'Maractus', 'Dwebble', 'Crustle',\n",
              "       'Scraggy', 'Scrafty', 'Sigilyph', 'Yamask', 'Cofagrigus',\n",
              "       'Tirtouga', 'Carracosta', 'Archen', 'Archeops', 'Trubbish',\n",
              "       'Garbodor', 'Zorua', 'Zoroark', 'Minccino', 'Cinccino', 'Gothita',\n",
              "       'Gothorita', 'Gothitelle', 'Solosis', 'Duosion', 'Reuniclus',\n",
              "       'Ducklett', 'Swanna', 'Vanillite', 'Vanillish', 'Vanilluxe',\n",
              "       'Deerling', 'Sawsbuck', 'Emolga', 'Karrablast', 'Escavalier',\n",
              "       'Foongus', 'Amoonguss', 'Frillish', 'Jellicent', 'Alomomola',\n",
              "       'Joltik', 'Galvantula', 'Ferroseed', 'Ferrothorn', 'Klink',\n",
              "       'Klang', 'Klinklang', 'Tynamo', 'Eelektrik', 'Eelektross',\n",
              "       'Elgyem', 'Beheeyem', 'Litwick', 'Lampent', 'Chandelure', 'Axew',\n",
              "       'Fraxure', 'Haxorus', 'Cubchoo', 'Beartic', 'Cryogonal', 'Shelmet',\n",
              "       'Accelgor', 'Stunfisk', 'Mienfoo', 'Mienshao', 'Druddigon',\n",
              "       'Golett', 'Golurk', 'Pawniard', 'Bisharp', 'Bouffalant', 'Rufflet',\n",
              "       'Braviary', 'Vullaby', 'Mandibuzz', 'Heatmor', 'Durant', 'Deino',\n",
              "       'Zweilous', 'Hydreigon', 'Larvesta', 'Volcarona', 'Cobalion',\n",
              "       'Terrakion', 'Virizion', 'Tornadus', 'Thundurus', 'Reshiram',\n",
              "       'Zekrom', 'Landorus', 'Kyurem', 'Keldeo', 'Meloetta', 'Genesect',\n",
              "       'Chespin', 'Quilladin', 'Chesnaught', 'Fennekin', 'Braixen',\n",
              "       'Delphox', 'Froakie', 'Frogadier', 'Greninja', 'Bunnelby',\n",
              "       'Diggersby', 'Fletchling', 'Fletchinder', 'Talonflame',\n",
              "       'Scatterbug', 'Spewpa', 'Vivillon', 'Litleo', 'Pyroar', 'Flabébé',\n",
              "       'Floette', 'Florges', 'Skiddo', 'Gogoat', 'Pancham', 'Pangoro',\n",
              "       'Furfrou', 'Espurr', 'Meowstic', 'Honedge', 'Doublade',\n",
              "       'Aegislash', 'Spritzee', 'Aromatisse', 'Swirlix', 'Slurpuff',\n",
              "       'Inkay', 'Malamar', 'Binacle', 'Barbaracle', 'Skrelp', 'Dragalge',\n",
              "       'Clauncher', 'Clawitzer', 'Helioptile', 'Heliolisk', 'Tyrunt',\n",
              "       'Tyrantrum', 'Amaura', 'Aurorus', 'Sylveon', 'Hawlucha', 'Dedenne',\n",
              "       'Carbink', 'Goomy', 'Sliggoo', 'Goodra', 'Klefki', 'Phantump',\n",
              "       'Trevenant', 'Pumpkaboo', 'Gourgeist', 'Bergmite', 'Avalugg',\n",
              "       'Noibat', 'Noivern', 'Xerneas', 'Yveltal', 'Zygarde', 'Diancie',\n",
              "       'Hoopa', 'Volcanion'], dtype=object)"
            ]
          },
          "metadata": {},
          "execution_count": 17
        }
      ]
    },
    {
      "cell_type": "code",
      "metadata": {
        "colab": {
          "base_uri": "https://localhost:8080/"
        },
        "id": "On28L6Tzm_RE",
        "outputId": "bc9bf305-76b4-49f5-df9d-b76c3bc5acf5"
      },
      "source": [
        "pokemon.index"
      ],
      "execution_count": null,
      "outputs": [
        {
          "output_type": "execute_result",
          "data": {
            "text/plain": [
              "RangeIndex(start=0, stop=721, step=1)"
            ]
          },
          "metadata": {},
          "execution_count": 18
        }
      ]
    },
    {
      "cell_type": "code",
      "metadata": {
        "colab": {
          "base_uri": "https://localhost:8080/"
        },
        "id": "cI8_8mo4nK2b",
        "outputId": "01aad9ff-9384-4369-d305-9d14dd3c470e"
      },
      "source": [
        "pokemon.dtype\n",
        "#datatype of the values inside the series\n",
        "\n",
        "# dtype('O') -> internal panda's keyword for string"
      ],
      "execution_count": null,
      "outputs": [
        {
          "output_type": "execute_result",
          "data": {
            "text/plain": [
              "dtype('O')"
            ]
          },
          "metadata": {},
          "execution_count": 19
        }
      ]
    },
    {
      "cell_type": "code",
      "metadata": {
        "colab": {
          "base_uri": "https://localhost:8080/"
        },
        "id": "fPygCuEJnfXx",
        "outputId": "d39a6068-d87b-4e05-f171-8ad3b50ae19f"
      },
      "source": [
        "pokemon.is_unique"
      ],
      "execution_count": null,
      "outputs": [
        {
          "output_type": "execute_result",
          "data": {
            "text/plain": [
              "True"
            ]
          },
          "metadata": {},
          "execution_count": 20
        }
      ]
    },
    {
      "cell_type": "code",
      "metadata": {
        "colab": {
          "base_uri": "https://localhost:8080/"
        },
        "id": "bZEER_LUnjx2",
        "outputId": "9612253f-a632-4cf2-ca6c-328659ea4e3b"
      },
      "source": [
        "pokemon.ndim"
      ],
      "execution_count": null,
      "outputs": [
        {
          "output_type": "execute_result",
          "data": {
            "text/plain": [
              "1"
            ]
          },
          "metadata": {},
          "execution_count": 21
        }
      ]
    },
    {
      "cell_type": "code",
      "metadata": {
        "colab": {
          "base_uri": "https://localhost:8080/"
        },
        "id": "eoTsw016ntPA",
        "outputId": "0968b5da-f283-46f9-d7fb-66667a740aed"
      },
      "source": [
        "pokemon.shape\n",
        "\n",
        "# 721 rows * 1 col"
      ],
      "execution_count": null,
      "outputs": [
        {
          "output_type": "execute_result",
          "data": {
            "text/plain": [
              "(721,)"
            ]
          },
          "metadata": {},
          "execution_count": 22
        }
      ]
    },
    {
      "cell_type": "code",
      "metadata": {
        "colab": {
          "base_uri": "https://localhost:8080/"
        },
        "id": "tUnA5T9gn8tb",
        "outputId": "f4fa8c33-6ffa-4a18-8dee-0c600a66de8f"
      },
      "source": [
        "pokemon.size\n",
        "#total elements in the series (value counts) , does count null values as well"
      ],
      "execution_count": null,
      "outputs": [
        {
          "output_type": "execute_result",
          "data": {
            "text/plain": [
              "721"
            ]
          },
          "metadata": {},
          "execution_count": 23
        }
      ]
    },
    {
      "cell_type": "code",
      "metadata": {
        "colab": {
          "base_uri": "https://localhost:8080/",
          "height": 35
        },
        "id": "VP2Ae0h4oKdX",
        "outputId": "333ffd0c-22cb-49cc-c61e-62629ed4c2e3"
      },
      "source": [
        "pokemon.name"
      ],
      "execution_count": null,
      "outputs": [
        {
          "output_type": "execute_result",
          "data": {
            "application/vnd.google.colaboratory.intrinsic+json": {
              "type": "string"
            },
            "text/plain": [
              "'Pokemon'"
            ]
          },
          "metadata": {},
          "execution_count": 24
        }
      ]
    },
    {
      "cell_type": "code",
      "metadata": {
        "id": "2S_PLP8_oSRc"
      },
      "source": [
        "pokemon.name = 'Pocket Monsters'"
      ],
      "execution_count": null,
      "outputs": []
    },
    {
      "cell_type": "code",
      "metadata": {
        "colab": {
          "base_uri": "https://localhost:8080/"
        },
        "id": "EXz8HEryoWGz",
        "outputId": "60ff2f75-d419-4964-b1b5-3b97e47ffe10"
      },
      "source": [
        "pokemon.head()"
      ],
      "execution_count": null,
      "outputs": [
        {
          "output_type": "execute_result",
          "data": {
            "text/plain": [
              "0     Bulbasaur\n",
              "1       Ivysaur\n",
              "2      Venusaur\n",
              "3    Charmander\n",
              "4    Charmeleon\n",
              "Name: Pocket Monsters, dtype: object"
            ]
          },
          "metadata": {},
          "execution_count": 27
        }
      ]
    },
    {
      "cell_type": "markdown",
      "metadata": {
        "id": "Nz-LQya8orTo"
      },
      "source": [
        "##**.sort_values() method**"
      ]
    },
    {
      "cell_type": "code",
      "metadata": {
        "colab": {
          "base_uri": "https://localhost:8080/"
        },
        "id": "KjqWC97-oqai",
        "outputId": "c17d8a96-6c47-490f-f5f6-875f30a33d5f"
      },
      "source": [
        "pokemon.sort_values()\n",
        "\n",
        "#returns brand new series object"
      ],
      "execution_count": null,
      "outputs": [
        {
          "output_type": "execute_result",
          "data": {
            "text/plain": [
              "459    Abomasnow\n",
              "62          Abra\n",
              "358        Absol\n",
              "616     Accelgor\n",
              "680    Aegislash\n",
              "         ...    \n",
              "570      Zoroark\n",
              "569        Zorua\n",
              "40         Zubat\n",
              "633     Zweilous\n",
              "717      Zygarde\n",
              "Name: Pokemon, Length: 721, dtype: object"
            ]
          },
          "metadata": {},
          "execution_count": 5
        }
      ]
    },
    {
      "cell_type": "code",
      "metadata": {
        "colab": {
          "base_uri": "https://localhost:8080/"
        },
        "id": "6mR64Jb7pJ6J",
        "outputId": "0d670c11-49ea-4e74-8cac-1c7cb7a9b955"
      },
      "source": [
        "pokemon.sort_values().head()\n",
        "#method chaining"
      ],
      "execution_count": null,
      "outputs": [
        {
          "output_type": "execute_result",
          "data": {
            "text/plain": [
              "459    Abomasnow\n",
              "62          Abra\n",
              "358        Absol\n",
              "616     Accelgor\n",
              "680    Aegislash\n",
              "Name: Pocket Monsters, dtype: object"
            ]
          },
          "metadata": {},
          "execution_count": 29
        }
      ]
    },
    {
      "cell_type": "code",
      "metadata": {
        "colab": {
          "base_uri": "https://localhost:8080/"
        },
        "id": "fUEMSuztpfCg",
        "outputId": "999c7377-cb06-43dd-95ee-3f5fd1cb0dc0"
      },
      "source": [
        "pokemon.sort_values(ascending = False).head()"
      ],
      "execution_count": null,
      "outputs": [
        {
          "output_type": "execute_result",
          "data": {
            "text/plain": [
              "717     Zygarde\n",
              "633    Zweilous\n",
              "40        Zubat\n",
              "569       Zorua\n",
              "570     Zoroark\n",
              "Name: Pokemon, dtype: object"
            ]
          },
          "metadata": {},
          "execution_count": 7
        }
      ]
    },
    {
      "cell_type": "markdown",
      "metadata": {
        "id": "lwUV6jSDQ5Br"
      },
      "source": [
        "## **inplace parameter**"
      ]
    },
    {
      "cell_type": "code",
      "metadata": {
        "colab": {
          "base_uri": "https://localhost:8080/"
        },
        "id": "2B0U9D51RUeZ",
        "outputId": "04acec1b-2e40-4183-fc2f-a54aef75b509"
      },
      "source": [
        "#inplace attribute to be used to sort the values w/o creating new obj\n",
        "\n",
        "pok = pokemon\n",
        "\n",
        "pok"
      ],
      "execution_count": null,
      "outputs": [
        {
          "output_type": "execute_result",
          "data": {
            "text/plain": [
              "0       Bulbasaur\n",
              "1         Ivysaur\n",
              "2        Venusaur\n",
              "3      Charmander\n",
              "4      Charmeleon\n",
              "          ...    \n",
              "716       Yveltal\n",
              "717       Zygarde\n",
              "718       Diancie\n",
              "719         Hoopa\n",
              "720     Volcanion\n",
              "Name: Pokemon, Length: 721, dtype: object"
            ]
          },
          "metadata": {},
          "execution_count": 6
        }
      ]
    },
    {
      "cell_type": "code",
      "metadata": {
        "colab": {
          "base_uri": "https://localhost:8080/"
        },
        "id": "8m-2cx2MRtaX",
        "outputId": "71819452-c1d5-4058-d8fe-37cf65a34cd9"
      },
      "source": [
        "pok.sort_values(ascending = True, inplace = True)\n",
        "\n",
        "pok.head()"
      ],
      "execution_count": null,
      "outputs": [
        {
          "output_type": "execute_result",
          "data": {
            "text/plain": [
              "459    Abomasnow\n",
              "62          Abra\n",
              "358        Absol\n",
              "616     Accelgor\n",
              "680    Aegislash\n",
              "Name: Pokemon, dtype: object"
            ]
          },
          "metadata": {},
          "execution_count": 13
        }
      ]
    },
    {
      "cell_type": "markdown",
      "metadata": {
        "id": "_a-L0vZUSEl_"
      },
      "source": [
        "##**.sort_index()**\n",
        "\n",
        "is complement of sort values method"
      ]
    },
    {
      "cell_type": "code",
      "metadata": {
        "id": "l2O6sZ4OSH0R",
        "colab": {
          "base_uri": "https://localhost:8080/"
        },
        "outputId": "7a2ebf22-e5dd-49f3-c0bd-9e7e733c30bc"
      },
      "source": [
        "pok"
      ],
      "execution_count": null,
      "outputs": [
        {
          "output_type": "execute_result",
          "data": {
            "text/plain": [
              "459    Abomasnow\n",
              "62          Abra\n",
              "358        Absol\n",
              "616     Accelgor\n",
              "680    Aegislash\n",
              "         ...    \n",
              "570      Zoroark\n",
              "569        Zorua\n",
              "40         Zubat\n",
              "633     Zweilous\n",
              "717      Zygarde\n",
              "Name: Pokemon, Length: 721, dtype: object"
            ]
          },
          "metadata": {},
          "execution_count": 14
        }
      ]
    },
    {
      "cell_type": "code",
      "metadata": {
        "colab": {
          "base_uri": "https://localhost:8080/"
        },
        "id": "gT90L71XHYGo",
        "outputId": "7a4d662d-d1a3-4e26-b423-57f412ab7924"
      },
      "source": [
        "pok.sort_index(ascending= True, inplace=True)\n",
        "\n",
        "pok"
      ],
      "execution_count": null,
      "outputs": [
        {
          "output_type": "execute_result",
          "data": {
            "text/plain": [
              "0       Bulbasaur\n",
              "1         Ivysaur\n",
              "2        Venusaur\n",
              "3      Charmander\n",
              "4      Charmeleon\n",
              "          ...    \n",
              "716       Yveltal\n",
              "717       Zygarde\n",
              "718       Diancie\n",
              "719         Hoopa\n",
              "720     Volcanion\n",
              "Name: Pokemon, Length: 721, dtype: object"
            ]
          },
          "metadata": {},
          "execution_count": 12
        }
      ]
    },
    {
      "cell_type": "markdown",
      "metadata": {
        "id": "tqf8SiSdQwkd"
      },
      "source": [
        "## **in keyword**\n",
        "\n"
      ]
    },
    {
      "cell_type": "code",
      "metadata": {
        "colab": {
          "base_uri": "https://localhost:8080/"
        },
        "id": "3NoWNX-OQ3M8",
        "outputId": "a740af25-27e9-4f55-c145-cc47b8317e39"
      },
      "source": [
        "'Bulbasaur' in pok.values"
      ],
      "execution_count": null,
      "outputs": [
        {
          "output_type": "execute_result",
          "data": {
            "text/plain": [
              "True"
            ]
          },
          "metadata": {},
          "execution_count": 16
        }
      ]
    },
    {
      "cell_type": "code",
      "metadata": {
        "colab": {
          "base_uri": "https://localhost:8080/"
        },
        "id": "hZqhTDlAREb4",
        "outputId": "0d91060e-1cf5-4f6e-c956-0e4d7df5ef35"
      },
      "source": [
        "720 in pok"
      ],
      "execution_count": null,
      "outputs": [
        {
          "output_type": "execute_result",
          "data": {
            "text/plain": [
              "True"
            ]
          },
          "metadata": {},
          "execution_count": 19
        }
      ]
    },
    {
      "cell_type": "markdown",
      "metadata": {
        "id": "1BIYQza9RLoA"
      },
      "source": [
        "##**Extract values by index**\n"
      ]
    },
    {
      "cell_type": "code",
      "metadata": {
        "colab": {
          "base_uri": "https://localhost:8080/",
          "height": 35
        },
        "id": "mgsUPGMpRPxj",
        "outputId": "3e07c3f0-6939-42af-a328-205aa79e6a88"
      },
      "source": [
        "pok[1]"
      ],
      "execution_count": null,
      "outputs": [
        {
          "output_type": "execute_result",
          "data": {
            "application/vnd.google.colaboratory.intrinsic+json": {
              "type": "string"
            },
            "text/plain": [
              "'Ivysaur'"
            ]
          },
          "metadata": {},
          "execution_count": 20
        }
      ]
    },
    {
      "cell_type": "code",
      "metadata": {
        "colab": {
          "base_uri": "https://localhost:8080/"
        },
        "id": "hrIdynMrRVRK",
        "outputId": "e930684a-fc1c-49ca-b138-4f39fbc2a868"
      },
      "source": [
        "pok[[100,200,300]]"
      ],
      "execution_count": null,
      "outputs": [
        {
          "output_type": "execute_result",
          "data": {
            "text/plain": [
              "100    Electrode\n",
              "200        Unown\n",
              "300     Delcatty\n",
              "Name: Pokemon, dtype: object"
            ]
          },
          "metadata": {},
          "execution_count": 21
        }
      ]
    },
    {
      "cell_type": "code",
      "metadata": {
        "colab": {
          "base_uri": "https://localhost:8080/"
        },
        "id": "jFHZJy7gRVZ1",
        "outputId": "ff518d09-15ce-46e1-ddb9-8aa156396ccb"
      },
      "source": [
        "pok[50:100]"
      ],
      "execution_count": null,
      "outputs": [
        {
          "output_type": "execute_result",
          "data": {
            "text/plain": [
              "398        Bidoof\n",
              "687       Binacle\n",
              "624       Bisharp\n",
              "8       Blastoise\n",
              "256      Blaziken\n",
              "241       Blissey\n",
              "521       Blitzle\n",
              "524       Boldore\n",
              "437        Bonsly\n",
              "625    Bouffalant\n",
              "653       Braixen\n",
              "627      Braviary\n",
              "285       Breloom\n",
              "436      Bronzong\n",
              "435       Bronzor\n",
              "405         Budew\n",
              "417        Buizel\n",
              "0       Bulbasaur\n",
              "426       Buneary\n",
              "658      Bunnelby\n",
              "411         Burmy\n",
              "11     Butterfree\n",
              "330        Cacnea\n",
              "331      Cacturne\n",
              "322      Camerupt\n",
              "702       Carbink\n",
              "454     Carnivine\n",
              "564    Carracosta\n",
              "317      Carvanha\n",
              "267       Cascoon\n",
              "350      Castform\n",
              "9        Caterpie\n",
              "250        Celebi\n",
              "608    Chandelure\n",
              "112       Chansey\n",
              "5       Charizard\n",
              "3      Charmander\n",
              "4      Charmeleon\n",
              "440        Chatot\n",
              "420       Cherrim\n",
              "419       Cherubi\n",
              "651    Chesnaught\n",
              "649       Chespin\n",
              "151     Chikorita\n",
              "389      Chimchar\n",
              "357      Chimecho\n",
              "169      Chinchou\n",
              "432     Chingling\n",
              "572      Cinccino\n",
              "365      Clamperl\n",
              "Name: Pokemon, dtype: object"
            ]
          },
          "metadata": {},
          "execution_count": 22
        }
      ]
    },
    {
      "cell_type": "code",
      "metadata": {
        "colab": {
          "base_uri": "https://localhost:8080/"
        },
        "id": "PNld4186RjG4",
        "outputId": "ecdd0367-c46a-4e7c-a1be-63db75f6f292"
      },
      "source": [
        "pok[:50]"
      ],
      "execution_count": null,
      "outputs": [
        {
          "output_type": "execute_result",
          "data": {
            "text/plain": [
              "459     Abomasnow\n",
              "62           Abra\n",
              "358         Absol\n",
              "616      Accelgor\n",
              "680     Aegislash\n",
              "141    Aerodactyl\n",
              "305        Aggron\n",
              "189         Aipom\n",
              "64       Alakazam\n",
              "593     Alomomola\n",
              "333       Altaria\n",
              "697        Amaura\n",
              "423       Ambipom\n",
              "590     Amoonguss\n",
              "180      Ampharos\n",
              "346       Anorith\n",
              "23          Arbok\n",
              "58       Arcanine\n",
              "492        Arceus\n",
              "565        Archen\n",
              "566      Archeops\n",
              "167       Ariados\n",
              "347       Armaldo\n",
              "682    Aromatisse\n",
              "303          Aron\n",
              "143      Articuno\n",
              "530        Audino\n",
              "698       Aurorus\n",
              "712       Avalugg\n",
              "609          Axew\n",
              "481         Azelf\n",
              "183     Azumarill\n",
              "297       Azurill\n",
              "370         Bagon\n",
              "342        Baltoy\n",
              "353       Banette\n",
              "688    Barbaracle\n",
              "338      Barboach\n",
              "549      Basculin\n",
              "410     Bastiodon\n",
              "152       Bayleef\n",
              "613       Beartic\n",
              "266     Beautifly\n",
              "14       Beedrill\n",
              "605      Beheeyem\n",
              "373        Beldum\n",
              "181     Bellossom\n",
              "68     Bellsprout\n",
              "711      Bergmite\n",
              "399       Bibarel\n",
              "Name: Pokemon, dtype: object"
            ]
          },
          "metadata": {},
          "execution_count": 23
        }
      ]
    },
    {
      "cell_type": "code",
      "metadata": {
        "colab": {
          "base_uri": "https://localhost:8080/"
        },
        "id": "lbPgWStRRVhA",
        "outputId": "e188d273-a42a-486e-ff74-6561e4c53088"
      },
      "source": [
        "pok[-30:-10]"
      ],
      "execution_count": null,
      "outputs": [
        {
          "output_type": "execute_result",
          "data": {
            "text/plain": [
              "69     Weepinbell\n",
              "109       Weezing\n",
              "546    Whimsicott\n",
              "543    Whirlipede\n",
              "339      Whiscash\n",
              "292       Whismur\n",
              "39     Wigglytuff\n",
              "277       Wingull\n",
              "201     Wobbuffet\n",
              "526        Woobat\n",
              "193        Wooper\n",
              "412      Wormadam\n",
              "264       Wurmple\n",
              "359        Wynaut\n",
              "177          Xatu\n",
              "715       Xerneas\n",
              "561        Yamask\n",
              "192         Yanma\n",
              "468       Yanmega\n",
              "716       Yveltal\n",
              "Name: Pokemon, dtype: object"
            ]
          },
          "metadata": {},
          "execution_count": 24
        }
      ]
    },
    {
      "cell_type": "markdown",
      "metadata": {
        "id": "d96jNU05R46D"
      },
      "source": [
        "##**Extract values by Index labels**"
      ]
    },
    {
      "cell_type": "code",
      "metadata": {
        "colab": {
          "base_uri": "https://localhost:8080/",
          "height": 527
        },
        "id": "nhkpDTsqR9Ff",
        "outputId": "158d8581-1398-493c-ee26-ac8d8119659e"
      },
      "source": [
        "pokemon[\"Weepinbell\"]"
      ],
      "execution_count": null,
      "outputs": [
        {
          "output_type": "error",
          "ename": "KeyError",
          "evalue": "ignored",
          "traceback": [
            "\u001b[0;31m---------------------------------------------------------------------------\u001b[0m",
            "\u001b[0;31mKeyError\u001b[0m                                  Traceback (most recent call last)",
            "\u001b[0;32m/usr/local/lib/python3.7/dist-packages/pandas/core/indexes/base.py\u001b[0m in \u001b[0;36mget_loc\u001b[0;34m(self, key, method, tolerance)\u001b[0m\n\u001b[1;32m   2897\u001b[0m             \u001b[0;32mtry\u001b[0m\u001b[0;34m:\u001b[0m\u001b[0;34m\u001b[0m\u001b[0;34m\u001b[0m\u001b[0m\n\u001b[0;32m-> 2898\u001b[0;31m                 \u001b[0;32mreturn\u001b[0m \u001b[0mself\u001b[0m\u001b[0;34m.\u001b[0m\u001b[0m_engine\u001b[0m\u001b[0;34m.\u001b[0m\u001b[0mget_loc\u001b[0m\u001b[0;34m(\u001b[0m\u001b[0mcasted_key\u001b[0m\u001b[0;34m)\u001b[0m\u001b[0;34m\u001b[0m\u001b[0;34m\u001b[0m\u001b[0m\n\u001b[0m\u001b[1;32m   2899\u001b[0m             \u001b[0;32mexcept\u001b[0m \u001b[0mKeyError\u001b[0m \u001b[0;32mas\u001b[0m \u001b[0merr\u001b[0m\u001b[0;34m:\u001b[0m\u001b[0;34m\u001b[0m\u001b[0;34m\u001b[0m\u001b[0m\n",
            "\u001b[0;32mpandas/_libs/index.pyx\u001b[0m in \u001b[0;36mpandas._libs.index.IndexEngine.get_loc\u001b[0;34m()\u001b[0m\n",
            "\u001b[0;32mpandas/_libs/index.pyx\u001b[0m in \u001b[0;36mpandas._libs.index.IndexEngine.get_loc\u001b[0;34m()\u001b[0m\n",
            "\u001b[0;32mpandas/_libs/index_class_helper.pxi\u001b[0m in \u001b[0;36mpandas._libs.index.Int64Engine._check_type\u001b[0;34m()\u001b[0m\n",
            "\u001b[0;31mKeyError\u001b[0m: 'Weepinbell'",
            "\nThe above exception was the direct cause of the following exception:\n",
            "\u001b[0;31mKeyError\u001b[0m                                  Traceback (most recent call last)",
            "\u001b[0;32m<ipython-input-25-7811cd9ca2fc>\u001b[0m in \u001b[0;36m<module>\u001b[0;34m()\u001b[0m\n\u001b[0;32m----> 1\u001b[0;31m \u001b[0mpokemon\u001b[0m\u001b[0;34m[\u001b[0m\u001b[0;34m'Weepinbell'\u001b[0m\u001b[0;34m]\u001b[0m\u001b[0;34m\u001b[0m\u001b[0;34m\u001b[0m\u001b[0m\n\u001b[0m",
            "\u001b[0;32m/usr/local/lib/python3.7/dist-packages/pandas/core/series.py\u001b[0m in \u001b[0;36m__getitem__\u001b[0;34m(self, key)\u001b[0m\n\u001b[1;32m    880\u001b[0m \u001b[0;34m\u001b[0m\u001b[0m\n\u001b[1;32m    881\u001b[0m         \u001b[0;32melif\u001b[0m \u001b[0mkey_is_scalar\u001b[0m\u001b[0;34m:\u001b[0m\u001b[0;34m\u001b[0m\u001b[0;34m\u001b[0m\u001b[0m\n\u001b[0;32m--> 882\u001b[0;31m             \u001b[0;32mreturn\u001b[0m \u001b[0mself\u001b[0m\u001b[0;34m.\u001b[0m\u001b[0m_get_value\u001b[0m\u001b[0;34m(\u001b[0m\u001b[0mkey\u001b[0m\u001b[0;34m)\u001b[0m\u001b[0;34m\u001b[0m\u001b[0;34m\u001b[0m\u001b[0m\n\u001b[0m\u001b[1;32m    883\u001b[0m \u001b[0;34m\u001b[0m\u001b[0m\n\u001b[1;32m    884\u001b[0m         \u001b[0;32mif\u001b[0m \u001b[0mis_hashable\u001b[0m\u001b[0;34m(\u001b[0m\u001b[0mkey\u001b[0m\u001b[0;34m)\u001b[0m\u001b[0;34m:\u001b[0m\u001b[0;34m\u001b[0m\u001b[0;34m\u001b[0m\u001b[0m\n",
            "\u001b[0;32m/usr/local/lib/python3.7/dist-packages/pandas/core/series.py\u001b[0m in \u001b[0;36m_get_value\u001b[0;34m(self, label, takeable)\u001b[0m\n\u001b[1;32m    988\u001b[0m \u001b[0;34m\u001b[0m\u001b[0m\n\u001b[1;32m    989\u001b[0m         \u001b[0;31m# Similar to Index.get_value, but we do not fall back to positional\u001b[0m\u001b[0;34m\u001b[0m\u001b[0;34m\u001b[0m\u001b[0;34m\u001b[0m\u001b[0m\n\u001b[0;32m--> 990\u001b[0;31m         \u001b[0mloc\u001b[0m \u001b[0;34m=\u001b[0m \u001b[0mself\u001b[0m\u001b[0;34m.\u001b[0m\u001b[0mindex\u001b[0m\u001b[0;34m.\u001b[0m\u001b[0mget_loc\u001b[0m\u001b[0;34m(\u001b[0m\u001b[0mlabel\u001b[0m\u001b[0;34m)\u001b[0m\u001b[0;34m\u001b[0m\u001b[0;34m\u001b[0m\u001b[0m\n\u001b[0m\u001b[1;32m    991\u001b[0m         \u001b[0;32mreturn\u001b[0m \u001b[0mself\u001b[0m\u001b[0;34m.\u001b[0m\u001b[0mindex\u001b[0m\u001b[0;34m.\u001b[0m\u001b[0m_get_values_for_loc\u001b[0m\u001b[0;34m(\u001b[0m\u001b[0mself\u001b[0m\u001b[0;34m,\u001b[0m \u001b[0mloc\u001b[0m\u001b[0;34m,\u001b[0m \u001b[0mlabel\u001b[0m\u001b[0;34m)\u001b[0m\u001b[0;34m\u001b[0m\u001b[0;34m\u001b[0m\u001b[0m\n\u001b[1;32m    992\u001b[0m \u001b[0;34m\u001b[0m\u001b[0m\n",
            "\u001b[0;32m/usr/local/lib/python3.7/dist-packages/pandas/core/indexes/base.py\u001b[0m in \u001b[0;36mget_loc\u001b[0;34m(self, key, method, tolerance)\u001b[0m\n\u001b[1;32m   2898\u001b[0m                 \u001b[0;32mreturn\u001b[0m \u001b[0mself\u001b[0m\u001b[0;34m.\u001b[0m\u001b[0m_engine\u001b[0m\u001b[0;34m.\u001b[0m\u001b[0mget_loc\u001b[0m\u001b[0;34m(\u001b[0m\u001b[0mcasted_key\u001b[0m\u001b[0;34m)\u001b[0m\u001b[0;34m\u001b[0m\u001b[0;34m\u001b[0m\u001b[0m\n\u001b[1;32m   2899\u001b[0m             \u001b[0;32mexcept\u001b[0m \u001b[0mKeyError\u001b[0m \u001b[0;32mas\u001b[0m \u001b[0merr\u001b[0m\u001b[0;34m:\u001b[0m\u001b[0;34m\u001b[0m\u001b[0;34m\u001b[0m\u001b[0m\n\u001b[0;32m-> 2900\u001b[0;31m                 \u001b[0;32mraise\u001b[0m \u001b[0mKeyError\u001b[0m\u001b[0;34m(\u001b[0m\u001b[0mkey\u001b[0m\u001b[0;34m)\u001b[0m \u001b[0;32mfrom\u001b[0m \u001b[0merr\u001b[0m\u001b[0;34m\u001b[0m\u001b[0;34m\u001b[0m\u001b[0m\n\u001b[0m\u001b[1;32m   2901\u001b[0m \u001b[0;34m\u001b[0m\u001b[0m\n\u001b[1;32m   2902\u001b[0m         \u001b[0;32mif\u001b[0m \u001b[0mtolerance\u001b[0m \u001b[0;32mis\u001b[0m \u001b[0;32mnot\u001b[0m \u001b[0;32mNone\u001b[0m\u001b[0;34m:\u001b[0m\u001b[0;34m\u001b[0m\u001b[0;34m\u001b[0m\u001b[0m\n",
            "\u001b[0;31mKeyError\u001b[0m: 'Weepinbell'"
          ]
        }
      ]
    }
  ]
}