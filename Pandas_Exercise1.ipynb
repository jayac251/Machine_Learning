{
  "nbformat": 4,
  "nbformat_minor": 0,
  "metadata": {
    "colab": {
      "name": "Pandas_Exercise1.ipynb",
      "provenance": [],
      "authorship_tag": "ABX9TyMXlgu/oaoJl7Vy2g6qA5CV",
      "include_colab_link": true
    },
    "kernelspec": {
      "name": "python3",
      "display_name": "Python 3"
    },
    "language_info": {
      "name": "python"
    }
  },
  "cells": [
    {
      "cell_type": "markdown",
      "metadata": {
        "id": "view-in-github",
        "colab_type": "text"
      },
      "source": [
        "<a href=\"https://colab.research.google.com/github/jayac251/Machine_Learning/blob/main/Pandas_Exercise1.ipynb\" target=\"_parent\"><img src=\"https://colab.research.google.com/assets/colab-badge.svg\" alt=\"Open In Colab\"/></a>"
      ]
    },
    {
      "cell_type": "code",
      "metadata": {
        "id": "rz7cILvDK2dX"
      },
      "source": [
        "import pandas as pd\n",
        "import numpy as np"
      ],
      "execution_count": null,
      "outputs": []
    },
    {
      "cell_type": "markdown",
      "metadata": {
        "id": "XzTwM3v-K8GX"
      },
      "source": [
        "1. Create the following Series and do the specified operations:\n",
        "\n",
        "a) EngAlph, having 26 elements with the alphabets as values and default index values.\n",
        "\n",
        "b) Vowels, having 5 elements with index labels ‘a’, ‘e’, ‘i’, ‘o’ and ‘u’ and all the five values set to zero. Check if it is an empty series.\n",
        "\n",
        "c) Friends, from a dictionary having roll numbers of five of your friends as data and their first name as keys.\n",
        "\n",
        "d) MTseries, an empty Series. Check if it is an empty\n",
        "series.\n",
        "\n",
        "e) MonthDays, from a numpy array having the number of days in the 12 months of a year. The labels should be the month numbers from 1 to 12."
      ]
    },
    {
      "cell_type": "code",
      "metadata": {
        "colab": {
          "base_uri": "https://localhost:8080/"
        },
        "id": "P930IayyLPEM",
        "outputId": "0efda6c4-76b9-49fb-9a67-59f84b3a3fd6"
      },
      "source": [
        "import string\n",
        "\n",
        "# a) EngAlph, having 26 elements with the alphabets as values and default index values.\n",
        "Alph = list(string.ascii_lowercase)\n",
        "\n",
        "engAlph = pd.Series(Alph)\n",
        "\n",
        "print('\\n',engAlph)\n",
        "\n",
        "# b) Vowels, having 5 elements with index labels ‘a’, ‘e’, ‘i’, ‘o’ and ‘u’ and all the five values set to zero. Check if it is an empty series.\n",
        "vowels = pd.Series(0, index = ['a','e','i','o','u'])\n",
        "print('\\n',vowels)\n",
        "print('\\n',vowels.empty)\n",
        "\n",
        "# c) Friends, from a dictionary having roll numbers of five of your friends as data and their first name as keys.\n",
        "\n",
        "friendDict = {'Anu':1111,\n",
        "              'Banu':1112,\n",
        "              'Chinu':1113,\n",
        "              'Dinu':1114,\n",
        "              'Finu':1115}\n",
        "friends=pd.Series(friendDict)\n",
        "print('\\n',friends)     \n",
        "\n",
        "# d) MTseries, an empty Series. Check if it is an empty series.\n",
        "\n",
        "mtSeries = pd.Series()\n",
        "print('\\n',mtSeries.empty)\n",
        "\n",
        "# e) MonthDays, from a numpy array having the number of days in the 12 months of a year. The labels should be the month numbers from 1 to 12.\n",
        "\n",
        "days = np.array([31,30])\n",
        "\n",
        "monthDays = pd.Series(np.tile(days,6),index = (np.arange(1,13)))\n",
        "\n",
        "print(monthDays)"
      ],
      "execution_count": 167,
      "outputs": [
        {
          "output_type": "stream",
          "name": "stdout",
          "text": [
            "\n",
            " 0     a\n",
            "1     b\n",
            "2     c\n",
            "3     d\n",
            "4     e\n",
            "5     f\n",
            "6     g\n",
            "7     h\n",
            "8     i\n",
            "9     j\n",
            "10    k\n",
            "11    l\n",
            "12    m\n",
            "13    n\n",
            "14    o\n",
            "15    p\n",
            "16    q\n",
            "17    r\n",
            "18    s\n",
            "19    t\n",
            "20    u\n",
            "21    v\n",
            "22    w\n",
            "23    x\n",
            "24    y\n",
            "25    z\n",
            "dtype: object\n",
            "\n",
            " a    0\n",
            "e    0\n",
            "i    0\n",
            "o    0\n",
            "u    0\n",
            "dtype: int64\n",
            "\n",
            " False\n",
            "\n",
            " Anu      1111\n",
            "Banu     1112\n",
            "Chinu    1113\n",
            "Dinu     1114\n",
            "Finu     1115\n",
            "dtype: int64\n",
            "\n",
            " True\n",
            "1     31\n",
            "2     30\n",
            "3     31\n",
            "4     30\n",
            "5     31\n",
            "6     30\n",
            "7     31\n",
            "8     30\n",
            "9     31\n",
            "10    30\n",
            "11    31\n",
            "12    30\n",
            "dtype: int64\n"
          ]
        },
        {
          "output_type": "stream",
          "name": "stderr",
          "text": [
            "/usr/local/lib/python3.7/dist-packages/ipykernel_launcher.py:27: DeprecationWarning: The default dtype for empty Series will be 'object' instead of 'float64' in a future version. Specify a dtype explicitly to silence this warning.\n"
          ]
        }
      ]
    },
    {
      "cell_type": "markdown",
      "metadata": {
        "id": "m9zR97Y4R-MU"
      },
      "source": [
        "Using the Series created in Question 1, write commands for the following:\n",
        "\n",
        "a) Set all the values of Vowels to 10 and display the Series.\n",
        "\n",
        "b) Divide all values of Vowels by 2 and display the Series.\n",
        "\n",
        "c) Create another series Vowels1 having 5 elements with index labels ‘a’, ‘e’, ‘i’, ‘o’ and ‘u’ having values [2,5,6,3,8] respectively.\n",
        "\n",
        "d) Add Vowels and Vowels1 and assign the result to Vowels3.\n",
        "\n",
        "e) Subtract, Multiply and Divide Vowels by Vowels1.\n",
        "\n",
        "f) Alter the labels of Vowels1 to [‘A’, ‘E’, ‘I’, ‘O’, ‘U’]."
      ]
    },
    {
      "cell_type": "code",
      "metadata": {
        "colab": {
          "base_uri": "https://localhost:8080/"
        },
        "id": "D7q6_fCwSPhT",
        "outputId": "21f4ca55-36f9-40df-d0ce-c432954f385d"
      },
      "source": [
        "# a) Set all the values of Vowels to 10 and display the Series.\n",
        "vowels = pd.Series(0, index = ['a','e','i','o','u'])\n",
        "print(vowels)\n",
        "vowels = vowels.replace(0,10)\n",
        "print('\\n',vowels)\n",
        "\n",
        "# Other Method \n",
        "vowels.loc['a':'u']=10\n",
        "print(vowels)\n",
        "\n",
        "#Other Method \n",
        "vowels.iloc[0:5]=10\n",
        "print(vowels)\n",
        "\n",
        "# b) Divide all values of Vowels by 2 and display the Series.\n",
        "\n",
        "vowels = vowels / 2\n",
        "print('\\n',vowels)\n",
        "\n",
        "# c) Create another series Vowels1 having 5 elements with index labels ‘a’, ‘e’, ‘i’, ‘o’ and ‘u’ having values [2,5,6,3,8] respectively.\n",
        "\n",
        "vowels1 = pd.Series([2,5,6,3,8], index = ['a','e','i','o','u'])\n",
        "print('\\n',vowels1)\n",
        "\n",
        "\n",
        "# d) Add Vowels and Vowels1 and assign the result to Vowels3.\n",
        "\n",
        "vowels3 = vowels + vowels1\n",
        "print('\\n',vowels3)\n",
        "\n",
        "# e) Subtract, Multiply and Divide Vowels by Vowels1.\n",
        "\n",
        "vowels4 = vowels - vowels1\n",
        "vowels5 = vowels * vowels1\n",
        "vowels6 = vowels / vowels1\n",
        "\n",
        "print('\\n',vowels4)\n",
        "print('\\n',vowels5)\n",
        "print('\\n',vowels6)\n",
        "\n",
        "# f) Alter the labels of Vowels1 to [‘A’, ‘E’, ‘I’, ‘O’, ‘U’].\n",
        "\n",
        "print('\\nBEFORE ALTER\\n',vowels1)\n",
        "vowels1.index=['A', 'E', 'I', 'O', 'U']\n",
        "print('\\nAFTER ALTER\\n',vowels1)\n"
      ],
      "execution_count": 171,
      "outputs": [
        {
          "output_type": "stream",
          "name": "stdout",
          "text": [
            "a    0\n",
            "e    0\n",
            "i    0\n",
            "o    0\n",
            "u    0\n",
            "dtype: int64\n",
            "\n",
            " a    10\n",
            "e    10\n",
            "i    10\n",
            "o    10\n",
            "u    10\n",
            "dtype: int64\n",
            "a    10\n",
            "e    10\n",
            "i    10\n",
            "o    10\n",
            "u    10\n",
            "dtype: int64\n",
            "a    10\n",
            "e    10\n",
            "i    10\n",
            "o    10\n",
            "u    10\n",
            "dtype: int64\n",
            "\n",
            " a    5.0\n",
            "e    5.0\n",
            "i    5.0\n",
            "o    5.0\n",
            "u    5.0\n",
            "dtype: float64\n",
            "\n",
            " a    2\n",
            "e    5\n",
            "i    6\n",
            "o    3\n",
            "u    8\n",
            "dtype: int64\n",
            "\n",
            " a     7.0\n",
            "e    10.0\n",
            "i    11.0\n",
            "o     8.0\n",
            "u    13.0\n",
            "dtype: float64\n",
            "\n",
            " a    3.0\n",
            "e    0.0\n",
            "i   -1.0\n",
            "o    2.0\n",
            "u   -3.0\n",
            "dtype: float64\n",
            "\n",
            " a    10.0\n",
            "e    25.0\n",
            "i    30.0\n",
            "o    15.0\n",
            "u    40.0\n",
            "dtype: float64\n",
            "\n",
            " a    2.500000\n",
            "e    1.000000\n",
            "i    0.833333\n",
            "o    1.666667\n",
            "u    0.625000\n",
            "dtype: float64\n",
            "\n",
            "BEFORE ALTER\n",
            " a    2\n",
            "e    5\n",
            "i    6\n",
            "o    3\n",
            "u    8\n",
            "dtype: int64\n",
            "\n",
            "AFTER ALTER\n",
            " A    2\n",
            "E    5\n",
            "I    6\n",
            "O    3\n",
            "U    8\n",
            "dtype: int64\n"
          ]
        }
      ]
    },
    {
      "cell_type": "markdown",
      "metadata": {
        "id": "kv156lI3U4Is"
      },
      "source": [
        "Using the Series created in Question 1, write commands for the following:\n",
        "\n",
        "a) Find the dimensions, size and values of the Series EngAlph, Vowels, Friends, MTseries, MonthDays.\n",
        "\n",
        "b) Rename the Series MTseries as SeriesEmpty.\n",
        "\n",
        "c) Name the index of the Series MonthDays as monthno and that of Series Friends as Fname.\n",
        "\n",
        "d) Display the 3rd and 2nd value of the Series Notes Friends, in that order.\n",
        "\n",
        "e) Display the alphabets ‘e’ to ‘p’ from the Series EngAlph.\n",
        "\n",
        "f) Display the first 10 values in the Series EngAlph. \n",
        "\n",
        "g) Display the last 10 values in the Series EngAlph.\n",
        "\n",
        "h) Display the MTseries."
      ]
    },
    {
      "cell_type": "code",
      "metadata": {
        "colab": {
          "base_uri": "https://localhost:8080/"
        },
        "id": "2C-JDcBKVOCA",
        "outputId": "e600d95f-8430-4566-f47a-87955aed73db"
      },
      "source": [
        "# a) Find the dimensions, size and values of the Series EngAlph, Vowels, Friends, MTseries, MonthDays.\n",
        "\n",
        "getList = [engAlph,vowels,friends,mtSeries,monthDays]\n",
        "\n",
        "for j in getList:\n",
        "  print(j.ndim)\n",
        "  print(j.shape)\n",
        "  print(j.size)\n",
        "  print(j.values)\n",
        "  print('\\n')\n",
        "\n",
        "# b) Rename the Series MTseries as SeriesEmpty.\n",
        "\n",
        "mtSeries.name = 'MTseries'\n",
        "print(mtSeries.name)\n",
        "\n",
        "mtSeries = mtSeries.rename('SeriesEmpty')\n",
        "print(mtSeries.name)\n",
        "\n",
        "#c) Name the index of the Series MonthDays as monthno and that of Series Friends as Fname.\n",
        "\n",
        "monthDays.index.name = 'monthno'\n",
        "friends.index.name = 'Fname'\n",
        "\n",
        "print('\\n\\n', monthDays)\n",
        "\n",
        "print('\\n\\n', friends)\n"
      ],
      "execution_count": 172,
      "outputs": [
        {
          "output_type": "stream",
          "name": "stdout",
          "text": [
            "1\n",
            "(26,)\n",
            "26\n",
            "['a' 'b' 'c' 'd' 'e' 'f' 'g' 'h' 'i' 'j' 'k' 'l' 'm' 'n' 'o' 'p' 'q' 'r'\n",
            " 's' 't' 'u' 'v' 'w' 'x' 'y' 'z']\n",
            "\n",
            "\n",
            "1\n",
            "(5,)\n",
            "5\n",
            "[5. 5. 5. 5. 5.]\n",
            "\n",
            "\n",
            "1\n",
            "(5,)\n",
            "5\n",
            "[1111 1112 1113 1114 1115]\n",
            "\n",
            "\n",
            "1\n",
            "(0,)\n",
            "0\n",
            "[]\n",
            "\n",
            "\n",
            "1\n",
            "(12,)\n",
            "12\n",
            "[31 30 31 30 31 30 31 30 31 30 31 30]\n",
            "\n",
            "\n",
            "MTseries\n",
            "SeriesEmpty\n",
            "\n",
            "\n",
            " monthno\n",
            "1     31\n",
            "2     30\n",
            "3     31\n",
            "4     30\n",
            "5     31\n",
            "6     30\n",
            "7     31\n",
            "8     30\n",
            "9     31\n",
            "10    30\n",
            "11    31\n",
            "12    30\n",
            "dtype: int64\n",
            "\n",
            "\n",
            " Fname\n",
            "Anu      1111\n",
            "Banu     1112\n",
            "Chinu    1113\n",
            "Dinu     1114\n",
            "Finu     1115\n",
            "dtype: int64\n"
          ]
        }
      ]
    },
    {
      "cell_type": "code",
      "metadata": {
        "colab": {
          "base_uri": "https://localhost:8080/"
        },
        "id": "8DpzuRKxYCJs",
        "outputId": "aaeb3640-080d-44f1-d356-1b9e4f687335"
      },
      "source": [
        "# d) Display the 3rd and 2nd value of the Series Friends, in that order.\n",
        "print(friends)\n",
        "print('\\n',friends[2:0:-1])\n",
        "\n",
        "#e) Display the alphabets ‘e’ to ‘p’ from the Series EngAlph.\n",
        "print('\\n',engAlph)\n",
        "print('\\n',engAlph[4:16])\n",
        "\n",
        "#f) Display the first 10 values in the Series EngAlph.\n",
        "print('\\n',engAlph.head(10))\n",
        "\n",
        "#g) Display the last 10 values in the Series EngAlph.\n",
        "print('\\n',engAlph.tail(10))\n",
        "\n",
        "#h) Display the MTseries.\n",
        "print('\\n\\n',mtSeries)"
      ],
      "execution_count": null,
      "outputs": [
        {
          "output_type": "stream",
          "name": "stdout",
          "text": [
            "Fname\n",
            "Anu      1111\n",
            "Banu     1112\n",
            "Chinu    1113\n",
            "Dinu     1114\n",
            "Finu     1115\n",
            "dtype: int64\n",
            "\n",
            " Fname\n",
            "Chinu    1113\n",
            "Banu     1112\n",
            "dtype: int64\n",
            "\n",
            " 0     a\n",
            "1     b\n",
            "2     c\n",
            "3     d\n",
            "4     e\n",
            "5     f\n",
            "6     g\n",
            "7     h\n",
            "8     i\n",
            "9     j\n",
            "10    k\n",
            "11    l\n",
            "12    m\n",
            "13    n\n",
            "14    o\n",
            "15    p\n",
            "16    q\n",
            "17    r\n",
            "18    s\n",
            "19    t\n",
            "20    u\n",
            "21    v\n",
            "22    w\n",
            "23    x\n",
            "24    y\n",
            "25    z\n",
            "dtype: object\n",
            "\n",
            " 4     e\n",
            "5     f\n",
            "6     g\n",
            "7     h\n",
            "8     i\n",
            "9     j\n",
            "10    k\n",
            "11    l\n",
            "12    m\n",
            "13    n\n",
            "14    o\n",
            "15    p\n",
            "dtype: object\n",
            "\n",
            " 0    a\n",
            "1    b\n",
            "2    c\n",
            "3    d\n",
            "4    e\n",
            "5    f\n",
            "6    g\n",
            "7    h\n",
            "8    i\n",
            "9    j\n",
            "dtype: object\n",
            "\n",
            " 16    q\n",
            "17    r\n",
            "18    s\n",
            "19    t\n",
            "20    u\n",
            "21    v\n",
            "22    w\n",
            "23    x\n",
            "24    y\n",
            "25    z\n",
            "dtype: object\n",
            "\n",
            "\n",
            " Series([], Name: SeriesEmpty, dtype: float64)\n"
          ]
        }
      ]
    },
    {
      "cell_type": "markdown",
      "metadata": {
        "id": "eU4N9lVaaVgg"
      },
      "source": [
        "Using the Series created in Question 1, write commands for the following:\n",
        "\n",
        "a) Display the names of the months 3 through 7 from the Series MonthDays.\n",
        "\n",
        "b) Display the Series MonthDays in reverse order"
      ]
    },
    {
      "cell_type": "code",
      "metadata": {
        "id": "9wTkJoW_aSMu",
        "colab": {
          "base_uri": "https://localhost:8080/"
        },
        "outputId": "91912fa9-d4d7-4d7a-f9ea-06e77d140c02"
      },
      "source": [
        "# a) Display the names of the months 3 through 7 from the Series MonthDays.\n",
        "#MonthDays\n",
        "MonthDays=np.array([31,28,31,30,31,30,31,31,30,31,30,31])\n",
        "month=pd.Series(MonthDays,index=np.arange(1,13))\n",
        "month=pd.Series(MonthDays,index=[\"Jan\",\"Feb\",\"Mar\",\"Apr\",\"May\",\"June\",\n",
        "                         \"July\",\"Aug\",\"Sept\",\"Oct\",\"Nov\",\"Dec\"])\n",
        "#Method 1\n",
        "print('\\n',month.iloc[2:7])\n",
        "\n",
        "#Method 2\n",
        "print('\\n',month.loc['Mar':'July'])\n",
        "\n",
        "#Method 3\n",
        "print('\\n',month['Mar':'July'])\n",
        "\n",
        "# b) Display the Series MonthDays in reverse order\n",
        "#Method 1\n",
        "print(month[::-1])\n",
        "\n",
        "#Method 2\n",
        "print(month.iloc[::-1])\n",
        "\n",
        "#Method 3\n",
        "print(month.loc[\"Dec\":\"Jan\":-1])"
      ],
      "execution_count": 177,
      "outputs": [
        {
          "output_type": "stream",
          "name": "stdout",
          "text": [
            "\n",
            " Mar     31\n",
            "Apr     30\n",
            "May     31\n",
            "June    30\n",
            "July    31\n",
            "dtype: int64\n",
            "\n",
            " Mar     31\n",
            "Apr     30\n",
            "May     31\n",
            "June    30\n",
            "July    31\n",
            "dtype: int64\n",
            "\n",
            " Mar     31\n",
            "Apr     30\n",
            "May     31\n",
            "June    30\n",
            "July    31\n",
            "dtype: int64\n",
            "Dec     31\n",
            "Nov     30\n",
            "Oct     31\n",
            "Sept    30\n",
            "Aug     31\n",
            "July    31\n",
            "June    30\n",
            "May     31\n",
            "Apr     30\n",
            "Mar     31\n",
            "Feb     28\n",
            "Jan     31\n",
            "dtype: int64\n",
            "Dec     31\n",
            "Nov     30\n",
            "Oct     31\n",
            "Sept    30\n",
            "Aug     31\n",
            "July    31\n",
            "June    30\n",
            "May     31\n",
            "Apr     30\n",
            "Mar     31\n",
            "Feb     28\n",
            "Jan     31\n",
            "dtype: int64\n",
            "Dec     31\n",
            "Nov     30\n",
            "Oct     31\n",
            "Sept    30\n",
            "Aug     31\n",
            "July    31\n",
            "June    30\n",
            "May     31\n",
            "Apr     30\n",
            "Mar     31\n",
            "Feb     28\n",
            "Jan     31\n",
            "dtype: int64\n"
          ]
        }
      ]
    },
    {
      "cell_type": "markdown",
      "metadata": {
        "id": "Aw8xmRjwt_nn"
      },
      "source": [
        "Create the following DataFrame Sales containing year wise sales figures for five sales persons in INR.\n",
        "\n",
        "Use the years as column labels, and sales person names as row labels.\n",
        "\n",
        "2014 2015 2016 2017\n",
        "\n",
        "Madhu 100.5 12000 20000 50000\n",
        "\n",
        "Kusum 150.8 18000 50000 60000\n",
        "\n",
        "Kinshuk 200.9 22000 70000 70000\n",
        "\n",
        "Ankit 30000 30000 100000 80000\n",
        "\n",
        "Shruti 40000 45000 125000 90000"
      ]
    },
    {
      "cell_type": "code",
      "metadata": {
        "colab": {
          "base_uri": "https://localhost:8080/",
          "height": 204
        },
        "id": "ydw4rhtVt_T2",
        "outputId": "30da9661-eb1d-4c74-b351-c1601d44ece1"
      },
      "source": [
        "salesDict = {2014:[100.5,150.8,200.9,30000,4000],\n",
        "     2015:[12000,18000,22000,30000,45000],\n",
        "     2016:[20000,50000,70000,10000,125000],\n",
        "     2017:[50000,60000,70000,80000,90000]}\n",
        "\n",
        "sales= pd.DataFrame(salesDict,index=['Madhu',\"Kusum\",\"Kinshuk\",\"Ankit\",\"Shruti\"])\n",
        "\n",
        "sales"
      ],
      "execution_count": 215,
      "outputs": [
        {
          "output_type": "execute_result",
          "data": {
            "text/html": [
              "<div>\n",
              "<style scoped>\n",
              "    .dataframe tbody tr th:only-of-type {\n",
              "        vertical-align: middle;\n",
              "    }\n",
              "\n",
              "    .dataframe tbody tr th {\n",
              "        vertical-align: top;\n",
              "    }\n",
              "\n",
              "    .dataframe thead th {\n",
              "        text-align: right;\n",
              "    }\n",
              "</style>\n",
              "<table border=\"1\" class=\"dataframe\">\n",
              "  <thead>\n",
              "    <tr style=\"text-align: right;\">\n",
              "      <th></th>\n",
              "      <th>2014</th>\n",
              "      <th>2015</th>\n",
              "      <th>2016</th>\n",
              "      <th>2017</th>\n",
              "    </tr>\n",
              "  </thead>\n",
              "  <tbody>\n",
              "    <tr>\n",
              "      <th>Madhu</th>\n",
              "      <td>100.5</td>\n",
              "      <td>12000</td>\n",
              "      <td>20000</td>\n",
              "      <td>50000</td>\n",
              "    </tr>\n",
              "    <tr>\n",
              "      <th>Kusum</th>\n",
              "      <td>150.8</td>\n",
              "      <td>18000</td>\n",
              "      <td>50000</td>\n",
              "      <td>60000</td>\n",
              "    </tr>\n",
              "    <tr>\n",
              "      <th>Kinshuk</th>\n",
              "      <td>200.9</td>\n",
              "      <td>22000</td>\n",
              "      <td>70000</td>\n",
              "      <td>70000</td>\n",
              "    </tr>\n",
              "    <tr>\n",
              "      <th>Ankit</th>\n",
              "      <td>30000.0</td>\n",
              "      <td>30000</td>\n",
              "      <td>10000</td>\n",
              "      <td>80000</td>\n",
              "    </tr>\n",
              "    <tr>\n",
              "      <th>Shruti</th>\n",
              "      <td>4000.0</td>\n",
              "      <td>45000</td>\n",
              "      <td>125000</td>\n",
              "      <td>90000</td>\n",
              "    </tr>\n",
              "  </tbody>\n",
              "</table>\n",
              "</div>"
            ],
            "text/plain": [
              "            2014   2015    2016   2017\n",
              "Madhu      100.5  12000   20000  50000\n",
              "Kusum      150.8  18000   50000  60000\n",
              "Kinshuk    200.9  22000   70000  70000\n",
              "Ankit    30000.0  30000   10000  80000\n",
              "Shruti    4000.0  45000  125000  90000"
            ]
          },
          "metadata": {},
          "execution_count": 215
        }
      ]
    },
    {
      "cell_type": "code",
      "metadata": {
        "colab": {
          "base_uri": "https://localhost:8080/"
        },
        "id": "F8G4q2Sxw3Fk",
        "outputId": "bb35e8da-4e76-47da-b2d1-aab86ae0cb47"
      },
      "source": [
        "#a) Display the row labels of Sales.\n",
        "print(sales.index)"
      ],
      "execution_count": 180,
      "outputs": [
        {
          "output_type": "stream",
          "name": "stdout",
          "text": [
            "Index(['Madhu', 'Kusum', 'Kinshuk', 'Ankit', 'Shruti'], dtype='object')\n"
          ]
        }
      ]
    },
    {
      "cell_type": "code",
      "metadata": {
        "colab": {
          "base_uri": "https://localhost:8080/"
        },
        "id": "8sHgANVTxRsN",
        "outputId": "04f875df-2bdb-4949-99b4-44590870f2c0"
      },
      "source": [
        "#b) Display the column labels of Sales.\n",
        "print(sales.columns)"
      ],
      "execution_count": 183,
      "outputs": [
        {
          "output_type": "stream",
          "name": "stdout",
          "text": [
            "Index([2014, 2015, 2016, 2017, '2018'], dtype='object')\n"
          ]
        }
      ]
    },
    {
      "cell_type": "code",
      "metadata": {
        "colab": {
          "base_uri": "https://localhost:8080/"
        },
        "id": "AcVofQ4UxWZ5",
        "outputId": "74fe09fd-db95-4470-bf1b-932a2fd83ce6"
      },
      "source": [
        "#c) Display the data types of each column of Sales.\n",
        "print(sales.dtypes)"
      ],
      "execution_count": 184,
      "outputs": [
        {
          "output_type": "stream",
          "name": "stdout",
          "text": [
            "2014    float64\n",
            "2015      int64\n",
            "2016      int64\n",
            "2017      int64\n",
            "2018    float64\n",
            "dtype: object\n"
          ]
        }
      ]
    },
    {
      "cell_type": "code",
      "metadata": {
        "colab": {
          "base_uri": "https://localhost:8080/"
        },
        "id": "1GO6A4Rexkkw",
        "outputId": "8798d65d-ecc8-4972-838d-9fbf49048976"
      },
      "source": [
        "#d) Display the dimensions, shape, size and values of Sales.\n",
        "print(sales.ndim,'\\n',sales.shape,'\\n',sales.size,'\\n',sales.values)\n"
      ],
      "execution_count": 185,
      "outputs": [
        {
          "output_type": "stream",
          "name": "stdout",
          "text": [
            "2 \n",
            " (5, 5) \n",
            " 25 \n",
            " [[1.005e+02 1.200e+04 2.000e+04 5.000e+04 1.600e+05]\n",
            " [1.508e+02 1.800e+04 5.000e+04 6.000e+04 1.100e+05]\n",
            " [2.009e+02 2.200e+04 7.000e+04 7.000e+04 5.000e+05]\n",
            " [3.000e+04 3.000e+04 1.000e+04 8.000e+04 3.400e+05]\n",
            " [4.000e+03 4.500e+04 1.250e+05 9.000e+04 9.000e+05]]\n"
          ]
        }
      ]
    },
    {
      "cell_type": "code",
      "metadata": {
        "colab": {
          "base_uri": "https://localhost:8080/"
        },
        "id": "wB3kadWryCBr",
        "outputId": "08213548-607f-4265-cf80-cfda87291e84"
      },
      "source": [
        "#e) Display the last two rows of Sales.\n",
        "print(sales.tail(2))\n",
        "\n",
        "#f) Display the first two columns of Sales\n",
        "print('\\n\\n',sales.head(2))\n",
        "\n"
      ],
      "execution_count": 186,
      "outputs": [
        {
          "output_type": "stream",
          "name": "stdout",
          "text": [
            "           2014   2015    2016   2017      2018\n",
            "Ankit   30000.0  30000   10000  80000  340000.0\n",
            "Shruti   4000.0  45000  125000  90000  900000.0\n",
            "\n",
            "\n",
            "         2014   2015   2016   2017      2018\n",
            "Madhu  100.5  12000  20000  50000  160000.0\n",
            "Kusum  150.8  18000  50000  60000  110000.0\n"
          ]
        }
      ]
    },
    {
      "cell_type": "markdown",
      "metadata": {
        "id": "XoxVcb_gyTZR"
      },
      "source": [
        "g) Create a dictionary using the following data. Use this dictionary to create a DataFrame Sales2.\n",
        "\n",
        "      |2018|\n",
        "Madhu |160000|\n",
        "\n",
        "Kusum 110000\n",
        "\n",
        "Kinshuk 500000\n",
        "\n",
        "Ankit 340000\n",
        "\n",
        "Shruti 900000"
      ]
    },
    {
      "cell_type": "code",
      "metadata": {
        "colab": {
          "base_uri": "https://localhost:8080/",
          "height": 204
        },
        "id": "SfcBKbuPygF3",
        "outputId": "6b7ff1db-252d-4d02-d759-7c02e5a34dba"
      },
      "source": [
        "salesDict2 = {'2018':pd.Series([160000,110000,500000,340000,900000],index=['Madhu','Kusum','Kinshuk','Ankit','Shruti'])}\n",
        "\n",
        "sales2 = pd.DataFrame(salesDict2)\n",
        "sales2\n"
      ],
      "execution_count": 187,
      "outputs": [
        {
          "output_type": "execute_result",
          "data": {
            "text/html": [
              "<div>\n",
              "<style scoped>\n",
              "    .dataframe tbody tr th:only-of-type {\n",
              "        vertical-align: middle;\n",
              "    }\n",
              "\n",
              "    .dataframe tbody tr th {\n",
              "        vertical-align: top;\n",
              "    }\n",
              "\n",
              "    .dataframe thead th {\n",
              "        text-align: right;\n",
              "    }\n",
              "</style>\n",
              "<table border=\"1\" class=\"dataframe\">\n",
              "  <thead>\n",
              "    <tr style=\"text-align: right;\">\n",
              "      <th></th>\n",
              "      <th>2018</th>\n",
              "    </tr>\n",
              "  </thead>\n",
              "  <tbody>\n",
              "    <tr>\n",
              "      <th>Madhu</th>\n",
              "      <td>160000</td>\n",
              "    </tr>\n",
              "    <tr>\n",
              "      <th>Kusum</th>\n",
              "      <td>110000</td>\n",
              "    </tr>\n",
              "    <tr>\n",
              "      <th>Kinshuk</th>\n",
              "      <td>500000</td>\n",
              "    </tr>\n",
              "    <tr>\n",
              "      <th>Ankit</th>\n",
              "      <td>340000</td>\n",
              "    </tr>\n",
              "    <tr>\n",
              "      <th>Shruti</th>\n",
              "      <td>900000</td>\n",
              "    </tr>\n",
              "  </tbody>\n",
              "</table>\n",
              "</div>"
            ],
            "text/plain": [
              "           2018\n",
              "Madhu    160000\n",
              "Kusum    110000\n",
              "Kinshuk  500000\n",
              "Ankit    340000\n",
              "Shruti   900000"
            ]
          },
          "metadata": {},
          "execution_count": 187
        }
      ]
    },
    {
      "cell_type": "code",
      "metadata": {
        "colab": {
          "base_uri": "https://localhost:8080/"
        },
        "id": "I_eORRfyy7nc",
        "outputId": "dd52e4cd-ec1d-4a44-e4e5-c6796c908ded"
      },
      "source": [
        "#h) Check if Sales2 is empty or it contains data.\n",
        "\n",
        "print(sales2.empty)"
      ],
      "execution_count": 188,
      "outputs": [
        {
          "output_type": "stream",
          "name": "stdout",
          "text": [
            "False\n"
          ]
        }
      ]
    },
    {
      "cell_type": "code",
      "metadata": {
        "colab": {
          "base_uri": "https://localhost:8080/"
        },
        "id": "PLZQ-TJ9zKtO",
        "outputId": "1a20896e-ff9e-4fb4-cc28-b8a0d606609c"
      },
      "source": [
        "# a) Append the DataFrame Sales2 to the DataFrame Sales.\n",
        "\n",
        "sales3 = sales.append(sales2)\n",
        "print(sales3)\n",
        "\n",
        "\n",
        "\n"
      ],
      "execution_count": 189,
      "outputs": [
        {
          "output_type": "stream",
          "name": "stdout",
          "text": [
            "            2014     2015      2016     2017      2018\n",
            "Madhu      100.5  12000.0   20000.0  50000.0  160000.0\n",
            "Kusum      150.8  18000.0   50000.0  60000.0  110000.0\n",
            "Kinshuk    200.9  22000.0   70000.0  70000.0  500000.0\n",
            "Ankit    30000.0  30000.0   10000.0  80000.0  340000.0\n",
            "Shruti    4000.0  45000.0  125000.0  90000.0  900000.0\n",
            "Madhu        NaN      NaN       NaN      NaN  160000.0\n",
            "Kusum        NaN      NaN       NaN      NaN  110000.0\n",
            "Kinshuk      NaN      NaN       NaN      NaN  500000.0\n",
            "Ankit        NaN      NaN       NaN      NaN  340000.0\n",
            "Shruti       NaN      NaN       NaN      NaN  900000.0\n"
          ]
        }
      ]
    },
    {
      "cell_type": "code",
      "metadata": {
        "colab": {
          "base_uri": "https://localhost:8080/"
        },
        "id": "L_09AKfbzXEZ",
        "outputId": "5bd67c08-1c94-4c2e-a65b-1823a9442cf0"
      },
      "source": [
        "# b) Change the DataFrame Sales such that it becomes its transpose.\n",
        "\n",
        "sales3 = sales.T\n",
        "print(sales3)\n"
      ],
      "execution_count": 190,
      "outputs": [
        {
          "output_type": "stream",
          "name": "stdout",
          "text": [
            "         Madhu     Kusum   Kinshuk     Ankit    Shruti\n",
            "2014     100.5     150.8     200.9   30000.0    4000.0\n",
            "2015   12000.0   18000.0   22000.0   30000.0   45000.0\n",
            "2016   20000.0   50000.0   70000.0   10000.0  125000.0\n",
            "2017   50000.0   60000.0   70000.0   80000.0   90000.0\n",
            "2018  160000.0  110000.0  500000.0  340000.0  900000.0\n"
          ]
        }
      ]
    },
    {
      "cell_type": "code",
      "metadata": {
        "colab": {
          "base_uri": "https://localhost:8080/"
        },
        "id": "CIikXRf0zzwW",
        "outputId": "79e84f6f-90af-4a00-8f6c-34a4acf4d5f1"
      },
      "source": [
        "# c) Display the sales made by all sales persons in the year 2017.\n",
        "sales3 = sales\n",
        "sales3[2017]\n"
      ],
      "execution_count": 204,
      "outputs": [
        {
          "output_type": "execute_result",
          "data": {
            "text/plain": [
              "Madhu      50000\n",
              "Kusum      60000\n",
              "Kinshuk    70000\n",
              "Ankit      80000\n",
              "Shruti     90000\n",
              "Name: 2017, dtype: int64"
            ]
          },
          "metadata": {},
          "execution_count": 204
        }
      ]
    },
    {
      "cell_type": "code",
      "metadata": {
        "colab": {
          "base_uri": "https://localhost:8080/"
        },
        "id": "p9jeqVQl0X1p",
        "outputId": "77f47a17-68ed-4df7-89fb-e6050da895e5"
      },
      "source": [
        "# d) Display the sales made by Madhu and Ankit in the year 2017 and 2018.\n",
        "\n",
        "sales4 = sales\n",
        "sales4[2018] = [160000.0,110000.0,500000.0,340000.0,900000.0]\n",
        "print(sales4)\n",
        "print('\\n\\n',sales4[2018])\n",
        "\n",
        "#other method\n",
        "print(sales4.loc[sales4.index.isin([\"Madhu\",\"Ankit\"]),[2017,2018]])\n",
        "\n",
        "\n"
      ],
      "execution_count": 216,
      "outputs": [
        {
          "output_type": "stream",
          "name": "stdout",
          "text": [
            "            2014   2015    2016   2017      2018\n",
            "Madhu      100.5  12000   20000  50000  160000.0\n",
            "Kusum      150.8  18000   50000  60000  110000.0\n",
            "Kinshuk    200.9  22000   70000  70000  500000.0\n",
            "Ankit    30000.0  30000   10000  80000  340000.0\n",
            "Shruti    4000.0  45000  125000  90000  900000.0\n",
            "\n",
            "\n",
            " Madhu      160000.0\n",
            "Kusum      110000.0\n",
            "Kinshuk    500000.0\n",
            "Ankit      340000.0\n",
            "Shruti     900000.0\n",
            "Name: 2018, dtype: float64\n",
            "        2017      2018\n",
            "Madhu  50000  160000.0\n",
            "Ankit  80000  340000.0\n"
          ]
        }
      ]
    },
    {
      "cell_type": "code",
      "metadata": {
        "colab": {
          "base_uri": "https://localhost:8080/"
        },
        "id": "Aj-WQxGh3vUg",
        "outputId": "133efbff-5b5a-4bc3-d93d-4cb3545662f0"
      },
      "source": [
        "# e) Display the sales made by Shruti 2016.\n",
        "print(sales4.loc[sales4.index=='Shruti',2016])"
      ],
      "execution_count": 211,
      "outputs": [
        {
          "output_type": "stream",
          "name": "stdout",
          "text": [
            "Shruti    125000\n",
            "Name: 2016, dtype: int64\n"
          ]
        }
      ]
    },
    {
      "cell_type": "code",
      "metadata": {
        "colab": {
          "base_uri": "https://localhost:8080/"
        },
        "id": "A4EJ3IAS36oa",
        "outputId": "9be3d332-0534-4eb1-b6bc-7033bd1bdc37"
      },
      "source": [
        "# f) Add data to Sales for salesman Sumeet where the sales made are [196.2, 37800, 52000, 78438, 38852] in the years [2014, 2015, 2016, 2017, 2018] respectively.\n",
        "sales4.loc[\"Sumeet\"] = [196.2, 37800, 52000, 78438, 38852]\n",
        "print(sales4)"
      ],
      "execution_count": 217,
      "outputs": [
        {
          "output_type": "stream",
          "name": "stdout",
          "text": [
            "            2014     2015      2016     2017      2018\n",
            "Madhu      100.5  12000.0   20000.0  50000.0  160000.0\n",
            "Kusum      150.8  18000.0   50000.0  60000.0  110000.0\n",
            "Kinshuk    200.9  22000.0   70000.0  70000.0  500000.0\n",
            "Ankit    30000.0  30000.0   10000.0  80000.0  340000.0\n",
            "Shruti    4000.0  45000.0  125000.0  90000.0  900000.0\n",
            "Sumeet     196.2  37800.0   52000.0  78438.0   38852.0\n"
          ]
        }
      ]
    },
    {
      "cell_type": "code",
      "metadata": {
        "colab": {
          "base_uri": "https://localhost:8080/"
        },
        "id": "aMHpZV2g4WDu",
        "outputId": "26ad9b0d-1634-40f5-dd2a-42003473192f"
      },
      "source": [
        "#g) Delete the data for the year 2014 from the DataFrame Sales.\n",
        "sales5 = sales4\n",
        "sales5 = sales5.drop(columns=2014)\n",
        "print(sales5)\n"
      ],
      "execution_count": 219,
      "outputs": [
        {
          "output_type": "stream",
          "name": "stdout",
          "text": [
            "            2015      2016     2017      2018\n",
            "Madhu    12000.0   20000.0  50000.0  160000.0\n",
            "Kusum    18000.0   50000.0  60000.0  110000.0\n",
            "Kinshuk  22000.0   70000.0  70000.0  500000.0\n",
            "Ankit    30000.0   10000.0  80000.0  340000.0\n",
            "Shruti   45000.0  125000.0  90000.0  900000.0\n",
            "Sumeet   37800.0   52000.0  78438.0   38852.0\n"
          ]
        }
      ]
    },
    {
      "cell_type": "code",
      "metadata": {
        "colab": {
          "base_uri": "https://localhost:8080/"
        },
        "id": "iwAm_EjO4piO",
        "outputId": "b3313732-dcec-4144-a656-495ce7126538"
      },
      "source": [
        "# h) Delete the data for sales man Kinshuk from the DataFrame Sales.\n",
        "sales5 = sales5.drop(['Kinshuk'])\n",
        "print(sales5)"
      ],
      "execution_count": 220,
      "outputs": [
        {
          "output_type": "stream",
          "name": "stdout",
          "text": [
            "           2015      2016     2017      2018\n",
            "Madhu   12000.0   20000.0  50000.0  160000.0\n",
            "Kusum   18000.0   50000.0  60000.0  110000.0\n",
            "Ankit   30000.0   10000.0  80000.0  340000.0\n",
            "Shruti  45000.0  125000.0  90000.0  900000.0\n",
            "Sumeet  37800.0   52000.0  78438.0   38852.0\n"
          ]
        }
      ]
    },
    {
      "cell_type": "code",
      "metadata": {
        "colab": {
          "base_uri": "https://localhost:8080/"
        },
        "id": "tc-tHI2846wQ",
        "outputId": "5234dede-7c0e-42c6-c85f-4ec578393ce1"
      },
      "source": [
        "#i) Change the name of the salesperson Ankit to Vivaan and Madhu to Shailesh.\n",
        "\n",
        "sales5 = sales5.rename({'Ankit':'Vivaan', 'Madhu':'Shailesh'})\n",
        "print(sales5)"
      ],
      "execution_count": 221,
      "outputs": [
        {
          "output_type": "stream",
          "name": "stdout",
          "text": [
            "             2015      2016     2017      2018\n",
            "Shailesh  12000.0   20000.0  50000.0  160000.0\n",
            "Kusum     18000.0   50000.0  60000.0  110000.0\n",
            "Vivaan    30000.0   10000.0  80000.0  340000.0\n",
            "Shruti    45000.0  125000.0  90000.0  900000.0\n",
            "Sumeet    37800.0   52000.0  78438.0   38852.0\n"
          ]
        }
      ]
    },
    {
      "cell_type": "code",
      "metadata": {
        "colab": {
          "base_uri": "https://localhost:8080/"
        },
        "id": "ZP8pxyZI5Htn",
        "outputId": "956aeead-2ec8-4527-e878-76c059b8d343"
      },
      "source": [
        "# j) Update the sale made by Shailesh in 2018 to 100000.\n",
        "\n",
        "sales5.loc['Shailesh','2018'] = 100000\n",
        "print(sales5)"
      ],
      "execution_count": 223,
      "outputs": [
        {
          "output_type": "stream",
          "name": "stdout",
          "text": [
            "             2015      2016     2017      2018      2018\n",
            "Shailesh  12000.0   20000.0  50000.0  160000.0  100000.0\n",
            "Kusum     18000.0   50000.0  60000.0  110000.0       NaN\n",
            "Vivaan    30000.0   10000.0  80000.0  340000.0       NaN\n",
            "Shruti    45000.0  125000.0  90000.0  900000.0       NaN\n",
            "Sumeet    37800.0   52000.0  78438.0   38852.0       NaN\n"
          ]
        }
      ]
    },
    {
      "cell_type": "code",
      "metadata": {
        "colab": {
          "base_uri": "https://localhost:8080/"
        },
        "id": "-n37n4jH5nh7",
        "outputId": "15bd663d-6531-42ee-fa3f-8647602912fc"
      },
      "source": [
        "#k) Write the values of DataFrame Sales to a comma separated file SalesFigures.csv on the disk. Do not write the row labels and column labels.\n",
        "\n",
        "#Exporting\n",
        "print(sales5)\n",
        "\n",
        "sales5.to_csv('sales.csv',sep=',', header=True,index=True)"
      ],
      "execution_count": 165,
      "outputs": [
        {
          "output_type": "stream",
          "name": "stdout",
          "text": [
            "             2015      2016     2017      2018\n",
            "Shailesh  12000.0   20000.0  50000.0  100000.0\n",
            "Kusum     18000.0   50000.0  60000.0  110000.0\n",
            "Vivaan    30000.0  100000.0  80000.0  340000.0\n",
            "Shruti    60000.0  125000.0  90000.0  900000.0\n",
            "Sumeet    37800.0   52000.0  78438.0   38852.0\n"
          ]
        }
      ]
    },
    {
      "cell_type": "code",
      "metadata": {
        "colab": {
          "base_uri": "https://localhost:8080/"
        },
        "id": "VDs-FaL44WPM",
        "outputId": "df10c0d4-bf0b-4139-ee7b-f3aca7d08f17"
      },
      "source": [
        "# l) Read the data in the file SalesFigures.csv into a DataFrame SalesRetrieved and Display it. \n",
        "# Now update the row labels and column labels of SalesRetrieved to be the same as that of Sales.\n",
        "#Importing\n",
        "\n",
        "sales6 = pd.read_csv('sales.csv',sep=',', header=0)\n",
        "\n",
        "print(sales6)"
      ],
      "execution_count": 166,
      "outputs": [
        {
          "output_type": "stream",
          "name": "stdout",
          "text": [
            "  Unnamed: 0     2015      2016     2017      2018\n",
            "0   Shailesh  12000.0   20000.0  50000.0  100000.0\n",
            "1      Kusum  18000.0   50000.0  60000.0  110000.0\n",
            "2     Vivaan  30000.0  100000.0  80000.0  340000.0\n",
            "3     Shruti  60000.0  125000.0  90000.0  900000.0\n",
            "4     Sumeet  37800.0   52000.0  78438.0   38852.0\n"
          ]
        }
      ]
    }
  ]
}