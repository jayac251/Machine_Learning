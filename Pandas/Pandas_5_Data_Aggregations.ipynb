{
  "nbformat": 4,
  "nbformat_minor": 0,
  "metadata": {
    "colab": {
      "name": "Pandas_5_Data Aggregations.ipynb",
      "provenance": [],
      "authorship_tag": "ABX9TyNFQKPWQDCTNvEkjWc93gWI",
      "include_colab_link": true
    },
    "kernelspec": {
      "name": "python3",
      "display_name": "Python 3"
    },
    "language_info": {
      "name": "python"
    }
  },
  "cells": [
    {
      "cell_type": "markdown",
      "metadata": {
        "id": "view-in-github",
        "colab_type": "text"
      },
      "source": [
        "<a href=\"https://colab.research.google.com/github/jayac251/Machine_Learning/blob/main/Pandas_5_Data_Aggregations.ipynb\" target=\"_parent\"><img src=\"https://colab.research.google.com/assets/colab-badge.svg\" alt=\"Open In Colab\"/></a>"
      ]
    },
    {
      "cell_type": "code",
      "metadata": {
        "id": "i55HLsiDkEQl"
      },
      "source": [
        "import pandas as pd"
      ],
      "execution_count": 1,
      "outputs": []
    },
    {
      "cell_type": "code",
      "metadata": {
        "colab": {
          "base_uri": "https://localhost:8080/"
        },
        "id": "EESnwoqdkwYr",
        "outputId": "03a3a06a-b7ca-49b2-8382-969f86abdbb9"
      },
      "source": [
        "marksUT= {'Name':['Raman','Raman','Raman','Zuhaire','Zuhaire','Zuhaire', 'Ashravy','Ashravy','Ashravy','Mishti','Mishti','Mishti'],\n",
        " 'UT':[1,2,3,1,2,3,1,2,3,1,2,3],\n",
        " 'Maths':[22,21,14,20,23,22,23,24,12,15,18,17],\n",
        " 'Science':[21,20,19,17,15,18,19,22,25,22,21,18],\n",
        " 'S.St':[18,17,15,22,21,19,20,24,19,25,25,20],\n",
        " 'Hindi':[20,22,24,24,25,23,15,17,21,22,24,25],\n",
        " 'Eng':[21,24,23,19,15,13,22,21,23,22,23,20]\n",
        " }\n",
        "\n",
        "df=pd.DataFrame(marksUT)\n",
        "\n",
        "print(df)"
      ],
      "execution_count": 3,
      "outputs": [
        {
          "output_type": "stream",
          "name": "stdout",
          "text": [
            "       Name  UT  Maths  Science  S.St  Hindi  Eng\n",
            "0     Raman   1     22       21    18     20   21\n",
            "1     Raman   2     21       20    17     22   24\n",
            "2     Raman   3     14       19    15     24   23\n",
            "3   Zuhaire   1     20       17    22     24   19\n",
            "4   Zuhaire   2     23       15    21     25   15\n",
            "5   Zuhaire   3     22       18    19     23   13\n",
            "6   Ashravy   1     23       19    20     15   22\n",
            "7   Ashravy   2     24       22    24     17   21\n",
            "8   Ashravy   3     12       25    19     21   23\n",
            "9    Mishti   1     15       22    25     22   22\n",
            "10   Mishti   2     18       21    25     24   23\n",
            "11   Mishti   3     17       18    20     25   20\n"
          ]
        }
      ]
    },
    {
      "cell_type": "markdown",
      "metadata": {
        "id": "nh-Tf1uokRZG"
      },
      "source": [
        "#**Data Aggregations**\n",
        "\n",
        "Aggregation means to transform the dataset and produce a single numeric value  from an array. Aggregation can be applied to one or more columns together. \n",
        "\n",
        "\n",
        "Aggregate functions:\n",
        "\n",
        "*   max()\n",
        "*   min()\n",
        "*   sum()\n",
        "*   count()\n",
        "*   std()\n",
        "*   var()"
      ]
    },
    {
      "cell_type": "code",
      "metadata": {
        "colab": {
          "base_uri": "https://localhost:8080/"
        },
        "id": "ttSjPXg3ktyF",
        "outputId": "65e8f21f-4c23-45e1-dfd2-406fa5345d38"
      },
      "source": [
        "df.aggregate('max')"
      ],
      "execution_count": 4,
      "outputs": [
        {
          "output_type": "execute_result",
          "data": {
            "text/plain": [
              "Name       Zuhaire\n",
              "UT               3\n",
              "Maths           24\n",
              "Science         25\n",
              "S.St            25\n",
              "Hindi           25\n",
              "Eng             24\n",
              "dtype: object"
            ]
          },
          "metadata": {},
          "execution_count": 4
        }
      ]
    },
    {
      "cell_type": "code",
      "metadata": {
        "colab": {
          "base_uri": "https://localhost:8080/",
          "height": 111
        },
        "id": "pIpQLvP8k5-W",
        "outputId": "c5388f1d-811f-4ee0-e439-1a871440a493"
      },
      "source": [
        "#To use multiple aggregate functions in a single statement\n",
        "df.aggregate(['max','count'])"
      ],
      "execution_count": 5,
      "outputs": [
        {
          "output_type": "execute_result",
          "data": {
            "text/html": [
              "<div>\n",
              "<style scoped>\n",
              "    .dataframe tbody tr th:only-of-type {\n",
              "        vertical-align: middle;\n",
              "    }\n",
              "\n",
              "    .dataframe tbody tr th {\n",
              "        vertical-align: top;\n",
              "    }\n",
              "\n",
              "    .dataframe thead th {\n",
              "        text-align: right;\n",
              "    }\n",
              "</style>\n",
              "<table border=\"1\" class=\"dataframe\">\n",
              "  <thead>\n",
              "    <tr style=\"text-align: right;\">\n",
              "      <th></th>\n",
              "      <th>Name</th>\n",
              "      <th>UT</th>\n",
              "      <th>Maths</th>\n",
              "      <th>Science</th>\n",
              "      <th>S.St</th>\n",
              "      <th>Hindi</th>\n",
              "      <th>Eng</th>\n",
              "    </tr>\n",
              "  </thead>\n",
              "  <tbody>\n",
              "    <tr>\n",
              "      <th>max</th>\n",
              "      <td>Zuhaire</td>\n",
              "      <td>3</td>\n",
              "      <td>24</td>\n",
              "      <td>25</td>\n",
              "      <td>25</td>\n",
              "      <td>25</td>\n",
              "      <td>24</td>\n",
              "    </tr>\n",
              "    <tr>\n",
              "      <th>count</th>\n",
              "      <td>12</td>\n",
              "      <td>12</td>\n",
              "      <td>12</td>\n",
              "      <td>12</td>\n",
              "      <td>12</td>\n",
              "      <td>12</td>\n",
              "      <td>12</td>\n",
              "    </tr>\n",
              "  </tbody>\n",
              "</table>\n",
              "</div>"
            ],
            "text/plain": [
              "          Name  UT  Maths  Science  S.St  Hindi  Eng\n",
              "max    Zuhaire   3     24       25    25     25   24\n",
              "count       12  12     12       12    12     12   12"
            ]
          },
          "metadata": {},
          "execution_count": 5
        }
      ]
    },
    {
      "cell_type": "markdown",
      "metadata": {
        "id": "CdNmQ9YTlBfp"
      },
      "source": [
        "**Note:** We can also use the parameter axis with\n",
        "aggregate function. By default, the value of axis is zero,\n",
        "means columns. "
      ]
    },
    {
      "cell_type": "code",
      "metadata": {
        "colab": {
          "base_uri": "https://localhost:8080/"
        },
        "id": "mKpzcTcqlA9b",
        "outputId": "11cfc7d8-55f6-45ae-936a-33eb067fccac"
      },
      "source": [
        "#Using the above statement with axis=0 gives the same result\n",
        "\n",
        "df['Maths'].aggregate(['max','min'],axis=0)"
      ],
      "execution_count": 7,
      "outputs": [
        {
          "output_type": "execute_result",
          "data": {
            "text/plain": [
              "max    24\n",
              "min    12\n",
              "Name: Maths, dtype: int64"
            ]
          },
          "metadata": {},
          "execution_count": 7
        }
      ]
    },
    {
      "cell_type": "code",
      "metadata": {
        "colab": {
          "base_uri": "https://localhost:8080/"
        },
        "id": "WABmUL1blVjE",
        "outputId": "3fd93303-0bb0-43b9-efbb-66422e2c363a"
      },
      "source": [
        "#Total marks of Maths and Science obtained by each student.\n",
        "print(df,'\\n')\n",
        "df1 = df[['Name','Maths','Science']]\n",
        "\n",
        "df1[['Maths','Science']].aggregate('sum',axis=1)"
      ],
      "execution_count": 15,
      "outputs": [
        {
          "output_type": "stream",
          "name": "stdout",
          "text": [
            "       Name  UT  Maths  Science  S.St  Hindi  Eng\n",
            "0     Raman   1     22       21    18     20   21\n",
            "1     Raman   2     21       20    17     22   24\n",
            "2     Raman   3     14       19    15     24   23\n",
            "3   Zuhaire   1     20       17    22     24   19\n",
            "4   Zuhaire   2     23       15    21     25   15\n",
            "5   Zuhaire   3     22       18    19     23   13\n",
            "6   Ashravy   1     23       19    20     15   22\n",
            "7   Ashravy   2     24       22    24     17   21\n",
            "8   Ashravy   3     12       25    19     21   23\n",
            "9    Mishti   1     15       22    25     22   22\n",
            "10   Mishti   2     18       21    25     24   23\n",
            "11   Mishti   3     17       18    20     25   20 \n",
            "\n"
          ]
        },
        {
          "output_type": "execute_result",
          "data": {
            "text/plain": [
              "0     43\n",
              "1     41\n",
              "2     33\n",
              "3     37\n",
              "4     38\n",
              "5     40\n",
              "6     42\n",
              "7     46\n",
              "8     37\n",
              "9     37\n",
              "10    39\n",
              "11    35\n",
              "dtype: int64"
            ]
          },
          "metadata": {},
          "execution_count": 15
        }
      ]
    },
    {
      "cell_type": "code",
      "metadata": {
        "id": "UPT8jdiumfjA"
      },
      "source": [
        ""
      ],
      "execution_count": null,
      "outputs": []
    }
  ]
}
