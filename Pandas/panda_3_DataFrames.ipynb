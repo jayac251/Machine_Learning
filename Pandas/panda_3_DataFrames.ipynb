{
  "nbformat": 4,
  "nbformat_minor": 0,
  "metadata": {
    "colab": {
      "name": "panda_basics_3.ipynb",
      "provenance": [],
      "authorship_tag": "ABX9TyNy9Ka3OpZte8CUfbqNz1WC",
      "include_colab_link": true
    },
    "kernelspec": {
      "name": "python3",
      "display_name": "Python 3"
    },
    "language_info": {
      "name": "python"
    }
  },
  "cells": [
    {
      "cell_type": "markdown",
      "metadata": {
        "id": "view-in-github",
        "colab_type": "text"
      },
      "source": [
        "<a href=\"https://colab.research.google.com/github/jayac251/Machine_Learning/blob/main/panda_basics_3.ipynb\" target=\"_parent\"><img src=\"https://colab.research.google.com/assets/colab-badge.svg\" alt=\"Open In Colab\"/></a>"
      ]
    },
    {
      "cell_type": "markdown",
      "metadata": {
        "id": "LNZoXnyK1YK-"
      },
      "source": [
        "## **1.2 DataFrames**\n",
        "\n",
        "Store data in tabular format\n",
        "\n",
        "| Col1 | Col2 | Col3 |\n",
        "| --- | --- | --- |\n",
        "| row1 | row1 | row1 |\n",
        "| row2 | row2 | row2 |"
      ]
    },
    {
      "cell_type": "code",
      "metadata": {
        "colab": {
          "base_uri": "https://localhost:8080/"
        },
        "id": "zK_Ed3w21Smn",
        "outputId": "9067633d-75a9-4d55-aa76-d9b7c4b70abc"
      },
      "source": [
        "#creation of empty dataframe\n",
        "import pandas as pd\n",
        "import numpy as np\n",
        "\n",
        "emptyDf = pd.DataFrame()\n",
        "\n",
        "print(emptyDf)\n",
        "\n",
        "#creation of dataframes using ndarrays\n",
        "\n",
        "arr1 = np.array(np.arange(0,9))\n",
        "arr2 = np.array(np.arange(10,19))\n",
        "arr3 = np.array(np.arange(20,30))\n",
        "\n",
        "dFrame1 = pd.DataFrame(arr1)\n",
        "print('\\n\\n',dFrame1)\n",
        "\n",
        "dFrame2 = pd.DataFrame([arr1,arr2,arr3])\n",
        "print('\\n\\n',dFrame2)\n",
        "\n",
        "dFrame2 = pd.DataFrame([arr1,arr2,arr3], columns=['A','B','C','D','E','F','G','H','I','J'])\n",
        "print('\\n\\n',dFrame2)"
      ],
      "execution_count": 2,
      "outputs": [
        {
          "output_type": "stream",
          "name": "stdout",
          "text": [
            "Empty DataFrame\n",
            "Columns: []\n",
            "Index: []\n",
            "\n",
            "\n",
            "    0\n",
            "0  0\n",
            "1  1\n",
            "2  2\n",
            "3  3\n",
            "4  4\n",
            "5  5\n",
            "6  6\n",
            "7  7\n",
            "8  8\n",
            "\n",
            "\n",
            "     0   1   2   3   4   5   6   7   8     9\n",
            "0   0   1   2   3   4   5   6   7   8   NaN\n",
            "1  10  11  12  13  14  15  16  17  18   NaN\n",
            "2  20  21  22  23  24  25  26  27  28  29.0\n",
            "\n",
            "\n",
            "     A   B   C   D   E   F   G   H   I     J\n",
            "0   0   1   2   3   4   5   6   7   8   NaN\n",
            "1  10  11  12  13  14  15  16  17  18   NaN\n",
            "2  20  21  22  23  24  25  26  27  28  29.0\n"
          ]
        }
      ]
    },
    {
      "cell_type": "code",
      "metadata": {
        "colab": {
          "base_uri": "https://localhost:8080/"
        },
        "id": "W6rbUw0p3UG_",
        "outputId": "80fa215c-1c9c-40c1-dab9-5e51ffbd2768"
      },
      "source": [
        "#creation of DF from list of Dictionaries\n",
        "\n",
        "dict1 = [{ 'India':'Virath Kohli','Australia':'Steve Smith','England':'Joe Root'},\n",
        "         { 'India':'Rohit Sharma','Australia':'Aaron Finch','England':'Ben Stokes'},\n",
        "         { 'India':'KL Rahul','England':'Craig Overton'}]\n",
        "print(dict1)\n",
        "\n",
        "dFrame3 = pd.DataFrame(dict1)\n",
        "print('\\n\\n',dFrame3)\n"
      ],
      "execution_count": null,
      "outputs": [
        {
          "output_type": "stream",
          "name": "stdout",
          "text": [
            "[{'India': 'Virath Kohli', 'Australia': 'Steve Smith', 'England': 'Joe Root'}, {'India': 'Rohit Sharma', 'Australia': 'Aaron Finch', 'England': 'Ben Stokes'}, {'India': 'KL Rahul', 'England': 'Craig Overton'}]\n",
            "\n",
            "\n",
            "           India    Australia        England\n",
            "0  Virath Kohli  Steve Smith       Joe Root\n",
            "1  Rohit Sharma  Aaron Finch     Ben Stokes\n",
            "2      KL Rahul          NaN  Craig Overton\n"
          ]
        }
      ]
    },
    {
      "cell_type": "code",
      "metadata": {
        "colab": {
          "base_uri": "https://localhost:8080/"
        },
        "id": "6NEjbotM4irw",
        "outputId": "a9a1a790-58c0-4d02-cfaa-3d064c19eb68"
      },
      "source": [
        "#creation of DF from Dictionaries of list\n",
        "\n",
        "dict2 = {'Supraja':['Apple','Banana','Orange'],\n",
        "         'Girisha':['Grapes','Chikku',np.nan],\n",
        "         'Ashwin':['Pomogranete',np.nan,np.nan],\n",
        "         'Adhira':['SweetLime',np.nan,np.nan]}\n",
        "\n",
        "dFrame4 = pd.DataFrame(dict2)\n",
        "print('\\n\\n',dFrame4)\n",
        "\n",
        "dFrame4 = pd.DataFrame(dict2, columns=['Supraja','Girisha','Adhira','Ashwin'])\n",
        "print('\\n\\n',dFrame4)"
      ],
      "execution_count": null,
      "outputs": [
        {
          "output_type": "stream",
          "name": "stdout",
          "text": [
            "\n",
            "\n",
            "   Supraja Girisha       Ashwin     Adhira\n",
            "0   Apple  Grapes  Pomogranete  SweetLime\n",
            "1  Banana  Chikku          NaN        NaN\n",
            "2  Orange     NaN          NaN        NaN\n",
            "\n",
            "\n",
            "   Supraja Girisha     Adhira       Ashwin\n",
            "0   Apple  Grapes  SweetLime  Pomogranete\n",
            "1  Banana  Chikku        NaN          NaN\n",
            "2  Orange     NaN        NaN          NaN\n"
          ]
        }
      ]
    },
    {
      "cell_type": "code",
      "metadata": {
        "colab": {
          "base_uri": "https://localhost:8080/"
        },
        "id": "Zig5WpON6jUa",
        "outputId": "528413e5-a8bd-45fa-f4ed-0f3dfd82710c"
      },
      "source": [
        "#creation of DF from series\n",
        "\n",
        "series1 = pd.Series([10,20,30])\n",
        "series2 = pd.Series(['Apple','Banana','Cherry'],index=[3,5,1])\n",
        "dFrame5= pd.DataFrame([series1,series2])\n",
        "print('\\n\\n',dFrame5)\n"
      ],
      "execution_count": null,
      "outputs": [
        {
          "output_type": "stream",
          "name": "stdout",
          "text": [
            "\n",
            "\n",
            "       0       1     2      3       5\n",
            "0  10.0      20  30.0    NaN     NaN\n",
            "1   NaN  Cherry   NaN  Apple  Banana\n"
          ]
        }
      ]
    },
    {
      "cell_type": "code",
      "metadata": {
        "colab": {
          "base_uri": "https://localhost:8080/"
        },
        "id": "T_x_H2nz7xDC",
        "outputId": "1c788ea4-7114-4510-e502-92d6a5a872e7"
      },
      "source": [
        "#creation of DF from dictionary of Series\n",
        "\n",
        "dict1 = {'Arun':pd.Series([10,20,30],index=['Maths','Science','Social']),\n",
        "         'Bala':pd.Series([10,20,30],index=['Maths','Science','Social']),\n",
        "         'Bala2':pd.Series([10,20,30],index=['Maths','Science','Social']),\n",
        "         'Chandra':pd.Series([10],index=['Maths'])}\n",
        "dFrame6= pd.DataFrame(dict1)\n",
        "print('\\n\\n',dFrame6)\n",
        "\n",
        "type(dFrame6.Arun)\n"
      ],
      "execution_count": 41,
      "outputs": [
        {
          "output_type": "stream",
          "name": "stdout",
          "text": [
            "\n",
            "\n",
            "          Arun  Bala  Bala2  Chandra\n",
            "Maths      10    10     10     10.0\n",
            "Science    20    20     20      NaN\n",
            "Social     30    30     30      NaN\n"
          ]
        },
        {
          "output_type": "execute_result",
          "data": {
            "text/plain": [
              "pandas.core.series.Series"
            ]
          },
          "metadata": {},
          "execution_count": 41
        }
      ]
    },
    {
      "cell_type": "markdown",
      "metadata": {
        "id": "DVrx_Ghlrxi-"
      },
      "source": [
        "##**Operations on rows and columns in Dataframes**"
      ]
    },
    {
      "cell_type": "code",
      "metadata": {
        "colab": {
          "base_uri": "https://localhost:8080/"
        },
        "id": "-rVKsQ1useEH",
        "outputId": "dcb79988-9f89-41a3-eff8-335be3b49bcb"
      },
      "source": [
        "#Adding new column to DF\n",
        "\n",
        "dFrame6['Dan'] = 12\n",
        "\n",
        "dFrame6['Ela'] = [34,56,24]\n",
        "\n",
        "#update existing column\n",
        "dFrame6['Ela'] = [34,59,24]\n",
        "\n",
        "print('\\n\\n',dFrame6)\n"
      ],
      "execution_count": 42,
      "outputs": [
        {
          "output_type": "stream",
          "name": "stdout",
          "text": [
            "\n",
            "\n",
            "          Arun  Bala  Bala2  Chandra  Dan  Ela\n",
            "Maths      10    10     10     10.0   12   34\n",
            "Science    20    20     20      NaN   12   59\n",
            "Social     30    30     30      NaN   12   24\n"
          ]
        }
      ]
    },
    {
      "cell_type": "code",
      "metadata": {
        "colab": {
          "base_uri": "https://localhost:8080/"
        },
        "id": "GVv8pRjCyw-j",
        "outputId": "67ae565b-95cb-4e73-9aa5-b5d391a2e127"
      },
      "source": [
        "#Adding new row to DF\n",
        "dFrame6.loc['Tamil'] = [34,54,23,53,44,54]\n",
        "\n",
        "print('\\n\\n',dFrame6)\n",
        "\n",
        "#update existing row\n",
        "dFrame6.loc['Tamil'] = [34,54,23,53,44,100]\n",
        "print('\\n\\n',dFrame6)\n",
        "\n",
        "dFrame6.loc['CS'] = 0\n",
        "print('\\n\\n',dFrame6)\n"
      ],
      "execution_count": 43,
      "outputs": [
        {
          "output_type": "stream",
          "name": "stdout",
          "text": [
            "\n",
            "\n",
            "          Arun  Bala  Bala2  Chandra  Dan  Ela\n",
            "Maths      10    10     10     10.0   12   34\n",
            "Science    20    20     20      NaN   12   59\n",
            "Social     30    30     30      NaN   12   24\n",
            "Tamil      34    54     23     53.0   44   54\n",
            "\n",
            "\n",
            "          Arun  Bala  Bala2  Chandra  Dan  Ela\n",
            "Maths      10    10     10     10.0   12   34\n",
            "Science    20    20     20      NaN   12   59\n",
            "Social     30    30     30      NaN   12   24\n",
            "Tamil      34    54     23     53.0   44  100\n",
            "\n",
            "\n",
            "          Arun  Bala  Bala2  Chandra  Dan  Ela\n",
            "Maths      10    10     10     10.0   12   34\n",
            "Science    20    20     20      NaN   12   59\n",
            "Social     30    30     30      NaN   12   24\n",
            "Tamil      34    54     23     53.0   44  100\n",
            "CS          0     0      0      0.0    0    0\n"
          ]
        }
      ]
    },
    {
      "cell_type": "markdown",
      "metadata": {
        "id": "Wfe-amVMztt8"
      },
      "source": [
        "#**Deleting rows and columns from DF**\n",
        "\n",
        "DataFrame.drop()\n",
        "\n",
        "\n",
        "to delete row, axis = 0\n",
        "\n",
        "to delete col, axis = 1\n"
      ]
    },
    {
      "cell_type": "code",
      "metadata": {
        "colab": {
          "base_uri": "https://localhost:8080/"
        },
        "id": "9HwrDyC2zjL8",
        "outputId": "ac9883b3-5571-4460-dde8-dfa4b4b53e03"
      },
      "source": [
        "#Deleting rows and columns from DF\n",
        "\n",
        "print('\\n\\n',dFrame6)\n",
        "\n",
        "#drop row\n",
        "dFrame6 = dFrame6.drop('CS',axis=0)\n",
        "print('\\n\\n',dFrame6)\n",
        "\n",
        "#drop col\n",
        "dFrame6 = dFrame6.drop(['Ela','Dan'],axis=1)\n",
        "print('\\n\\n',dFrame6)\n",
        "\n"
      ],
      "execution_count": 44,
      "outputs": [
        {
          "output_type": "stream",
          "name": "stdout",
          "text": [
            "\n",
            "\n",
            "          Arun  Bala  Bala2  Chandra  Dan  Ela\n",
            "Maths      10    10     10     10.0   12   34\n",
            "Science    20    20     20      NaN   12   59\n",
            "Social     30    30     30      NaN   12   24\n",
            "Tamil      34    54     23     53.0   44  100\n",
            "CS          0     0      0      0.0    0    0\n",
            "\n",
            "\n",
            "          Arun  Bala  Bala2  Chandra  Dan  Ela\n",
            "Maths      10    10     10     10.0   12   34\n",
            "Science    20    20     20      NaN   12   59\n",
            "Social     30    30     30      NaN   12   24\n",
            "Tamil      34    54     23     53.0   44  100\n",
            "\n",
            "\n",
            "          Arun  Bala  Bala2  Chandra\n",
            "Maths      10    10     10     10.0\n",
            "Science    20    20     20      NaN\n",
            "Social     30    30     30      NaN\n",
            "Tamil      34    54     23     53.0\n"
          ]
        }
      ]
    },
    {
      "cell_type": "markdown",
      "metadata": {
        "id": "6q4AbLNG097e"
      },
      "source": [
        "**Renaming row labels in DF**"
      ]
    },
    {
      "cell_type": "code",
      "metadata": {
        "colab": {
          "base_uri": "https://localhost:8080/"
        },
        "id": "f301UZMI07MH",
        "outputId": "a5118eb5-ae1c-4d77-d69c-ac0d7114b824"
      },
      "source": [
        "#Renaming row labels\n",
        "\n",
        "print('\\n\\n',dFrame6)\n",
        "dFrame6 = dFrame6.rename({'Maths':'Mathematics', 'Social':'Social Science'})\n",
        "print('\\n\\n',dFrame6)\n",
        "\n"
      ],
      "execution_count": 46,
      "outputs": [
        {
          "output_type": "stream",
          "name": "stdout",
          "text": [
            "\n",
            "\n",
            "                 Arun  Bala  Bala2  Chandra\n",
            "Mathematics       10    10     10     10.0\n",
            "Science           20    20     20      NaN\n",
            "Social Science    30    30     30      NaN\n",
            "Tamil             34    54     23     53.0\n",
            "\n",
            "\n",
            "                 Arun  Bala  Bala2  Chandra\n",
            "Mathematics       10    10     10     10.0\n",
            "Science           20    20     20      NaN\n",
            "Social Science    30    30     30      NaN\n",
            "Tamil             34    54     23     53.0\n"
          ]
        }
      ]
    },
    {
      "cell_type": "code",
      "metadata": {
        "colab": {
          "base_uri": "https://localhost:8080/"
        },
        "id": "dRklT00T1wOd",
        "outputId": "aee12610-5360-48bd-dc89-2a55c3cebc46"
      },
      "source": [
        "#Renaming col labels\n",
        "\n",
        "dFrame6 = dFrame6.rename({ 'Bala2':'Ela'}, axis='columns')\n",
        "print('\\n\\n',dFrame6)"
      ],
      "execution_count": 47,
      "outputs": [
        {
          "output_type": "stream",
          "name": "stdout",
          "text": [
            "\n",
            "\n",
            "                 Arun  Bala  Ela  Chandra\n",
            "Mathematics       10    10   10     10.0\n",
            "Science           20    20   20      NaN\n",
            "Social Science    30    30   30      NaN\n",
            "Tamil             34    54   23     53.0\n"
          ]
        }
      ]
    },
    {
      "cell_type": "markdown",
      "metadata": {
        "id": "mYiww-oc2CX5"
      },
      "source": [
        "## **Accessing DF elements through indexing**\n",
        "\n",
        "\n",
        "\n",
        "*   Label based indexing\n",
        "*   Boolean indexing\n",
        "\n",
        "\n",
        "\n"
      ]
    },
    {
      "cell_type": "code",
      "metadata": {
        "colab": {
          "base_uri": "https://localhost:8080/"
        },
        "id": "HOvYVq6x2UcQ",
        "outputId": "5347648c-82d7-424a-c838-5db2cf89138b"
      },
      "source": [
        "#Label based indexing\n",
        "print('\\n\\n',dFrame6)\n",
        "print('\\n\\n')\n",
        "dFrame6.loc['Science']\n",
        "\n"
      ],
      "execution_count": 53,
      "outputs": [
        {
          "output_type": "stream",
          "name": "stdout",
          "text": [
            "\n",
            "\n",
            "                 Arun  Bala  Ela  Chandra\n",
            "Mathematics       10    10   10     10.0\n",
            "Science           20    20   20      NaN\n",
            "Social Science    30    30   30      NaN\n",
            "Tamil             34    54   23     53.0\n",
            "\n",
            "\n",
            "\n"
          ]
        },
        {
          "output_type": "execute_result",
          "data": {
            "text/plain": [
              "Arun       20.0\n",
              "Bala       20.0\n",
              "Ela        20.0\n",
              "Chandra     NaN\n",
              "Name: Science, dtype: float64"
            ]
          },
          "metadata": {},
          "execution_count": 53
        }
      ]
    },
    {
      "cell_type": "code",
      "metadata": {
        "colab": {
          "base_uri": "https://localhost:8080/"
        },
        "id": "EO47183Z3N0k",
        "outputId": "e7343026-bd2c-418d-8617-19478ca1c629"
      },
      "source": [
        "arr7 = np.array(np.arange(1,10))\n",
        "\n",
        "dFrame7 = pd.DataFrame(arr7)\n",
        "print(dFrame7,'\\n\\n\\n')\n",
        "\n",
        "dFrame7.loc[3] # not integer position, it considers as label of index"
      ],
      "execution_count": 61,
      "outputs": [
        {
          "output_type": "stream",
          "name": "stdout",
          "text": [
            "   0\n",
            "0  1\n",
            "1  2\n",
            "2  3\n",
            "3  4\n",
            "4  5\n",
            "5  6\n",
            "6  7\n",
            "7  8\n",
            "8  9 \n",
            "\n",
            "\n",
            "\n"
          ]
        },
        {
          "output_type": "execute_result",
          "data": {
            "text/plain": [
              "0    4\n",
              "Name: 3, dtype: int64"
            ]
          },
          "metadata": {},
          "execution_count": 61
        }
      ]
    },
    {
      "cell_type": "code",
      "metadata": {
        "colab": {
          "base_uri": "https://localhost:8080/"
        },
        "id": "oKQei5E64DVE",
        "outputId": "9ecff6df-9598-4b39-afa1-e46cdde4cb5f"
      },
      "source": [
        "dFrame6.loc[:,'Arun']\n",
        "\n",
        "dFrame6['Arun']"
      ],
      "execution_count": 68,
      "outputs": [
        {
          "output_type": "execute_result",
          "data": {
            "text/plain": [
              "Mathematics       10\n",
              "Science           20\n",
              "Social Science    30\n",
              "Tamil             34\n",
              "Name: Arun, dtype: int64"
            ]
          },
          "metadata": {},
          "execution_count": 68
        }
      ]
    },
    {
      "cell_type": "code",
      "metadata": {
        "colab": {
          "base_uri": "https://localhost:8080/",
          "height": 111
        },
        "id": "2lrSHVQn4ijB",
        "outputId": "4d509dd7-b837-4833-8772-835c80b6a22b"
      },
      "source": [
        "dFrame6.loc[['Mathematics','Science']]"
      ],
      "execution_count": 69,
      "outputs": [
        {
          "output_type": "execute_result",
          "data": {
            "text/html": [
              "<div>\n",
              "<style scoped>\n",
              "    .dataframe tbody tr th:only-of-type {\n",
              "        vertical-align: middle;\n",
              "    }\n",
              "\n",
              "    .dataframe tbody tr th {\n",
              "        vertical-align: top;\n",
              "    }\n",
              "\n",
              "    .dataframe thead th {\n",
              "        text-align: right;\n",
              "    }\n",
              "</style>\n",
              "<table border=\"1\" class=\"dataframe\">\n",
              "  <thead>\n",
              "    <tr style=\"text-align: right;\">\n",
              "      <th></th>\n",
              "      <th>Arun</th>\n",
              "      <th>Bala</th>\n",
              "      <th>Ela</th>\n",
              "      <th>Chandra</th>\n",
              "    </tr>\n",
              "  </thead>\n",
              "  <tbody>\n",
              "    <tr>\n",
              "      <th>Mathematics</th>\n",
              "      <td>10</td>\n",
              "      <td>10</td>\n",
              "      <td>10</td>\n",
              "      <td>10.0</td>\n",
              "    </tr>\n",
              "    <tr>\n",
              "      <th>Science</th>\n",
              "      <td>20</td>\n",
              "      <td>20</td>\n",
              "      <td>20</td>\n",
              "      <td>NaN</td>\n",
              "    </tr>\n",
              "  </tbody>\n",
              "</table>\n",
              "</div>"
            ],
            "text/plain": [
              "             Arun  Bala  Ela  Chandra\n",
              "Mathematics    10    10   10     10.0\n",
              "Science        20    20   20      NaN"
            ]
          },
          "metadata": {},
          "execution_count": 69
        }
      ]
    },
    {
      "cell_type": "code",
      "metadata": {
        "colab": {
          "base_uri": "https://localhost:8080/"
        },
        "id": "9EQgDw8l4tb5",
        "outputId": "42e3209c-234c-4d19-cdea-d80cd73fcf9a"
      },
      "source": [
        "#Boolean indexing\n",
        "print('\\n\\n',dFrame6,'\\n\\n\\n')\n",
        "dFrame6.loc['Mathematics']>8\n",
        "\n",
        "dFrame6['Bala'] > 10"
      ],
      "execution_count": 76,
      "outputs": [
        {
          "output_type": "stream",
          "name": "stdout",
          "text": [
            "\n",
            "\n",
            "                 Arun  Bala  Ela  Chandra\n",
            "Mathematics       10    10   10     10.0\n",
            "Science           20    20   20      NaN\n",
            "Social Science    30    30   30      NaN\n",
            "Tamil             34    54   23     53.0 \n",
            "\n",
            "\n",
            "\n"
          ]
        },
        {
          "output_type": "execute_result",
          "data": {
            "text/plain": [
              "Mathematics       False\n",
              "Science            True\n",
              "Social Science     True\n",
              "Tamil              True\n",
              "Name: Bala, dtype: bool"
            ]
          },
          "metadata": {},
          "execution_count": 76
        }
      ]
    },
    {
      "cell_type": "markdown",
      "metadata": {
        "id": "ZmOtYYNJ5WRz"
      },
      "source": [
        "##**Accessing DF elements through slicing**\n",
        "\n"
      ]
    },
    {
      "cell_type": "code",
      "metadata": {
        "colab": {
          "base_uri": "https://localhost:8080/"
        },
        "id": "V7Ji_tjm5mcU",
        "outputId": "b6a9d896-78bc-4759-a95c-604e6bc3cdc8"
      },
      "source": [
        "print('\\n\\n',dFrame6,'\\n\\n\\n')\n",
        "\n",
        "print(dFrame6.loc['Mathematics':'Social Science'] ,'\\n\\n\\n')\n",
        "\n",
        "print(dFrame6.loc['Mathematics':'Social Science','Arun'] ,'\\n\\n\\n')\n",
        "\n",
        "print(dFrame6.loc['Mathematics':'Social Science','Arun':'Ela'] ,'\\n\\n\\n')\n",
        "\n",
        "print(dFrame6.loc['Mathematics':'Social Science','Arun':'Ela'] > 10,'\\n\\n\\n')\n"
      ],
      "execution_count": 82,
      "outputs": [
        {
          "output_type": "stream",
          "name": "stdout",
          "text": [
            "\n",
            "\n",
            "                 Arun  Bala  Ela  Chandra\n",
            "Mathematics       10    10   10     10.0\n",
            "Science           20    20   20      NaN\n",
            "Social Science    30    30   30      NaN\n",
            "Tamil             34    54   23     53.0 \n",
            "\n",
            "\n",
            "\n",
            "                Arun  Bala  Ela  Chandra\n",
            "Mathematics       10    10   10     10.0\n",
            "Science           20    20   20      NaN\n",
            "Social Science    30    30   30      NaN \n",
            "\n",
            "\n",
            "\n",
            "Mathematics       10\n",
            "Science           20\n",
            "Social Science    30\n",
            "Name: Arun, dtype: int64 \n",
            "\n",
            "\n",
            "\n",
            "                Arun  Bala  Ela\n",
            "Mathematics       10    10   10\n",
            "Science           20    20   20\n",
            "Social Science    30    30   30 \n",
            "\n",
            "\n",
            "\n",
            "                 Arun   Bala    Ela\n",
            "Mathematics     False  False  False\n",
            "Science          True   True   True\n",
            "Social Science   True   True   True \n",
            "\n",
            "\n",
            "\n"
          ]
        }
      ]
    },
    {
      "cell_type": "markdown",
      "metadata": {
        "id": "0zIYLF3z6dly"
      },
      "source": [
        "##**Filtering rows in DataFrames**"
      ]
    },
    {
      "cell_type": "code",
      "metadata": {
        "colab": {
          "base_uri": "https://localhost:8080/"
        },
        "id": "NGYedPly6l7E",
        "outputId": "28488a84-7f3b-4fb6-e629-79c46a582921"
      },
      "source": [
        "# to select or omit particular row(s) , we can use a boolean list specifying True for rows to be shown and 'False' for rows to be omitted.\n",
        "print('\\n\\n',dFrame6,'\\n\\n\\n')\n",
        "\n",
        "print(dFrame6.loc[[True,True,False,False]])\n"
      ],
      "execution_count": 86,
      "outputs": [
        {
          "output_type": "stream",
          "name": "stdout",
          "text": [
            "\n",
            "\n",
            "                 Arun  Bala  Ela  Chandra\n",
            "Mathematics       10    10   10     10.0\n",
            "Science           20    20   20      NaN\n",
            "Social Science    30    30   30      NaN\n",
            "Tamil             34    54   23     53.0 \n",
            "\n",
            "\n",
            "\n",
            "             Arun  Bala  Ela  Chandra\n",
            "Mathematics    10    10   10     10.0\n",
            "Science        20    20   20      NaN\n"
          ]
        }
      ]
    },
    {
      "cell_type": "markdown",
      "metadata": {
        "id": "HRoJz1v57L5A"
      },
      "source": [
        "##**Joining, Merging, concatenation of DataFrames**"
      ]
    },
    {
      "cell_type": "markdown",
      "metadata": {
        "id": "0hA0fM2t7alJ"
      },
      "source": [
        "###**Joining**"
      ]
    },
    {
      "cell_type": "code",
      "metadata": {
        "colab": {
          "base_uri": "https://localhost:8080/"
        },
        "id": "7nI0dEvl7SSK",
        "outputId": "88e14ff9-7a4a-4df1-e998-5ea5d1bb33c1"
      },
      "source": [
        "#Joining\n",
        "\n",
        "dict1 = {'Supraja':['Apple','Banana','Orange'],\n",
        "         'Girisha':['Grapes','Chikku',np.nan],\n",
        "         'Ashwin':['Pomogranete',np.nan,np.nan],\n",
        "         'Adhira':['SweetLime',np.nan,np.nan]}\n",
        "\n",
        "dFrame1 = pd.DataFrame(dict1)\n",
        "print('\\n\\n',dFrame1,'\\n\\n\\n')\n",
        "\n",
        "dict2={'Suresh':['Apple','Lemon','Orange'],\n",
        "         'Chitra':['Grapes','Chikku','Strawberry']}\n",
        "\n",
        "dFrame2 = pd.DataFrame(dict2,index=[0,4,5])\n",
        "print('\\n\\n',dFrame2,'\\n\\n\\n')\n",
        "\n",
        "\n",
        "#Join\n",
        "dFrame1 = dFrame1.append(dFrame2,)\n",
        "print('\\nAfter Append\\n',dFrame1,'\\n\\n\\n')\n",
        "\n",
        "dFrame1 = dFrame1.append(dFrame2,sort = True)\n",
        "\n",
        "#dFrame1 = dFrame1.append(dFrame2, verify_integrity= True)\n",
        "\n",
        "dFrame1 = dFrame1.append(dFrame2,ignore_index=True)\n"
      ],
      "execution_count": 97,
      "outputs": [
        {
          "output_type": "stream",
          "name": "stdout",
          "text": [
            "\n",
            "\n",
            "   Supraja Girisha       Ashwin     Adhira\n",
            "0   Apple  Grapes  Pomogranete  SweetLime\n",
            "1  Banana  Chikku          NaN        NaN\n",
            "2  Orange     NaN          NaN        NaN \n",
            "\n",
            "\n",
            "\n",
            "\n",
            "\n",
            "    Suresh      Chitra\n",
            "0   Apple      Grapes\n",
            "4   Lemon      Chikku\n",
            "5  Orange  Strawberry \n",
            "\n",
            "\n",
            "\n",
            "\n",
            "After Append\n",
            "   Supraja Girisha       Ashwin     Adhira  Suresh      Chitra\n",
            "0   Apple  Grapes  Pomogranete  SweetLime     NaN         NaN\n",
            "1  Banana  Chikku          NaN        NaN     NaN         NaN\n",
            "2  Orange     NaN          NaN        NaN     NaN         NaN\n",
            "0     NaN     NaN          NaN        NaN   Apple      Grapes\n",
            "4     NaN     NaN          NaN        NaN   Lemon      Chikku\n",
            "5     NaN     NaN          NaN        NaN  Orange  Strawberry \n",
            "\n",
            "\n",
            "\n"
          ]
        }
      ]
    },
    {
      "cell_type": "markdown",
      "metadata": {
        "id": "qhueGeea91S8"
      },
      "source": [
        "##**Attributes of DataFrame**\n"
      ]
    },
    {
      "cell_type": "code",
      "metadata": {
        "colab": {
          "base_uri": "https://localhost:8080/"
        },
        "id": "1NA6cByE9611",
        "outputId": "5a9b198c-fc2f-4c99-9137-c99a41723260"
      },
      "source": [
        "ForestArea = {'Assam' :pd.Series([78438, 2797,10192, 15116], index = ['GeoArea', 'VeryDense','ModeratelyDense', 'OpenForest']),\n",
        "              'Kerala' :pd.Series([ 38852, 1663,9407, 9251], index = ['GeoArea' ,'VeryDense','ModeratelyDense', 'OpenForest']),\n",
        "              'Delhi' :pd.Series([1483, 6.72, 56.24,129.45], index = ['GeoArea', 'VeryDense','ModeratelyDense', 'OpenForest'])}\n",
        "ForestAreaDF = pd.DataFrame(ForestArea)\n",
        "ForestAreaDF\n",
        "\n",
        "#To display row labels\n",
        "print('\\nDataFrame.index ==>',ForestAreaDF.index)\n",
        "\n",
        "#to display col labels\n",
        "print('\\nDataFrame.columns ==>',ForestAreaDF.columns)\n",
        "\n",
        "#to display data type of each col\n",
        "print('\\nDataFrame.dtypes ==>',ForestAreaDF.dtypes)\n",
        "\n",
        "#to display a numpy ndarray having all values  in the DF without the axis labels\n",
        "print('\\nDataFrame.values ==>',ForestAreaDF.values)\n",
        "\n",
        "#to display a tuple representing the dimensionality of the dataframe\n",
        "print('\\nDataFrame.shape ==>',ForestAreaDF.shape, ' <== means 4 rows and 3 cols')\n",
        "\n",
        "print('\\nDataFrame.size ==>',ForestAreaDF.size, ' <== means DF has 12 values in it')\n",
        "\n",
        "# to transpose DF\n",
        "print('\\nDataFrame.T ==>',ForestAreaDF.T)\n",
        "\n",
        "print('\\nDataFrame.head(n) ==>',ForestAreaDF.head(2))\n",
        "print('\\nDataFrame.tail(n) ==>',ForestAreaDF.tail(2))\n"
      ],
      "execution_count": 111,
      "outputs": [
        {
          "output_type": "stream",
          "name": "stdout",
          "text": [
            "\n",
            "DataFrame.index ==> Index(['GeoArea', 'VeryDense', 'ModeratelyDense', 'OpenForest'], dtype='object')\n",
            "\n",
            "DataFrame.columns ==> Index(['Assam', 'Kerala', 'Delhi'], dtype='object')\n",
            "\n",
            "DataFrame.dtypes ==> Assam       int64\n",
            "Kerala      int64\n",
            "Delhi     float64\n",
            "dtype: object\n",
            "\n",
            "DataFrame.values ==> [[7.8438e+04 3.8852e+04 1.4830e+03]\n",
            " [2.7970e+03 1.6630e+03 6.7200e+00]\n",
            " [1.0192e+04 9.4070e+03 5.6240e+01]\n",
            " [1.5116e+04 9.2510e+03 1.2945e+02]]\n",
            "\n",
            "DataFrame.shape ==> (4, 3)  <== means 4 rows and 3 cols\n",
            "\n",
            "DataFrame.size ==> 12  <== means DF has 12 values in it\n",
            "\n",
            "DataFrame.T ==>         GeoArea  VeryDense  ModeratelyDense  OpenForest\n",
            "Assam   78438.0    2797.00         10192.00    15116.00\n",
            "Kerala  38852.0    1663.00          9407.00     9251.00\n",
            "Delhi    1483.0       6.72            56.24      129.45\n",
            "\n",
            "DataFrame.head(n) ==>            Assam  Kerala    Delhi\n",
            "GeoArea    78438   38852  1483.00\n",
            "VeryDense   2797    1663     6.72\n",
            "\n",
            "DataFrame.tail(n) ==>                  Assam  Kerala   Delhi\n",
            "ModeratelyDense  10192    9407   56.24\n",
            "OpenForest       15116    9251  129.45\n"
          ]
        }
      ]
    },
    {
      "cell_type": "markdown",
      "metadata": {
        "id": "TKRTi_4uIeeI"
      },
      "source": [
        "##**Importing and Exporting Data between CSV files and DataFrames**"
      ]
    },
    {
      "cell_type": "code",
      "metadata": {
        "colab": {
          "base_uri": "https://localhost:8080/"
        },
        "id": "OOCunrmgIwOz",
        "outputId": "fa845d1d-9616-4907-d5eb-91ea2792f736"
      },
      "source": [
        "#Exporting\n",
        "print(ForestAreaDF)\n",
        "\n",
        "ForestAreaDF.to_csv('ForestArea.csv',sep=',', header=True,index=True)\n",
        "\n"
      ],
      "execution_count": 113,
      "outputs": [
        {
          "output_type": "stream",
          "name": "stdout",
          "text": [
            "                 Assam  Kerala    Delhi\n",
            "GeoArea          78438   38852  1483.00\n",
            "VeryDense         2797    1663     6.72\n",
            "ModeratelyDense  10192    9407    56.24\n",
            "OpenForest       15116    9251   129.45\n"
          ]
        }
      ]
    },
    {
      "cell_type": "code",
      "metadata": {
        "colab": {
          "base_uri": "https://localhost:8080/"
        },
        "id": "kCi3SZfJIeK9",
        "outputId": "47fd7f2b-81c4-4986-a9c4-8e7670e6071b"
      },
      "source": [
        "#Importing\n",
        "\n",
        "ForestAreaFile = pd.read_csv('ForestArea.csv',sep=',', header=0)\n",
        "\n",
        "print(ForestAreaFile)"
      ],
      "execution_count": 116,
      "outputs": [
        {
          "output_type": "stream",
          "name": "stdout",
          "text": [
            "        Unnamed: 0  Assam  Kerala    Delhi\n",
            "0          GeoArea  78438   38852  1483.00\n",
            "1        VeryDense   2797    1663     6.72\n",
            "2  ModeratelyDense  10192    9407    56.24\n",
            "3       OpenForest  15116    9251   129.45\n"
          ]
        }
      ]
    }
  ]
}
