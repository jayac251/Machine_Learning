{
  "nbformat": 4,
  "nbformat_minor": 0,
  "metadata": {
    "colab": {
      "name": "Model Quality Metrics.ipynb",
      "provenance": [],
      "collapsed_sections": [],
      "authorship_tag": "ABX9TyM16Pg5iaZCce2EPz7Ytvr+",
      "include_colab_link": true
    },
    "kernelspec": {
      "name": "python3",
      "display_name": "Python 3"
    },
    "language_info": {
      "name": "python"
    }
  },
  "cells": [
    {
      "cell_type": "markdown",
      "metadata": {
        "id": "view-in-github",
        "colab_type": "text"
      },
      "source": [
        "<a href=\"https://colab.research.google.com/github/jayac251/Machine_Learning/blob/main/Model_Quality_Metrics.ipynb\" target=\"_parent\"><img src=\"https://colab.research.google.com/assets/colab-badge.svg\" alt=\"Open In Colab\"/></a>"
      ]
    },
    {
      "cell_type": "code",
      "execution_count": 3,
      "metadata": {
        "colab": {
          "base_uri": "https://localhost:8080/",
          "height": 326
        },
        "id": "SGQdnMDjECy_",
        "outputId": "4f586e1d-74e6-4f40-ab65-0bdf62efeafe"
      },
      "outputs": [
        {
          "output_type": "execute_result",
          "data": {
            "text/plain": [
              "<function matplotlib.pyplot.show>"
            ]
          },
          "metadata": {},
          "execution_count": 3
        },
        {
          "output_type": "display_data",
          "data": {
            "image/png": "[encoded data removed]",
            "text/plain": [
              "<Figure size 432x288 with 1 Axes>"
            ]
          },
          "metadata": {
            "needs_background": "light"
          }
        }
      ],
      "source": [
        "import pandas as pd\n",
        "import matplotlib.pyplot as plt\n",
        "\n",
        "period = ['Jan','Feb','Mar','Apr',\n",
        "          'May','Jun','Jul','Aug',\n",
        "          'Sep','Oct','Nov','Dec']\n",
        "\n",
        "\n",
        "actual = [35,35,10,5,\n",
        "          8,10,15,20,\n",
        "          23,21,22,25]\n",
        "\n",
        "forecast = [30,31,30,\n",
        "           10,12,17,\n",
        "           18,27,29,\n",
        "           24,23,22]          \n",
        "\n",
        "data = pd.DataFrame({'period' : period,\n",
        "                     'actual': actual,\n",
        "                     'forecast': forecast})\n",
        "\n",
        "ax = data.plot.line(x = 'period')\n",
        "ax.set_title('Forecast vs Actual', fontsize=16)\n",
        "ax.set_xticklabels(ax.get_xticklabels(), rotation=45, ha='right')\n",
        "plt.show\n",
        "\n"
      ]
    },
    {
      "cell_type": "code",
      "source": [
        "#MSE\n",
        "\n",
        "from sklearn.metrics import mean_squared_error\n",
        "print(mean_squared_error(data['actual'],data['forecast']))\n",
        "\n",
        "# smaller the error better the model"
      ],
      "metadata": {
        "colab": {
          "base_uri": "https://localhost:8080/"
        },
        "id": "NZg7x_PiH2TM",
        "outputId": "f244cf8b-6ad6-4a2b-e496-faf3a1ec0b92"
      },
      "execution_count": 4,
      "outputs": [
        {
          "output_type": "stream",
          "name": "stdout",
          "text": [
            "53.666666666666664\n"
          ]
        }
      ]
    },
    {
      "cell_type": "code",
      "source": [
        "#RMSE\n",
        "from math import sqrt\n",
        "\n",
        "\n",
        "print(sqrt(mean_squared_error(data['actual'],data['forecast'])))\n",
        "\n",
        "# lower RMSE better the model\n",
        "\n"
      ],
      "metadata": {
        "colab": {
          "base_uri": "https://localhost:8080/"
        },
        "id": "8RWmc-HaIM4K",
        "outputId": "1bfb10e6-d445-4a1b-8b67-2ad26ceba0ef"
      },
      "execution_count": 7,
      "outputs": [
        {
          "output_type": "stream",
          "name": "stdout",
          "text": [
            "7.32575365861197\n"
          ]
        }
      ]
    },
    {
      "cell_type": "code",
      "source": [
        "#MAE\n",
        "from sklearn.metrics import mean_absolute_error\n",
        "print(mean_absolute_error(data['actual'],data['forecast']))\n",
        "\n"
      ],
      "metadata": {
        "colab": {
          "base_uri": "https://localhost:8080/"
        },
        "id": "gow_2OlfKT1U",
        "outputId": "1d714a65-9929-487b-9a37-43a84097933f"
      },
      "execution_count": 8,
      "outputs": [
        {
          "output_type": "stream",
          "name": "stdout",
          "text": [
            "5.666666666666667\n"
          ]
        }
      ]
    },
    {
      "cell_type": "code",
      "source": [
        "#MAPE\n",
        "from sklearn.metrics import mean_absolute_percentage_error\n",
        "\n",
        "print(mean_absolute_percentage_error(data['actual'],data['forecast']))\n",
        "\n",
        "# results in % metric"
      ],
      "metadata": {
        "colab": {
          "base_uri": "https://localhost:8080/"
        },
        "id": "NhqFPQ91Kks4",
        "outputId": "099d9dbc-1105-419c-b332-5d61e1c70a6a"
      },
      "execution_count": 10,
      "outputs": [
        {
          "output_type": "stream",
          "name": "stdout",
          "text": [
            "0.46469367588932814\n"
          ]
        }
      ]
    },
    {
      "cell_type": "code",
      "source": [
        "#R2\n",
        "from sklearn.metrics import r2_score\n",
        "print(r2_score(data['actual'],data['forecast']))\n",
        "\n",
        "# % of increase of your model than the average\n",
        "# measured on a scale of 0 to 1, the above data means 40% BETTER PERFORMANCE THAN THE AVERAGE.\n",
        "# if the model is as bad  a pediction asusing the average, then the R2 will be zero.\n",
        "# THe only case where R2 can be negative is when the forecast is more than 100% working\n"
      ],
      "metadata": {
        "colab": {
          "base_uri": "https://localhost:8080/"
        },
        "id": "pnO_T09HNl9P",
        "outputId": "f11f41fe-50b5-4377-af42-f2fa04f6bf32"
      },
      "execution_count": 11,
      "outputs": [
        {
          "output_type": "stream",
          "name": "stdout",
          "text": [
            "0.39976699029126206\n"
          ]
        }
      ]
    },
    {
      "cell_type": "code",
      "source": [
        ""
      ],
      "metadata": {
        "id": "lL45thlQPuVJ"
      },
      "execution_count": null,
      "outputs": []
    },
    {
      "cell_type": "code",
      "source": [
        ""
      ],
      "metadata": {
        "id": "c7A-9IjDNmCu"
      },
      "execution_count": null,
      "outputs": []
    }
  ]
}