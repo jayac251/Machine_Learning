{
  "nbformat": 4,
  "nbformat_minor": 0,
  "metadata": {
    "colab": {
      "name": "panda_basics_2.ipynb",
      "provenance": [],
      "authorship_tag": "ABX9TyNcR76TP0RfUaelPUQ7p6uc",
      "include_colab_link": true
    },
    "kernelspec": {
      "name": "python3",
      "display_name": "Python 3"
    },
    "language_info": {
      "name": "python"
    }
  },
  "cells": [
    {
      "cell_type": "markdown",
      "metadata": {
        "id": "view-in-github",
        "colab_type": "text"
      },
      "source": [
        "<a href=\"https://colab.research.google.com/github/jayac251/Machine_Learning/blob/main/panda_basics_2.ipynb\" target=\"_parent\"><img src=\"https://colab.research.google.com/assets/colab-badge.svg\" alt=\"Open In Colab\"/></a>"
      ]
    },
    {
      "cell_type": "markdown",
      "metadata": {
        "id": "Fh1eJba8DZmD"
      },
      "source": [
        "##**1. Data structures in Pandas**\n",
        "\n",
        "*   Series\n",
        "*   Dataframe\n"
      ]
    },
    {
      "cell_type": "code",
      "metadata": {
        "id": "zmi276P4ELoQ"
      },
      "source": [
        "import pandas as pd"
      ],
      "execution_count": null,
      "outputs": []
    },
    {
      "cell_type": "markdown",
      "metadata": {
        "id": "ywmXcXRvDtU7"
      },
      "source": [
        "##**1.1 Series**\n",
        "\n",
        "*   One dimensional array\n",
        "*   contains sequence of values of any data type\n",
        "\n"
      ]
    },
    {
      "cell_type": "code",
      "metadata": {
        "colab": {
          "base_uri": "https://localhost:8080/"
        },
        "id": "X3RzWxvwEG2b",
        "outputId": "8a91c722-b7c4-4a16-da8a-0989bbe3cc1d"
      },
      "source": [
        "#creation of series from scalar values\n",
        "\n",
        "series1 = pd.Series([10,20,30])\n",
        "print(series1)"
      ],
      "execution_count": null,
      "outputs": [
        {
          "output_type": "stream",
          "name": "stdout",
          "text": [
            "0    10\n",
            "1    20\n",
            "2    30\n",
            "dtype: int64\n"
          ]
        }
      ]
    },
    {
      "cell_type": "code",
      "metadata": {
        "colab": {
          "base_uri": "https://localhost:8080/"
        },
        "id": "w4VDMccqDA4z",
        "outputId": "2755e283-c0b6-41d9-d42e-0cea415d11eb"
      },
      "source": [
        "#assign user-defined labels to the index\n",
        "\n",
        "series2 = pd.Series(['Apple','Banana','Cherry'],index=[3,5,1])\n",
        "\n",
        "print(series2)\n",
        "\n",
        "series3 = pd.Series(['Apple','Banana','Cherry'],index=['Alan','Barney','Choloe'])\n",
        "\n",
        "print(series3)\n"
      ],
      "execution_count": null,
      "outputs": [
        {
          "output_type": "stream",
          "name": "stdout",
          "text": [
            "3     Apple\n",
            "5    Banana\n",
            "1    Cherry\n",
            "dtype: object\n",
            "Alan       Apple\n",
            "Barney    Banana\n",
            "Choloe    Cherry\n",
            "dtype: object\n"
          ]
        }
      ]
    },
    {
      "cell_type": "code",
      "metadata": {
        "colab": {
          "base_uri": "https://localhost:8080/"
        },
        "id": "oPT8n5J7FenH",
        "outputId": "3b40682a-e56b-418d-8ab9-8ac82a052139"
      },
      "source": [
        "#creation of series from numpy arrays\n",
        "\n",
        "import numpy as np\n",
        "\n",
        "array1 = np.array([1,2,3,4])\n",
        "\n",
        "series4 = pd.Series(array1)\n",
        "\n",
        "print(series4)\n",
        "\n",
        "\n",
        "series5 = pd.Series(array1, index = ['Apple','Banana','Cherry','Dragon Fruit'])\n",
        "\n",
        "print(series5)"
      ],
      "execution_count": null,
      "outputs": [
        {
          "output_type": "stream",
          "name": "stdout",
          "text": [
            "0    1\n",
            "1    2\n",
            "2    3\n",
            "3    4\n",
            "dtype: int64\n",
            "Apple           1\n",
            "Banana          2\n",
            "Cherry          3\n",
            "Dragon Fruit    4\n",
            "dtype: int64\n"
          ]
        }
      ]
    },
    {
      "cell_type": "code",
      "metadata": {
        "colab": {
          "base_uri": "https://localhost:8080/"
        },
        "id": "rbgRwa6QGFlq",
        "outputId": "d2d8d4f1-ae85-4942-d0ab-f35c75ae5985"
      },
      "source": [
        "#creation of series from dictionary\n",
        "\n",
        "dict1 = { 'India':'Virath Kohli','Australia':'Steve Smith','England':'Joe Root'}\n",
        "print(dict1)\n",
        "series6 = pd.Series(dict1)\n",
        "print(series6)"
      ],
      "execution_count": null,
      "outputs": [
        {
          "output_type": "stream",
          "name": "stdout",
          "text": [
            "{'India': 'Virath Kohli', 'Australia': 'Steve Smith', 'England': 'Joe Root'}\n",
            "India        Virath Kohli\n",
            "Australia     Steve Smith\n",
            "England          Joe Root\n",
            "dtype: object\n"
          ]
        }
      ]
    },
    {
      "cell_type": "markdown",
      "metadata": {
        "id": "K7Oikjq9G256"
      },
      "source": [
        "##Accessing Elements of a Series\n",
        "\n",
        "Two types of Index\n",
        "\n",
        "\n",
        "*   Positional\n",
        "*   Labelled\n",
        "\n"
      ]
    },
    {
      "cell_type": "code",
      "metadata": {
        "colab": {
          "base_uri": "https://localhost:8080/"
        },
        "id": "VDE3Uqo5Gyrp",
        "outputId": "e0a8f709-e85a-437d-bff7-444e704ee926"
      },
      "source": [
        "# 1. Positional Index\n",
        "\n",
        "seriesNum = pd.Series([10,20,30])\n",
        "print(seriesNum[1])\n",
        "print(series5[1])\n",
        "\n",
        "# 2. Labelled Index\n",
        "# series5 = pd.Series(array1, index = ['Apple','Banana','Cherry','Dragon Fruit'])\n",
        "print(series5['Banana'])\n",
        "\n",
        "print('\\n',series5[[0,1,2]])\n",
        "\n",
        "print('\\n',series5[['Apple','Banana','Cherry']])\n"
      ],
      "execution_count": null,
      "outputs": [
        {
          "output_type": "stream",
          "name": "stdout",
          "text": [
            "20\n",
            "2\n",
            "2\n",
            "\n",
            " Apple     1\n",
            "Banana    2\n",
            "Cherry    3\n",
            "dtype: int64\n",
            "\n",
            " Apple     1\n",
            "Banana    2\n",
            "Cherry    3\n",
            "dtype: int64\n"
          ]
        }
      ]
    },
    {
      "cell_type": "code",
      "metadata": {
        "colab": {
          "base_uri": "https://localhost:8080/"
        },
        "id": "v6wgL7-jJwR2",
        "outputId": "613f24e3-52ad-4307-d559-292461def5c2"
      },
      "source": [
        "# altering the index of the series \n",
        "\n",
        "series5.index=['A','B','C','D']\n",
        "\n",
        "series5"
      ],
      "execution_count": null,
      "outputs": [
        {
          "output_type": "execute_result",
          "data": {
            "text/plain": [
              "A    1\n",
              "B    2\n",
              "C    3\n",
              "D    4\n",
              "dtype: int64"
            ]
          },
          "metadata": {},
          "execution_count": 25
        }
      ]
    },
    {
      "cell_type": "markdown",
      "metadata": {
        "id": "FiwDCQogKk9e"
      },
      "source": [
        "## **Slicing**\n",
        "\n"
      ]
    },
    {
      "cell_type": "code",
      "metadata": {
        "colab": {
          "base_uri": "https://localhost:8080/"
        },
        "id": "qjc5jsqzIkJu",
        "outputId": "98262e8f-fefa-4a46-f304-ab1f97d1a37e"
      },
      "source": [
        "print(series6)\n",
        "\n",
        "print('\\nseries6[1:2]\\n------------\\n',series6[1:2])\n",
        "\n",
        "print('\\nseries6[India,England]\\n------------\\n',series6['India':'England'])\n",
        "\n",
        "#get the series in reverse order\n",
        "\n",
        "print('\\nseries6[: : -1]\\n------------\\n',series6[::-1])\n"
      ],
      "execution_count": null,
      "outputs": [
        {
          "output_type": "stream",
          "name": "stdout",
          "text": [
            "India        Virath Kohli\n",
            "Australia     Steve Smith\n",
            "England          Joe Root\n",
            "dtype: object\n",
            "\n",
            "series6[1:2]\n",
            "------------\n",
            " Australia    Steve Smith\n",
            "dtype: object\n",
            "\n",
            "series6[India,England]\n",
            "------------\n",
            " India        Virath Kohli\n",
            "Australia     Steve Smith\n",
            "England          Joe Root\n",
            "dtype: object\n",
            "\n",
            "series6[: : -1]\n",
            "------------\n",
            " England          Joe Root\n",
            "Australia     Steve Smith\n",
            "India        Virath Kohli\n",
            "dtype: object\n"
          ]
        }
      ]
    },
    {
      "cell_type": "code",
      "metadata": {
        "colab": {
          "base_uri": "https://localhost:8080/"
        },
        "id": "HGfu6m8HL-gY",
        "outputId": "23f62810-4f0e-4576-9784-02a7c7ded919"
      },
      "source": [
        "np.arange(1,16,2)\n",
        "\n",
        "series7 = pd.Series(np.arange(1,16,2),index = (np.arange(2,10)))\n",
        "\n",
        "print(series7)\n",
        "print('\\n')\n",
        "\n",
        "series7[2:6] = 500\n",
        "\n",
        "series7\n",
        "\n",
        "\n"
      ],
      "execution_count": null,
      "outputs": [
        {
          "output_type": "stream",
          "name": "stdout",
          "text": [
            "2     1\n",
            "3     3\n",
            "4     5\n",
            "5     7\n",
            "6     9\n",
            "7    11\n",
            "8    13\n",
            "9    15\n",
            "dtype: int64\n",
            "\n",
            "\n"
          ]
        },
        {
          "output_type": "execute_result",
          "data": {
            "text/plain": [
              "2      1\n",
              "3      3\n",
              "4    500\n",
              "5    500\n",
              "6    500\n",
              "7    500\n",
              "8     13\n",
              "9     15\n",
              "dtype: int64"
            ]
          },
          "metadata": {},
          "execution_count": 55
        }
      ]
    },
    {
      "cell_type": "markdown",
      "metadata": {
        "id": "7mjz1ESeNgxS"
      },
      "source": [
        "##**Attributes of Series**  \n",
        "\n",
        "*   name\n",
        "*   index.name\n",
        "*   values\n",
        "*   size\n",
        "*   empty\n",
        "\n",
        "\n",
        "\n",
        "\n",
        "\n",
        "\n"
      ]
    },
    {
      "cell_type": "code",
      "metadata": {
        "colab": {
          "base_uri": "https://localhost:8080/"
        },
        "id": "8wTezvGeNf9a",
        "outputId": "4408738e-21cf-44e5-d529-322b05e750f3"
      },
      "source": [
        "seriesCountryCapitals = pd.Series(['India','United Kingdom','Argentina','Belgium'], index = ['New Delhi','London','Buenos Aires','Brussels'])\n",
        "\n",
        "seriesCountryCapitals.name = 'Country Capitals'\n",
        "seriesCountryCapitals.index.name = 'Capitals'\n",
        "\n",
        "print(seriesCountryCapitals)\n",
        "\n",
        "print('\\nseriesCountryCapitals.values\\n------------------------------\\n',seriesCountryCapitals.values)\n",
        "print('\\nseriesCountryCapitals.size\\n------------------------------\\n',seriesCountryCapitals.size)\n",
        "print('\\nseriesCountryCapitals.empty\\n------------------------------\\n',seriesCountryCapitals.empty)\n",
        "\n",
        "seriesEmpty = pd.Series()\n",
        "print('\\seriesEmpty.empty\\n------------------------------\\n',seriesEmpty.empty)\n"
      ],
      "execution_count": null,
      "outputs": [
        {
          "output_type": "stream",
          "name": "stdout",
          "text": [
            "Capitals\n",
            "New Delhi                India\n",
            "London          United Kingdom\n",
            "Buenos Aires         Argentina\n",
            "Brussels               Belgium\n",
            "Name: Country Capitals, dtype: object\n",
            "\n",
            "seriesCountryCapitals.values\n",
            "------------------------------\n",
            " ['India' 'United Kingdom' 'Argentina' 'Belgium']\n",
            "\n",
            "seriesCountryCapitals.size\n",
            "------------------------------\n",
            " 4\n",
            "\n",
            "seriesCountryCapitals.empty\n",
            "------------------------------\n",
            " False\n",
            "\\seriesEmpty.empty\n",
            "------------------------------\n",
            " True\n"
          ]
        },
        {
          "output_type": "stream",
          "name": "stderr",
          "text": [
            "/usr/local/lib/python3.7/dist-packages/ipykernel_launcher.py:12: DeprecationWarning: The default dtype for empty Series will be 'object' instead of 'float64' in a future version. Specify a dtype explicitly to silence this warning.\n",
            "  if sys.path[0] == '':\n"
          ]
        }
      ]
    },
    {
      "cell_type": "code",
      "metadata": {
        "colab": {
          "base_uri": "https://localhost:8080/"
        },
        "id": "y7pPCkv9QIZ4",
        "outputId": "16ab98f8-7fa1-4c2e-8d90-17d24e9aa6dd"
      },
      "source": [
        "seriesTest1 = pd.Series([12,np.nan,10])\n",
        "\n",
        "print(seriesTest1)\n",
        "\n",
        "print('\\n\\n',seriesTest1[seriesTest1.notnull()],'SIZE: ',seriesTest1[seriesTest1.notnull()].size)\n"
      ],
      "execution_count": null,
      "outputs": [
        {
          "output_type": "stream",
          "name": "stdout",
          "text": [
            "0    12.0\n",
            "1     NaN\n",
            "2    10.0\n",
            "dtype: float64\n",
            "\n",
            "\n",
            " 0    12.0\n",
            "2    10.0\n",
            "dtype: float64 SIZE:  2\n"
          ]
        }
      ]
    },
    {
      "cell_type": "markdown",
      "metadata": {
        "id": "PLcUThqsP3t9"
      },
      "source": [
        "# **Methods of Series**\n",
        "\n"
      ]
    },
    {
      "cell_type": "code",
      "metadata": {
        "colab": {
          "base_uri": "https://localhost:8080/"
        },
        "id": "EuqUcvwSN3lX",
        "outputId": "40964bae-b4a1-4990-e252-161f1bb761bf"
      },
      "source": [
        "seriesNum = pd.Series(np.arange(1,100))\n",
        "\n",
        "#head(n)\n",
        "\n",
        "print('\\nhead(n)\\n---------\\n',seriesNum.head(5))\n",
        "\n",
        "#count\n",
        "print('\\ncount\\n----------\\n',seriesNum.count())\n",
        "\n",
        "#tail\n",
        "print('\\tail(n)\\n---------\\n',seriesNum.tail(5))\n"
      ],
      "execution_count": null,
      "outputs": [
        {
          "output_type": "stream",
          "name": "stdout",
          "text": [
            "\n",
            "head(n)\n",
            "---------\n",
            " 0    1\n",
            "1    2\n",
            "2    3\n",
            "3    4\n",
            "4    5\n",
            "dtype: int64\n",
            "\n",
            "count\n",
            "----------\n",
            " 99\n",
            "\tail(n)\n",
            "---------\n",
            " 94    95\n",
            "95    96\n",
            "96    97\n",
            "97    98\n",
            "98    99\n",
            "dtype: int64\n"
          ]
        }
      ]
    },
    {
      "cell_type": "markdown",
      "metadata": {
        "id": "xmc_pZYqudHv"
      },
      "source": [
        "##**Mathematical Operations**\n",
        "\n"
      ]
    },
    {
      "cell_type": "code",
      "metadata": {
        "colab": {
          "base_uri": "https://localhost:8080/"
        },
        "id": "8dGXqf2-uaks",
        "outputId": "b3afe6a9-c8cc-4336-91d9-19ac1e00ed94"
      },
      "source": [
        "seriesA = pd.Series(np.arange(10,20), index = (np.arange(0,10)))\n",
        "seriesB = pd.Series(np.arange(100,120), index = (np.arange(0,20)))\n",
        "\n",
        "#Addition of Series\n",
        "#Nan if one of the element or both the elements have no value\n",
        "print(seriesA+seriesB)\n",
        "\n",
        "#use Series method add() to fill value for any element that is missing\n",
        "print('\\n',seriesA.add(seriesB,fill_value=0))\n",
        "\n",
        "#same procedure to be followed for subtraction,multiplication and division"
      ],
      "execution_count": null,
      "outputs": [
        {
          "output_type": "stream",
          "name": "stdout",
          "text": [
            "0     110.0\n",
            "1     112.0\n",
            "2     114.0\n",
            "3     116.0\n",
            "4     118.0\n",
            "5     120.0\n",
            "6     122.0\n",
            "7     124.0\n",
            "8     126.0\n",
            "9     128.0\n",
            "10      NaN\n",
            "11      NaN\n",
            "12      NaN\n",
            "13      NaN\n",
            "14      NaN\n",
            "15      NaN\n",
            "16      NaN\n",
            "17      NaN\n",
            "18      NaN\n",
            "19      NaN\n",
            "dtype: float64\n",
            "\n",
            " 0     110.0\n",
            "1     112.0\n",
            "2     114.0\n",
            "3     116.0\n",
            "4     118.0\n",
            "5     120.0\n",
            "6     122.0\n",
            "7     124.0\n",
            "8     126.0\n",
            "9     128.0\n",
            "10    110.0\n",
            "11    111.0\n",
            "12    112.0\n",
            "13    113.0\n",
            "14    114.0\n",
            "15    115.0\n",
            "16    116.0\n",
            "17    117.0\n",
            "18    118.0\n",
            "19    119.0\n",
            "dtype: float64\n"
          ]
        }
      ]
    }
  ]
}