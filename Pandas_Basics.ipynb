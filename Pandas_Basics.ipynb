{
  "nbformat": 4,
  "nbformat_minor": 0,
  "metadata": {
    "colab": {
      "name": "Pandas_Basics.ipynb",
      "provenance": [],
      "authorship_tag": "ABX9TyMvCXd/rA8a+nOSuQVfUmiS",
      "include_colab_link": true
    },
    "kernelspec": {
      "name": "python3",
      "display_name": "Python 3"
    },
    "language_info": {
      "name": "python"
    }
  },
  "cells": [
    {
      "cell_type": "markdown",
      "metadata": {
        "id": "view-in-github",
        "colab_type": "text"
      },
      "source": [
        "<a href=\"https://colab.research.google.com/github/jayac251/Machine_Learning/blob/main/Pandas_Basics.ipynb\" target=\"_parent\"><img src=\"https://colab.research.google.com/assets/colab-badge.svg\" alt=\"Open In Colab\"/></a>"
      ]
    },
    {
      "cell_type": "markdown",
      "metadata": {
        "id": "2m6nD34IkpV_"
      },
      "source": [
        "## **Loading Data in Pandas**\n",
        "\n",
        "**Kaggle link:** https://www.kaggle.com/c/Titanic/data\n",
        "\n",
        "**Dataset:** https://github.com/jayac251/Machine_Learning/blob/main/Datasets/titanic.csv\n",
        "\n",
        "**Description for the data**\n",
        "-------------------------------\n",
        "\n",
        "**survival:**This tells us whether a given person survived (0 = No, 1 = Yes).\n",
        "\n",
        "**pclass:**This is a proxy for socio-economic status, where first class is upper, second class is middle, and third class is lower status.\n",
        "\n",
        "**sex:**This tells us whether a given person is male or female.\n",
        "\n",
        "**age:** This is a fractional value if less than 1; for example, 0.25 is 3 months. If the age is estimated, it is in the form of xx.5.\n",
        "\n",
        "**sibsp:** A sibling is defined as a brother, sister, stepbrother, or stepsister, and a spouse is a husband or wife.\n",
        "\n",
        "**parch:** A parent is a mother or father, while a child is a daughter, son, stepdaughter, or stepson. Children that traveled only with a nanny did not travel with a parent. Thus, 0 was assigned for this field.\n",
        "\n",
        "**ticket:** This gives the person's ticket number.\n",
        "\n",
        "**fare:** This is the passenger's fare.\n",
        "\n",
        "**cabin:** This tells us the passenger's cabin number.\n",
        "\n",
        "**embarked:** The point of embarkation is the location where the passenger boarded the ship."
      ]
    },
    {
      "cell_type": "markdown",
      "metadata": {
        "id": "XTDDSL7khTVA"
      },
      "source": [
        "## **Exercise 1.01: Loading and Summarizing the Titanic Dataset**\n",
        "\n",
        "https://pandas.pydata.org/pandas-docs/stable/reference/api/pandas.read_csv.html\n",
        "\n",
        "https://pandas.pydata.org/pandas-docs/stable/reference/frame.html\n",
        "\n",
        "\n",
        "\n",
        "# First 5 sample of the data\n",
        "\n"
      ]
    },
    {
      "cell_type": "code",
      "metadata": {
        "colab": {
          "base_uri": "https://localhost:8080/"
        },
        "id": "JVn_j-mag76u",
        "outputId": "161747e3-2d6a-435a-c043-68c7d8e16f48"
      },
      "source": [
        "# mounting google drive\n",
        "from google.colab import drive\n",
        "drive.mount(\"/gdrive\")\n",
        "import pandas as pd\n"
      ],
      "execution_count": 12,
      "outputs": [
        {
          "output_type": "stream",
          "name": "stdout",
          "text": [
            "Drive already mounted at /gdrive; to attempt to forcibly remount, call drive.mount(\"/gdrive\", force_remount=True).\n"
          ]
        }
      ]
    },
    {
      "cell_type": "code",
      "metadata": {
        "colab": {
          "base_uri": "https://localhost:8080/",
          "height": 204
        },
        "id": "89roCJkNpMyl",
        "outputId": "24a803b8-84eb-4039-c1e7-6f3ea4218711"
      },
      "source": [
        "df = pd.read_csv(\"/gdrive/My Drive/Colab Notebooks/titanic.csv\")\n",
        "df.head()"
      ],
      "execution_count": 13,
      "outputs": [
        {
          "output_type": "execute_result",
          "data": {
            "text/html": [
              "<div>\n",
              "<style scoped>\n",
              "    .dataframe tbody tr th:only-of-type {\n",
              "        vertical-align: middle;\n",
              "    }\n",
              "\n",
              "    .dataframe tbody tr th {\n",
              "        vertical-align: top;\n",
              "    }\n",
              "\n",
              "    .dataframe thead th {\n",
              "        text-align: right;\n",
              "    }\n",
              "</style>\n",
              "<table border=\"1\" class=\"dataframe\">\n",
              "  <thead>\n",
              "    <tr style=\"text-align: right;\">\n",
              "      <th></th>\n",
              "      <th>Unnamed: 0</th>\n",
              "      <th>Cabin</th>\n",
              "      <th>Embarked</th>\n",
              "      <th>Fare</th>\n",
              "      <th>Pclass</th>\n",
              "      <th>Ticket</th>\n",
              "      <th>Age</th>\n",
              "      <th>Name</th>\n",
              "      <th>Parch</th>\n",
              "      <th>Sex</th>\n",
              "      <th>SibSp</th>\n",
              "      <th>Survived</th>\n",
              "    </tr>\n",
              "  </thead>\n",
              "  <tbody>\n",
              "    <tr>\n",
              "      <th>0</th>\n",
              "      <td>0</td>\n",
              "      <td>NaN</td>\n",
              "      <td>S</td>\n",
              "      <td>7.2500</td>\n",
              "      <td>3</td>\n",
              "      <td>A/5 21171</td>\n",
              "      <td>22.0</td>\n",
              "      <td>Braund, Mr. Owen Harris</td>\n",
              "      <td>0</td>\n",
              "      <td>male</td>\n",
              "      <td>1</td>\n",
              "      <td>0.0</td>\n",
              "    </tr>\n",
              "    <tr>\n",
              "      <th>1</th>\n",
              "      <td>1</td>\n",
              "      <td>C85</td>\n",
              "      <td>C</td>\n",
              "      <td>71.2833</td>\n",
              "      <td>1</td>\n",
              "      <td>PC 17599</td>\n",
              "      <td>38.0</td>\n",
              "      <td>Cumings, Mrs. John Bradley (Florence Briggs Th...</td>\n",
              "      <td>0</td>\n",
              "      <td>female</td>\n",
              "      <td>1</td>\n",
              "      <td>1.0</td>\n",
              "    </tr>\n",
              "    <tr>\n",
              "      <th>2</th>\n",
              "      <td>2</td>\n",
              "      <td>NaN</td>\n",
              "      <td>S</td>\n",
              "      <td>7.9250</td>\n",
              "      <td>3</td>\n",
              "      <td>STON/O2. 3101282</td>\n",
              "      <td>26.0</td>\n",
              "      <td>Heikkinen, Miss. Laina</td>\n",
              "      <td>0</td>\n",
              "      <td>female</td>\n",
              "      <td>0</td>\n",
              "      <td>1.0</td>\n",
              "    </tr>\n",
              "    <tr>\n",
              "      <th>3</th>\n",
              "      <td>3</td>\n",
              "      <td>C123</td>\n",
              "      <td>S</td>\n",
              "      <td>53.1000</td>\n",
              "      <td>1</td>\n",
              "      <td>113803</td>\n",
              "      <td>35.0</td>\n",
              "      <td>Futrelle, Mrs. Jacques Heath (Lily May Peel)</td>\n",
              "      <td>0</td>\n",
              "      <td>female</td>\n",
              "      <td>1</td>\n",
              "      <td>1.0</td>\n",
              "    </tr>\n",
              "    <tr>\n",
              "      <th>4</th>\n",
              "      <td>4</td>\n",
              "      <td>NaN</td>\n",
              "      <td>S</td>\n",
              "      <td>8.0500</td>\n",
              "      <td>3</td>\n",
              "      <td>373450</td>\n",
              "      <td>35.0</td>\n",
              "      <td>Allen, Mr. William Henry</td>\n",
              "      <td>0</td>\n",
              "      <td>male</td>\n",
              "      <td>0</td>\n",
              "      <td>0.0</td>\n",
              "    </tr>\n",
              "  </tbody>\n",
              "</table>\n",
              "</div>"
            ],
            "text/plain": [
              "   Unnamed: 0 Cabin Embarked     Fare  ...  Parch     Sex  SibSp Survived\n",
              "0           0   NaN        S   7.2500  ...      0    male      1      0.0\n",
              "1           1   C85        C  71.2833  ...      0  female      1      1.0\n",
              "2           2   NaN        S   7.9250  ...      0  female      0      1.0\n",
              "3           3  C123        S  53.1000  ...      0  female      1      1.0\n",
              "4           4   NaN        S   8.0500  ...      0    male      0      0.0\n",
              "\n",
              "[5 rows x 12 columns]"
            ]
          },
          "metadata": {},
          "execution_count": 13
        }
      ]
    },
    {
      "cell_type": "markdown",
      "metadata": {
        "id": "l3HLOGUym2S4"
      },
      "source": [
        "**Reading first 10 rows**"
      ]
    },
    {
      "cell_type": "code",
      "metadata": {
        "colab": {
          "base_uri": "https://localhost:8080/",
          "height": 359
        },
        "id": "D1Z9eJbom9fO",
        "outputId": "f8885fbf-8e0e-4df5-b94c-f9ac3e6abf9d"
      },
      "source": [
        "df.head(10)"
      ],
      "execution_count": 9,
      "outputs": [
        {
          "output_type": "execute_result",
          "data": {
            "text/html": [
              "<div>\n",
              "<style scoped>\n",
              "    .dataframe tbody tr th:only-of-type {\n",
              "        vertical-align: middle;\n",
              "    }\n",
              "\n",
              "    .dataframe tbody tr th {\n",
              "        vertical-align: top;\n",
              "    }\n",
              "\n",
              "    .dataframe thead th {\n",
              "        text-align: right;\n",
              "    }\n",
              "</style>\n",
              "<table border=\"1\" class=\"dataframe\">\n",
              "  <thead>\n",
              "    <tr style=\"text-align: right;\">\n",
              "      <th></th>\n",
              "      <th>Unnamed: 0</th>\n",
              "      <th>Cabin</th>\n",
              "      <th>Embarked</th>\n",
              "      <th>Fare</th>\n",
              "      <th>Pclass</th>\n",
              "      <th>Ticket</th>\n",
              "      <th>Age</th>\n",
              "      <th>Name</th>\n",
              "      <th>Parch</th>\n",
              "      <th>Sex</th>\n",
              "      <th>SibSp</th>\n",
              "      <th>Survived</th>\n",
              "    </tr>\n",
              "  </thead>\n",
              "  <tbody>\n",
              "    <tr>\n",
              "      <th>0</th>\n",
              "      <td>0</td>\n",
              "      <td>NaN</td>\n",
              "      <td>S</td>\n",
              "      <td>7.2500</td>\n",
              "      <td>3</td>\n",
              "      <td>A/5 21171</td>\n",
              "      <td>22.0</td>\n",
              "      <td>Braund, Mr. Owen Harris</td>\n",
              "      <td>0</td>\n",
              "      <td>male</td>\n",
              "      <td>1</td>\n",
              "      <td>0.0</td>\n",
              "    </tr>\n",
              "    <tr>\n",
              "      <th>1</th>\n",
              "      <td>1</td>\n",
              "      <td>C85</td>\n",
              "      <td>C</td>\n",
              "      <td>71.2833</td>\n",
              "      <td>1</td>\n",
              "      <td>PC 17599</td>\n",
              "      <td>38.0</td>\n",
              "      <td>Cumings, Mrs. John Bradley (Florence Briggs Th...</td>\n",
              "      <td>0</td>\n",
              "      <td>female</td>\n",
              "      <td>1</td>\n",
              "      <td>1.0</td>\n",
              "    </tr>\n",
              "    <tr>\n",
              "      <th>2</th>\n",
              "      <td>2</td>\n",
              "      <td>NaN</td>\n",
              "      <td>S</td>\n",
              "      <td>7.9250</td>\n",
              "      <td>3</td>\n",
              "      <td>STON/O2. 3101282</td>\n",
              "      <td>26.0</td>\n",
              "      <td>Heikkinen, Miss. Laina</td>\n",
              "      <td>0</td>\n",
              "      <td>female</td>\n",
              "      <td>0</td>\n",
              "      <td>1.0</td>\n",
              "    </tr>\n",
              "    <tr>\n",
              "      <th>3</th>\n",
              "      <td>3</td>\n",
              "      <td>C123</td>\n",
              "      <td>S</td>\n",
              "      <td>53.1000</td>\n",
              "      <td>1</td>\n",
              "      <td>113803</td>\n",
              "      <td>35.0</td>\n",
              "      <td>Futrelle, Mrs. Jacques Heath (Lily May Peel)</td>\n",
              "      <td>0</td>\n",
              "      <td>female</td>\n",
              "      <td>1</td>\n",
              "      <td>1.0</td>\n",
              "    </tr>\n",
              "    <tr>\n",
              "      <th>4</th>\n",
              "      <td>4</td>\n",
              "      <td>NaN</td>\n",
              "      <td>S</td>\n",
              "      <td>8.0500</td>\n",
              "      <td>3</td>\n",
              "      <td>373450</td>\n",
              "      <td>35.0</td>\n",
              "      <td>Allen, Mr. William Henry</td>\n",
              "      <td>0</td>\n",
              "      <td>male</td>\n",
              "      <td>0</td>\n",
              "      <td>0.0</td>\n",
              "    </tr>\n",
              "    <tr>\n",
              "      <th>5</th>\n",
              "      <td>5</td>\n",
              "      <td>NaN</td>\n",
              "      <td>Q</td>\n",
              "      <td>8.4583</td>\n",
              "      <td>3</td>\n",
              "      <td>330877</td>\n",
              "      <td>NaN</td>\n",
              "      <td>Moran, Mr. James</td>\n",
              "      <td>0</td>\n",
              "      <td>male</td>\n",
              "      <td>0</td>\n",
              "      <td>0.0</td>\n",
              "    </tr>\n",
              "    <tr>\n",
              "      <th>6</th>\n",
              "      <td>6</td>\n",
              "      <td>E46</td>\n",
              "      <td>S</td>\n",
              "      <td>51.8625</td>\n",
              "      <td>1</td>\n",
              "      <td>17463</td>\n",
              "      <td>54.0</td>\n",
              "      <td>McCarthy, Mr. Timothy J</td>\n",
              "      <td>0</td>\n",
              "      <td>male</td>\n",
              "      <td>0</td>\n",
              "      <td>0.0</td>\n",
              "    </tr>\n",
              "    <tr>\n",
              "      <th>7</th>\n",
              "      <td>7</td>\n",
              "      <td>NaN</td>\n",
              "      <td>S</td>\n",
              "      <td>21.0750</td>\n",
              "      <td>3</td>\n",
              "      <td>349909</td>\n",
              "      <td>2.0</td>\n",
              "      <td>Palsson, Master. Gosta Leonard</td>\n",
              "      <td>1</td>\n",
              "      <td>male</td>\n",
              "      <td>3</td>\n",
              "      <td>0.0</td>\n",
              "    </tr>\n",
              "    <tr>\n",
              "      <th>8</th>\n",
              "      <td>8</td>\n",
              "      <td>NaN</td>\n",
              "      <td>S</td>\n",
              "      <td>11.1333</td>\n",
              "      <td>3</td>\n",
              "      <td>347742</td>\n",
              "      <td>27.0</td>\n",
              "      <td>Johnson, Mrs. Oscar W (Elisabeth Vilhelmina Berg)</td>\n",
              "      <td>2</td>\n",
              "      <td>female</td>\n",
              "      <td>0</td>\n",
              "      <td>1.0</td>\n",
              "    </tr>\n",
              "    <tr>\n",
              "      <th>9</th>\n",
              "      <td>9</td>\n",
              "      <td>NaN</td>\n",
              "      <td>C</td>\n",
              "      <td>30.0708</td>\n",
              "      <td>2</td>\n",
              "      <td>237736</td>\n",
              "      <td>14.0</td>\n",
              "      <td>Nasser, Mrs. Nicholas (Adele Achem)</td>\n",
              "      <td>0</td>\n",
              "      <td>female</td>\n",
              "      <td>1</td>\n",
              "      <td>1.0</td>\n",
              "    </tr>\n",
              "  </tbody>\n",
              "</table>\n",
              "</div>"
            ],
            "text/plain": [
              "   Unnamed: 0 Cabin Embarked     Fare  ...  Parch     Sex  SibSp Survived\n",
              "0           0   NaN        S   7.2500  ...      0    male      1      0.0\n",
              "1           1   C85        C  71.2833  ...      0  female      1      1.0\n",
              "2           2   NaN        S   7.9250  ...      0  female      0      1.0\n",
              "3           3  C123        S  53.1000  ...      0  female      1      1.0\n",
              "4           4   NaN        S   8.0500  ...      0    male      0      0.0\n",
              "5           5   NaN        Q   8.4583  ...      0    male      0      0.0\n",
              "6           6   E46        S  51.8625  ...      0    male      0      0.0\n",
              "7           7   NaN        S  21.0750  ...      1    male      3      0.0\n",
              "8           8   NaN        S  11.1333  ...      2  female      0      1.0\n",
              "9           9   NaN        C  30.0708  ...      0  female      1      1.0\n",
              "\n",
              "[10 rows x 12 columns]"
            ]
          },
          "metadata": {},
          "execution_count": 9
        }
      ]
    },
    {
      "cell_type": "markdown",
      "metadata": {
        "id": "eN4z1j9yniH6"
      },
      "source": [
        "https://pandas.pydata.org/docs/reference/api/pandas.DataFrame.describe.html\n",
        "\n",
        "**DataFrame.describe(percentiles=None, include=None, exclude=None, datetime_is_numeric=False)**\n",
        "\n",
        "Generate descriptive statistics.\n",
        "\n",
        "Descriptive statistics include those that summarize the central tendency, dispersion and shape of a dataset’s distribution, excluding NaN values.\n",
        "\n",
        "Analyzes both numeric and object series, as well as DataFrame column sets of mixed data types. \n"
      ]
    },
    {
      "cell_type": "code",
      "metadata": {
        "colab": {
          "base_uri": "https://localhost:8080/",
          "height": 390
        },
        "id": "Eat2CwR1nWYm",
        "outputId": "8425007e-7abb-431a-efd8-b6ca6b7814ec"
      },
      "source": [
        "df.describe(include='all')"
      ],
      "execution_count": 4,
      "outputs": [
        {
          "output_type": "execute_result",
          "data": {
            "text/html": [
              "<div>\n",
              "<style scoped>\n",
              "    .dataframe tbody tr th:only-of-type {\n",
              "        vertical-align: middle;\n",
              "    }\n",
              "\n",
              "    .dataframe tbody tr th {\n",
              "        vertical-align: top;\n",
              "    }\n",
              "\n",
              "    .dataframe thead th {\n",
              "        text-align: right;\n",
              "    }\n",
              "</style>\n",
              "<table border=\"1\" class=\"dataframe\">\n",
              "  <thead>\n",
              "    <tr style=\"text-align: right;\">\n",
              "      <th></th>\n",
              "      <th>Unnamed: 0</th>\n",
              "      <th>Cabin</th>\n",
              "      <th>Embarked</th>\n",
              "      <th>Fare</th>\n",
              "      <th>Pclass</th>\n",
              "      <th>Ticket</th>\n",
              "      <th>Age</th>\n",
              "      <th>Name</th>\n",
              "      <th>Parch</th>\n",
              "      <th>Sex</th>\n",
              "      <th>SibSp</th>\n",
              "      <th>Survived</th>\n",
              "    </tr>\n",
              "  </thead>\n",
              "  <tbody>\n",
              "    <tr>\n",
              "      <th>count</th>\n",
              "      <td>1309.000000</td>\n",
              "      <td>295</td>\n",
              "      <td>1307</td>\n",
              "      <td>1308.000000</td>\n",
              "      <td>1309.000000</td>\n",
              "      <td>1309</td>\n",
              "      <td>1046.000000</td>\n",
              "      <td>1309</td>\n",
              "      <td>1309.000000</td>\n",
              "      <td>1309</td>\n",
              "      <td>1309.000000</td>\n",
              "      <td>891.000000</td>\n",
              "    </tr>\n",
              "    <tr>\n",
              "      <th>unique</th>\n",
              "      <td>NaN</td>\n",
              "      <td>186</td>\n",
              "      <td>3</td>\n",
              "      <td>NaN</td>\n",
              "      <td>NaN</td>\n",
              "      <td>929</td>\n",
              "      <td>NaN</td>\n",
              "      <td>1307</td>\n",
              "      <td>NaN</td>\n",
              "      <td>2</td>\n",
              "      <td>NaN</td>\n",
              "      <td>NaN</td>\n",
              "    </tr>\n",
              "    <tr>\n",
              "      <th>top</th>\n",
              "      <td>NaN</td>\n",
              "      <td>C23 C25 C27</td>\n",
              "      <td>S</td>\n",
              "      <td>NaN</td>\n",
              "      <td>NaN</td>\n",
              "      <td>CA. 2343</td>\n",
              "      <td>NaN</td>\n",
              "      <td>Kelly, Mr. James</td>\n",
              "      <td>NaN</td>\n",
              "      <td>male</td>\n",
              "      <td>NaN</td>\n",
              "      <td>NaN</td>\n",
              "    </tr>\n",
              "    <tr>\n",
              "      <th>freq</th>\n",
              "      <td>NaN</td>\n",
              "      <td>6</td>\n",
              "      <td>914</td>\n",
              "      <td>NaN</td>\n",
              "      <td>NaN</td>\n",
              "      <td>11</td>\n",
              "      <td>NaN</td>\n",
              "      <td>2</td>\n",
              "      <td>NaN</td>\n",
              "      <td>843</td>\n",
              "      <td>NaN</td>\n",
              "      <td>NaN</td>\n",
              "    </tr>\n",
              "    <tr>\n",
              "      <th>mean</th>\n",
              "      <td>654.000000</td>\n",
              "      <td>NaN</td>\n",
              "      <td>NaN</td>\n",
              "      <td>33.295479</td>\n",
              "      <td>2.294882</td>\n",
              "      <td>NaN</td>\n",
              "      <td>29.881138</td>\n",
              "      <td>NaN</td>\n",
              "      <td>0.385027</td>\n",
              "      <td>NaN</td>\n",
              "      <td>0.498854</td>\n",
              "      <td>0.383838</td>\n",
              "    </tr>\n",
              "    <tr>\n",
              "      <th>std</th>\n",
              "      <td>378.020061</td>\n",
              "      <td>NaN</td>\n",
              "      <td>NaN</td>\n",
              "      <td>51.758668</td>\n",
              "      <td>0.837836</td>\n",
              "      <td>NaN</td>\n",
              "      <td>14.413493</td>\n",
              "      <td>NaN</td>\n",
              "      <td>0.865560</td>\n",
              "      <td>NaN</td>\n",
              "      <td>1.041658</td>\n",
              "      <td>0.486592</td>\n",
              "    </tr>\n",
              "    <tr>\n",
              "      <th>min</th>\n",
              "      <td>0.000000</td>\n",
              "      <td>NaN</td>\n",
              "      <td>NaN</td>\n",
              "      <td>0.000000</td>\n",
              "      <td>1.000000</td>\n",
              "      <td>NaN</td>\n",
              "      <td>0.170000</td>\n",
              "      <td>NaN</td>\n",
              "      <td>0.000000</td>\n",
              "      <td>NaN</td>\n",
              "      <td>0.000000</td>\n",
              "      <td>0.000000</td>\n",
              "    </tr>\n",
              "    <tr>\n",
              "      <th>25%</th>\n",
              "      <td>327.000000</td>\n",
              "      <td>NaN</td>\n",
              "      <td>NaN</td>\n",
              "      <td>7.895800</td>\n",
              "      <td>2.000000</td>\n",
              "      <td>NaN</td>\n",
              "      <td>21.000000</td>\n",
              "      <td>NaN</td>\n",
              "      <td>0.000000</td>\n",
              "      <td>NaN</td>\n",
              "      <td>0.000000</td>\n",
              "      <td>0.000000</td>\n",
              "    </tr>\n",
              "    <tr>\n",
              "      <th>50%</th>\n",
              "      <td>654.000000</td>\n",
              "      <td>NaN</td>\n",
              "      <td>NaN</td>\n",
              "      <td>14.454200</td>\n",
              "      <td>3.000000</td>\n",
              "      <td>NaN</td>\n",
              "      <td>28.000000</td>\n",
              "      <td>NaN</td>\n",
              "      <td>0.000000</td>\n",
              "      <td>NaN</td>\n",
              "      <td>0.000000</td>\n",
              "      <td>0.000000</td>\n",
              "    </tr>\n",
              "    <tr>\n",
              "      <th>75%</th>\n",
              "      <td>981.000000</td>\n",
              "      <td>NaN</td>\n",
              "      <td>NaN</td>\n",
              "      <td>31.275000</td>\n",
              "      <td>3.000000</td>\n",
              "      <td>NaN</td>\n",
              "      <td>39.000000</td>\n",
              "      <td>NaN</td>\n",
              "      <td>0.000000</td>\n",
              "      <td>NaN</td>\n",
              "      <td>1.000000</td>\n",
              "      <td>1.000000</td>\n",
              "    </tr>\n",
              "    <tr>\n",
              "      <th>max</th>\n",
              "      <td>1308.000000</td>\n",
              "      <td>NaN</td>\n",
              "      <td>NaN</td>\n",
              "      <td>512.329200</td>\n",
              "      <td>3.000000</td>\n",
              "      <td>NaN</td>\n",
              "      <td>80.000000</td>\n",
              "      <td>NaN</td>\n",
              "      <td>9.000000</td>\n",
              "      <td>NaN</td>\n",
              "      <td>8.000000</td>\n",
              "      <td>1.000000</td>\n",
              "    </tr>\n",
              "  </tbody>\n",
              "</table>\n",
              "</div>"
            ],
            "text/plain": [
              "         Unnamed: 0        Cabin Embarked  ...   Sex        SibSp    Survived\n",
              "count   1309.000000          295     1307  ...  1309  1309.000000  891.000000\n",
              "unique          NaN          186        3  ...     2          NaN         NaN\n",
              "top             NaN  C23 C25 C27        S  ...  male          NaN         NaN\n",
              "freq            NaN            6      914  ...   843          NaN         NaN\n",
              "mean     654.000000          NaN      NaN  ...   NaN     0.498854    0.383838\n",
              "std      378.020061          NaN      NaN  ...   NaN     1.041658    0.486592\n",
              "min        0.000000          NaN      NaN  ...   NaN     0.000000    0.000000\n",
              "25%      327.000000          NaN      NaN  ...   NaN     0.000000    0.000000\n",
              "50%      654.000000          NaN      NaN  ...   NaN     0.000000    0.000000\n",
              "75%      981.000000          NaN      NaN  ...   NaN     1.000000    1.000000\n",
              "max     1308.000000          NaN      NaN  ...   NaN     8.000000    1.000000\n",
              "\n",
              "[11 rows x 12 columns]"
            ]
          },
          "metadata": {},
          "execution_count": 4
        }
      ]
    },
    {
      "cell_type": "markdown",
      "metadata": {
        "id": "csr5DgkKorL6"
      },
      "source": [
        "**Removing the unnamed column**"
      ]
    },
    {
      "cell_type": "code",
      "metadata": {
        "colab": {
          "base_uri": "https://localhost:8080/",
          "height": 204
        },
        "id": "bEsgxsXIowf2",
        "outputId": "17ffef52-da10-4a07-bdd7-206da79ca34f"
      },
      "source": [
        "del df['Unnamed: 0']\n",
        "df = df[df.columns[1:]] # Use the columns\n",
        "df.head()"
      ],
      "execution_count": 16,
      "outputs": [
        {
          "output_type": "execute_result",
          "data": {
            "text/html": [
              "<div>\n",
              "<style scoped>\n",
              "    .dataframe tbody tr th:only-of-type {\n",
              "        vertical-align: middle;\n",
              "    }\n",
              "\n",
              "    .dataframe tbody tr th {\n",
              "        vertical-align: top;\n",
              "    }\n",
              "\n",
              "    .dataframe thead th {\n",
              "        text-align: right;\n",
              "    }\n",
              "</style>\n",
              "<table border=\"1\" class=\"dataframe\">\n",
              "  <thead>\n",
              "    <tr style=\"text-align: right;\">\n",
              "      <th></th>\n",
              "      <th>Embarked</th>\n",
              "      <th>Fare</th>\n",
              "      <th>Pclass</th>\n",
              "      <th>Ticket</th>\n",
              "      <th>Age</th>\n",
              "      <th>Name</th>\n",
              "      <th>Parch</th>\n",
              "      <th>Sex</th>\n",
              "      <th>SibSp</th>\n",
              "      <th>Survived</th>\n",
              "    </tr>\n",
              "  </thead>\n",
              "  <tbody>\n",
              "    <tr>\n",
              "      <th>0</th>\n",
              "      <td>S</td>\n",
              "      <td>7.2500</td>\n",
              "      <td>3</td>\n",
              "      <td>A/5 21171</td>\n",
              "      <td>22.0</td>\n",
              "      <td>Braund, Mr. Owen Harris</td>\n",
              "      <td>0</td>\n",
              "      <td>male</td>\n",
              "      <td>1</td>\n",
              "      <td>0.0</td>\n",
              "    </tr>\n",
              "    <tr>\n",
              "      <th>1</th>\n",
              "      <td>C</td>\n",
              "      <td>71.2833</td>\n",
              "      <td>1</td>\n",
              "      <td>PC 17599</td>\n",
              "      <td>38.0</td>\n",
              "      <td>Cumings, Mrs. John Bradley (Florence Briggs Th...</td>\n",
              "      <td>0</td>\n",
              "      <td>female</td>\n",
              "      <td>1</td>\n",
              "      <td>1.0</td>\n",
              "    </tr>\n",
              "    <tr>\n",
              "      <th>2</th>\n",
              "      <td>S</td>\n",
              "      <td>7.9250</td>\n",
              "      <td>3</td>\n",
              "      <td>STON/O2. 3101282</td>\n",
              "      <td>26.0</td>\n",
              "      <td>Heikkinen, Miss. Laina</td>\n",
              "      <td>0</td>\n",
              "      <td>female</td>\n",
              "      <td>0</td>\n",
              "      <td>1.0</td>\n",
              "    </tr>\n",
              "    <tr>\n",
              "      <th>3</th>\n",
              "      <td>S</td>\n",
              "      <td>53.1000</td>\n",
              "      <td>1</td>\n",
              "      <td>113803</td>\n",
              "      <td>35.0</td>\n",
              "      <td>Futrelle, Mrs. Jacques Heath (Lily May Peel)</td>\n",
              "      <td>0</td>\n",
              "      <td>female</td>\n",
              "      <td>1</td>\n",
              "      <td>1.0</td>\n",
              "    </tr>\n",
              "    <tr>\n",
              "      <th>4</th>\n",
              "      <td>S</td>\n",
              "      <td>8.0500</td>\n",
              "      <td>3</td>\n",
              "      <td>373450</td>\n",
              "      <td>35.0</td>\n",
              "      <td>Allen, Mr. William Henry</td>\n",
              "      <td>0</td>\n",
              "      <td>male</td>\n",
              "      <td>0</td>\n",
              "      <td>0.0</td>\n",
              "    </tr>\n",
              "  </tbody>\n",
              "</table>\n",
              "</div>"
            ],
            "text/plain": [
              "  Embarked     Fare  Pclass            Ticket  ...  Parch     Sex  SibSp Survived\n",
              "0        S   7.2500       3         A/5 21171  ...      0    male      1      0.0\n",
              "1        C  71.2833       1          PC 17599  ...      0  female      1      1.0\n",
              "2        S   7.9250       3  STON/O2. 3101282  ...      0  female      0      1.0\n",
              "3        S  53.1000       1            113803  ...      0  female      1      1.0\n",
              "4        S   8.0500       3            373450  ...      0    male      0      0.0\n",
              "\n",
              "[5 rows x 10 columns]"
            ]
          },
          "metadata": {},
          "execution_count": 16
        }
      ]
    },
    {
      "cell_type": "markdown",
      "metadata": {
        "id": "tZu4pbVAqcsp"
      },
      "source": [
        "Pandas **dataframe.mean()** function return the mean of the values for the requested axis."
      ]
    },
    {
      "cell_type": "code",
      "metadata": {
        "colab": {
          "base_uri": "https://localhost:8080/"
        },
        "id": "4NNh__meppsl",
        "outputId": "8d2e5cd6-fbb4-4887-ee44-a46c09cdbf41"
      },
      "source": [
        "df.mean()"
      ],
      "execution_count": 17,
      "outputs": [
        {
          "output_type": "execute_result",
          "data": {
            "text/plain": [
              "Fare        33.295479\n",
              "Pclass       2.294882\n",
              "Age         29.881138\n",
              "Parch        0.385027\n",
              "SibSp        0.498854\n",
              "Survived     0.383838\n",
              "dtype: float64"
            ]
          },
          "metadata": {},
          "execution_count": 17
        }
      ]
    },
    {
      "cell_type": "markdown",
      "metadata": {
        "id": "hT2Aazr1qusM"
      },
      "source": [
        "The **Pandas std(**) is defined as a function for calculating the standard deviation of the given set of numbers, DataFrame, column, and rows. requested axis"
      ]
    },
    {
      "cell_type": "code",
      "metadata": {
        "colab": {
          "base_uri": "https://localhost:8080/"
        },
        "id": "TwI6fVrbqrel",
        "outputId": "1747a856-92e7-4ab5-c39c-d0eb35aca6da"
      },
      "source": [
        "df.std()"
      ],
      "execution_count": 19,
      "outputs": [
        {
          "output_type": "execute_result",
          "data": {
            "text/plain": [
              "Fare        51.758668\n",
              "Pclass       0.837836\n",
              "Age         14.413493\n",
              "Parch        0.865560\n",
              "SibSp        1.041658\n",
              "Survived     0.486592\n",
              "dtype: float64"
            ]
          },
          "metadata": {},
          "execution_count": 19
        }
      ]
    },
    {
      "cell_type": "code",
      "metadata": {
        "colab": {
          "base_uri": "https://localhost:8080/"
        },
        "id": "NW2zA_pgszrs",
        "outputId": "4636cd38-d6aa-4650-9bdd-b10b32336b6b"
      },
      "source": [
        "#Returns the min of the values in the specified axis\n",
        "df.min()"
      ],
      "execution_count": 21,
      "outputs": [
        {
          "output_type": "execute_result",
          "data": {
            "text/plain": [
              "Fare                          0\n",
              "Pclass                        1\n",
              "Ticket                   110152\n",
              "Age                        0.17\n",
              "Name        Abbing, Mr. Anthony\n",
              "Parch                         0\n",
              "Sex                      female\n",
              "SibSp                         0\n",
              "Survived                      0\n",
              "dtype: object"
            ]
          },
          "metadata": {},
          "execution_count": 21
        }
      ]
    },
    {
      "cell_type": "code",
      "metadata": {
        "colab": {
          "base_uri": "https://localhost:8080/"
        },
        "id": "jQsRa6fws0c5",
        "outputId": "eefe1c6f-9e43-47a4-9d6c-9cc60387976b"
      },
      "source": [
        "#Return the max of the values in the specified axis\n",
        "df.max()"
      ],
      "execution_count": 25,
      "outputs": [
        {
          "output_type": "execute_result",
          "data": {
            "text/plain": [
              "Fare                            512.329\n",
              "Pclass                                3\n",
              "Ticket                        WE/P 5735\n",
              "Age                                  80\n",
              "Name        van Melkebeke, Mr. Philemon\n",
              "Parch                                 9\n",
              "Sex                                male\n",
              "SibSp                                 8\n",
              "Survived                              1\n",
              "dtype: object"
            ]
          },
          "metadata": {},
          "execution_count": 25
        }
      ]
    },
    {
      "cell_type": "markdown",
      "metadata": {
        "id": "1W-5cIZ9uFHv"
      },
      "source": [
        "Returns the values at the **specified quantile** of the specified axis"
      ]
    },
    {
      "cell_type": "code",
      "metadata": {
        "colab": {
          "base_uri": "https://localhost:8080/"
        },
        "id": "aTEbFYJfs2Jt",
        "outputId": "5ed66b7f-3ea5-441d-9c2d-50333d457c60"
      },
      "source": [
        "df.quantile(0.33)"
      ],
      "execution_count": 26,
      "outputs": [
        {
          "output_type": "execute_result",
          "data": {
            "text/plain": [
              "Fare         8.559325\n",
              "Pclass       2.000000\n",
              "Age         23.000000\n",
              "Parch        0.000000\n",
              "SibSp        0.000000\n",
              "Survived     0.000000\n",
              "Name: 0.33, dtype: float64"
            ]
          },
          "metadata": {},
          "execution_count": 26
        }
      ]
    },
    {
      "cell_type": "code",
      "metadata": {
        "colab": {
          "base_uri": "https://localhost:8080/"
        },
        "id": "zv_muYMxs56w",
        "outputId": "7e0594e0-6690-45f0-c534-a2ee1421dd56"
      },
      "source": [
        "df.quantile(0.66)"
      ],
      "execution_count": 27,
      "outputs": [
        {
          "output_type": "execute_result",
          "data": {
            "text/plain": [
              "Fare        26.0\n",
              "Pclass       3.0\n",
              "Age         34.0\n",
              "Parch        0.0\n",
              "SibSp        0.0\n",
              "Survived     1.0\n",
              "Name: 0.66, dtype: float64"
            ]
          },
          "metadata": {},
          "execution_count": 27
        }
      ]
    },
    {
      "cell_type": "code",
      "metadata": {
        "colab": {
          "base_uri": "https://localhost:8080/"
        },
        "id": "zAZeuXMms7tv",
        "outputId": "bedd79be-7b62-4c22-edd5-aaf2fb758cbf"
      },
      "source": [
        "df.quantile(0.99)"
      ],
      "execution_count": 28,
      "outputs": [
        {
          "output_type": "execute_result",
          "data": {
            "text/plain": [
              "Fare        262.375\n",
              "Pclass        3.000\n",
              "Age          65.000\n",
              "Parch         4.000\n",
              "SibSp         5.000\n",
              "Survived      1.000\n",
              "Name: 0.99, dtype: float64"
            ]
          },
          "metadata": {},
          "execution_count": 28
        }
      ]
    },
    {
      "cell_type": "code",
      "metadata": {
        "colab": {
          "base_uri": "https://localhost:8080/"
        },
        "id": "xsEGVyBIujku",
        "outputId": "6483aa2f-6562-4ced-f7f2-1a88d8e77106"
      },
      "source": [
        "class_groups = df.groupby('Pclass')\n",
        "\n",
        "for name, index in class_groups:\n",
        "    print(f'Class: {name}: {len(index)}')"
      ],
      "execution_count": 33,
      "outputs": [
        {
          "output_type": "stream",
          "name": "stdout",
          "text": [
            "Class: 1: 323\n",
            "Class: 2: 277\n",
            "Class: 3: 709\n"
          ]
        }
      ]
    },
    {
      "cell_type": "code",
      "metadata": {
        "colab": {
          "base_uri": "https://localhost:8080/"
        },
        "id": "7UR4OMJeukEN",
        "outputId": "adaa8278-592c-4067-ec9d-1e205102181c"
      },
      "source": [
        "for clsGrp in df.Pclass.unique():\n",
        "    num_class = len(df[df.Pclass == clsGrp])\n",
        "    print(f'Class {clsGrp}: {num_class}')"
      ],
      "execution_count": 34,
      "outputs": [
        {
          "output_type": "stream",
          "name": "stdout",
          "text": [
            "Class 3: 709\n",
            "Class 1: 323\n",
            "Class 2: 277\n"
          ]
        }
      ]
    },
    {
      "cell_type": "code",
      "metadata": {
        "colab": {
          "base_uri": "https://localhost:8080/",
          "height": 80
        },
        "id": "mPUAhXFGuoGu",
        "outputId": "470a87b8-e48c-449e-a92e-7e3b4c21b6dd"
      },
      "source": [
        "third_class = df.loc[(df.Pclass == 3)]\n",
        "\n",
        "third_class.loc[(third_class.Age == third_class.Age.max())]"
      ],
      "execution_count": 35,
      "outputs": [
        {
          "output_type": "execute_result",
          "data": {
            "text/html": [
              "<div>\n",
              "<style scoped>\n",
              "    .dataframe tbody tr th:only-of-type {\n",
              "        vertical-align: middle;\n",
              "    }\n",
              "\n",
              "    .dataframe tbody tr th {\n",
              "        vertical-align: top;\n",
              "    }\n",
              "\n",
              "    .dataframe thead th {\n",
              "        text-align: right;\n",
              "    }\n",
              "</style>\n",
              "<table border=\"1\" class=\"dataframe\">\n",
              "  <thead>\n",
              "    <tr style=\"text-align: right;\">\n",
              "      <th></th>\n",
              "      <th>Embarked</th>\n",
              "      <th>Fare</th>\n",
              "      <th>Pclass</th>\n",
              "      <th>Ticket</th>\n",
              "      <th>Age</th>\n",
              "      <th>Name</th>\n",
              "      <th>Parch</th>\n",
              "      <th>Sex</th>\n",
              "      <th>SibSp</th>\n",
              "      <th>Survived</th>\n",
              "    </tr>\n",
              "  </thead>\n",
              "  <tbody>\n",
              "    <tr>\n",
              "      <th>851</th>\n",
              "      <td>S</td>\n",
              "      <td>7.775</td>\n",
              "      <td>3</td>\n",
              "      <td>347060</td>\n",
              "      <td>74.0</td>\n",
              "      <td>Svensson, Mr. Johan</td>\n",
              "      <td>0</td>\n",
              "      <td>male</td>\n",
              "      <td>0</td>\n",
              "      <td>0.0</td>\n",
              "    </tr>\n",
              "  </tbody>\n",
              "</table>\n",
              "</div>"
            ],
            "text/plain": [
              "    Embarked   Fare  Pclass  Ticket  ...  Parch   Sex  SibSp Survived\n",
              "851        S  7.775       3  347060  ...      0  male      0      0.0\n",
              "\n",
              "[1 rows x 10 columns]"
            ]
          },
          "metadata": {},
          "execution_count": 35
        }
      ]
    },
    {
      "cell_type": "code",
      "metadata": {
        "colab": {
          "base_uri": "https://localhost:8080/",
          "height": 204
        },
        "id": "KqBc1woxuqPt",
        "outputId": "05ac9fe1-a8ee-4005-db34-9e3745f0279e"
      },
      "source": [
        "fare_max = df.Fare.max()\n",
        "age_max = df.Age.max()\n",
        "\n",
        "df.agg({\n",
        "    'Fare': lambda x: x / fare_max, \n",
        "    'Age': lambda x: x / age_max,\n",
        "}).head()"
      ],
      "execution_count": 36,
      "outputs": [
        {
          "output_type": "execute_result",
          "data": {
            "text/html": [
              "<div>\n",
              "<style scoped>\n",
              "    .dataframe tbody tr th:only-of-type {\n",
              "        vertical-align: middle;\n",
              "    }\n",
              "\n",
              "    .dataframe tbody tr th {\n",
              "        vertical-align: top;\n",
              "    }\n",
              "\n",
              "    .dataframe thead th {\n",
              "        text-align: right;\n",
              "    }\n",
              "</style>\n",
              "<table border=\"1\" class=\"dataframe\">\n",
              "  <thead>\n",
              "    <tr style=\"text-align: right;\">\n",
              "      <th></th>\n",
              "      <th>Fare</th>\n",
              "      <th>Age</th>\n",
              "    </tr>\n",
              "  </thead>\n",
              "  <tbody>\n",
              "    <tr>\n",
              "      <th>0</th>\n",
              "      <td>0.014151</td>\n",
              "      <td>0.2750</td>\n",
              "    </tr>\n",
              "    <tr>\n",
              "      <th>1</th>\n",
              "      <td>0.139136</td>\n",
              "      <td>0.4750</td>\n",
              "    </tr>\n",
              "    <tr>\n",
              "      <th>2</th>\n",
              "      <td>0.015469</td>\n",
              "      <td>0.3250</td>\n",
              "    </tr>\n",
              "    <tr>\n",
              "      <th>3</th>\n",
              "      <td>0.103644</td>\n",
              "      <td>0.4375</td>\n",
              "    </tr>\n",
              "    <tr>\n",
              "      <th>4</th>\n",
              "      <td>0.015713</td>\n",
              "      <td>0.4375</td>\n",
              "    </tr>\n",
              "  </tbody>\n",
              "</table>\n",
              "</div>"
            ],
            "text/plain": [
              "       Fare     Age\n",
              "0  0.014151  0.2750\n",
              "1  0.139136  0.4750\n",
              "2  0.015469  0.3250\n",
              "3  0.103644  0.4375\n",
              "4  0.015713  0.4375"
            ]
          },
          "metadata": {},
          "execution_count": 36
        }
      ]
    },
    {
      "cell_type": "code",
      "metadata": {
        "colab": {
          "base_uri": "https://localhost:8080/",
          "height": 80
        },
        "id": "9yTIe2igut2Y",
        "outputId": "771a595f-ea0e-4df0-d6e4-b3d87a425160"
      },
      "source": [
        "df_nan_fare = df.loc[(df.Fare.isna())]\n",
        "df_nan_fare"
      ],
      "execution_count": 37,
      "outputs": [
        {
          "output_type": "execute_result",
          "data": {
            "text/html": [
              "<div>\n",
              "<style scoped>\n",
              "    .dataframe tbody tr th:only-of-type {\n",
              "        vertical-align: middle;\n",
              "    }\n",
              "\n",
              "    .dataframe tbody tr th {\n",
              "        vertical-align: top;\n",
              "    }\n",
              "\n",
              "    .dataframe thead th {\n",
              "        text-align: right;\n",
              "    }\n",
              "</style>\n",
              "<table border=\"1\" class=\"dataframe\">\n",
              "  <thead>\n",
              "    <tr style=\"text-align: right;\">\n",
              "      <th></th>\n",
              "      <th>Embarked</th>\n",
              "      <th>Fare</th>\n",
              "      <th>Pclass</th>\n",
              "      <th>Ticket</th>\n",
              "      <th>Age</th>\n",
              "      <th>Name</th>\n",
              "      <th>Parch</th>\n",
              "      <th>Sex</th>\n",
              "      <th>SibSp</th>\n",
              "      <th>Survived</th>\n",
              "    </tr>\n",
              "  </thead>\n",
              "  <tbody>\n",
              "    <tr>\n",
              "      <th>1043</th>\n",
              "      <td>S</td>\n",
              "      <td>NaN</td>\n",
              "      <td>3</td>\n",
              "      <td>3701</td>\n",
              "      <td>60.5</td>\n",
              "      <td>Storey, Mr. Thomas</td>\n",
              "      <td>0</td>\n",
              "      <td>male</td>\n",
              "      <td>0</td>\n",
              "      <td>NaN</td>\n",
              "    </tr>\n",
              "  </tbody>\n",
              "</table>\n",
              "</div>"
            ],
            "text/plain": [
              "     Embarked  Fare  Pclass Ticket  ...  Parch   Sex  SibSp Survived\n",
              "1043        S   NaN       3   3701  ...      0  male      0      NaN\n",
              "\n",
              "[1 rows x 10 columns]"
            ]
          },
          "metadata": {},
          "execution_count": 37
        }
      ]
    },
    {
      "cell_type": "code",
      "metadata": {
        "colab": {
          "base_uri": "https://localhost:8080/"
        },
        "id": "lX60Omkwuvot",
        "outputId": "ea68b992-594d-4d4a-f3e4-ae1e106b9023"
      },
      "source": [
        "embarked_class_groups = df.groupby(['Embarked', 'Pclass'])\n",
        "\n",
        "indices = embarked_class_groups.groups[(df_nan_fare.Embarked.values[0], df_nan_fare.Pclass.values[0])]\n",
        "mean_fare = df.iloc[indices].Fare.mean()\n",
        "df.loc[(df.index == 1043), 'Fare'] = mean_fare\n",
        "df.iloc[1043]"
      ],
      "execution_count": 38,
      "outputs": [
        {
          "output_type": "stream",
          "name": "stderr",
          "text": [
            "/usr/local/lib/python3.7/dist-packages/pandas/core/indexing.py:1763: SettingWithCopyWarning: \n",
            "A value is trying to be set on a copy of a slice from a DataFrame.\n",
            "Try using .loc[row_indexer,col_indexer] = value instead\n",
            "\n",
            "See the caveats in the documentation: https://pandas.pydata.org/pandas-docs/stable/user_guide/indexing.html#returning-a-view-versus-a-copy\n",
            "  isetter(loc, value)\n"
          ]
        },
        {
          "output_type": "execute_result",
          "data": {
            "text/plain": [
              "Embarked                     S\n",
              "Fare                   14.4354\n",
              "Pclass                       3\n",
              "Ticket                    3701\n",
              "Age                       60.5\n",
              "Name        Storey, Mr. Thomas\n",
              "Parch                        0\n",
              "Sex                       male\n",
              "SibSp                        0\n",
              "Survived                   NaN\n",
              "Name: 1043, dtype: object"
            ]
          },
          "metadata": {},
          "execution_count": 38
        }
      ]
    }
  ]
}