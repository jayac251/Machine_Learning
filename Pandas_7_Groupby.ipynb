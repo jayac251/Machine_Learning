{
  "nbformat": 4,
  "nbformat_minor": 0,
  "metadata": {
    "colab": {
      "name": "Pandas_7_Groupby.ipynb",
      "provenance": [],
      "authorship_tag": "ABX9TyPjYu31MzhdoXXljjaCwFZX",
      "include_colab_link": true
    },
    "kernelspec": {
      "name": "python3",
      "display_name": "Python 3"
    },
    "language_info": {
      "name": "python"
    }
  },
  "cells": [
    {
      "cell_type": "markdown",
      "metadata": {
        "id": "view-in-github",
        "colab_type": "text"
      },
      "source": [
        "<a href=\"https://colab.research.google.com/github/jayac251/Machine_Learning/blob/main/Pandas_7_Groupby.ipynb\" target=\"_parent\"><img src=\"https://colab.research.google.com/assets/colab-badge.svg\" alt=\"Open In Colab\"/></a>"
      ]
    },
    {
      "cell_type": "markdown",
      "metadata": {
        "id": "FXlz1IgELMDR"
      },
      "source": [
        "## **Group By**\n",
        "\n",
        "DataFrame.GROUP BY() function is used to split the data into groups based on some criteria.\n",
        "\n",
        "\n",
        "Pandas objects like a DataFrame can be split on any of their axes. \n",
        "The GROUP BY function works based on a split-apply-combine strategy which is shown below using a 3-step process:\n",
        "\n",
        "Step 1: Split the data into groups by creating a GROUP BY object from the original DataFrame.\n",
        "\n",
        "\n",
        "Step 2: Apply the required function.\n",
        "\n",
        "\n",
        "Step 3: Combine the results to form a new DataFrame. \n"
      ]
    },
    {
      "cell_type": "code",
      "metadata": {
        "colab": {
          "base_uri": "https://localhost:8080/"
        },
        "id": "mOAbKDGrGQ5l",
        "outputId": "06776527-cd95-4090-8cb2-9cddda5462bd"
      },
      "source": [
        "import pandas as pd\n",
        "\n",
        "\n",
        "marksUT= {'Name':['Raman','Raman','Raman','Zuhaire','Zuhaire','Zuhaire', 'Ashravy','Ashravy','Ashravy','Mishti','Mishti','Mishti'],\n",
        " 'UT':[1,2,3,1,2,3,1,2,3,1,2,3],\n",
        " 'Maths':[22,21,14,20,23,22,23,24,12,15,18,17],\n",
        " 'Science':[21,20,19,17,15,18,19,22,25,22,21,18],\n",
        " 'S.St':[18,17,15,22,21,19,20,24,19,25,25,20],\n",
        " 'Hindi':[20,22,24,24,25,23,15,17,21,22,24,25],\n",
        " 'Eng':[21,24,23,19,15,13,22,21,23,22,23,20]\n",
        " }\n",
        "\n",
        "df=pd.DataFrame(marksUT)\n",
        "\n",
        "print(df)"
      ],
      "execution_count": null,
      "outputs": [
        {
          "output_type": "stream",
          "name": "stdout",
          "text": [
            "       Name  UT  Maths  Science  S.St  Hindi  Eng\n",
            "0     Raman   1     22       21    18     20   21\n",
            "1     Raman   2     21       20    17     22   24\n",
            "2     Raman   3     14       19    15     24   23\n",
            "3   Zuhaire   1     20       17    22     24   19\n",
            "4   Zuhaire   2     23       15    21     25   15\n",
            "5   Zuhaire   3     22       18    19     23   13\n",
            "6   Ashravy   1     23       19    20     15   22\n",
            "7   Ashravy   2     24       22    24     17   21\n",
            "8   Ashravy   3     12       25    19     21   23\n",
            "9    Mishti   1     15       22    25     22   22\n",
            "10   Mishti   2     18       21    25     24   23\n",
            "11   Mishti   3     17       18    20     25   20\n"
          ]
        }
      ]
    },
    {
      "cell_type": "code",
      "metadata": {
        "colab": {
          "base_uri": "https://localhost:8080/",
          "height": 173
        },
        "id": "mVEnVKW_Lj4W",
        "outputId": "1c321075-3459-4896-c17d-140cf66eadbb"
      },
      "source": [
        "g1=df.groupby(by='UT')\n",
        "g2=df.groupby('Name')\n",
        "\n",
        "#Displaying the first entry from each group\n",
        "g1.first()"
      ],
      "execution_count": null,
      "outputs": [
        {
          "output_type": "execute_result",
          "data": {
            "text/html": [
              "<div>\n",
              "<style scoped>\n",
              "    .dataframe tbody tr th:only-of-type {\n",
              "        vertical-align: middle;\n",
              "    }\n",
              "\n",
              "    .dataframe tbody tr th {\n",
              "        vertical-align: top;\n",
              "    }\n",
              "\n",
              "    .dataframe thead th {\n",
              "        text-align: right;\n",
              "    }\n",
              "</style>\n",
              "<table border=\"1\" class=\"dataframe\">\n",
              "  <thead>\n",
              "    <tr style=\"text-align: right;\">\n",
              "      <th></th>\n",
              "      <th>Name</th>\n",
              "      <th>Maths</th>\n",
              "      <th>Science</th>\n",
              "      <th>S.St</th>\n",
              "      <th>Hindi</th>\n",
              "      <th>Eng</th>\n",
              "    </tr>\n",
              "    <tr>\n",
              "      <th>UT</th>\n",
              "      <th></th>\n",
              "      <th></th>\n",
              "      <th></th>\n",
              "      <th></th>\n",
              "      <th></th>\n",
              "      <th></th>\n",
              "    </tr>\n",
              "  </thead>\n",
              "  <tbody>\n",
              "    <tr>\n",
              "      <th>1</th>\n",
              "      <td>Raman</td>\n",
              "      <td>22</td>\n",
              "      <td>21</td>\n",
              "      <td>18</td>\n",
              "      <td>20</td>\n",
              "      <td>21</td>\n",
              "    </tr>\n",
              "    <tr>\n",
              "      <th>2</th>\n",
              "      <td>Raman</td>\n",
              "      <td>21</td>\n",
              "      <td>20</td>\n",
              "      <td>17</td>\n",
              "      <td>22</td>\n",
              "      <td>24</td>\n",
              "    </tr>\n",
              "    <tr>\n",
              "      <th>3</th>\n",
              "      <td>Raman</td>\n",
              "      <td>14</td>\n",
              "      <td>19</td>\n",
              "      <td>15</td>\n",
              "      <td>24</td>\n",
              "      <td>23</td>\n",
              "    </tr>\n",
              "  </tbody>\n",
              "</table>\n",
              "</div>"
            ],
            "text/plain": [
              "     Name  Maths  Science  S.St  Hindi  Eng\n",
              "UT                                         \n",
              "1   Raman     22       21    18     20   21\n",
              "2   Raman     21       20    17     22   24\n",
              "3   Raman     14       19    15     24   23"
            ]
          },
          "metadata": {},
          "execution_count": 15
        }
      ]
    },
    {
      "cell_type": "code",
      "metadata": {
        "colab": {
          "base_uri": "https://localhost:8080/"
        },
        "id": "Zom-FlnwL3Bt",
        "outputId": "bfc52e14-d1de-448e-9e0b-0d2d8006f672"
      },
      "source": [
        "#Displaying the size of each group\n",
        "g1.size()"
      ],
      "execution_count": null,
      "outputs": [
        {
          "output_type": "execute_result",
          "data": {
            "text/plain": [
              "UT\n",
              "1    4\n",
              "2    4\n",
              "3    4\n",
              "dtype: int64"
            ]
          },
          "metadata": {},
          "execution_count": 6
        }
      ]
    },
    {
      "cell_type": "code",
      "metadata": {
        "colab": {
          "base_uri": "https://localhost:8080/"
        },
        "id": "6eE0DB16L_LV",
        "outputId": "bb2473d5-51c8-467f-e594-1b3bdb1d292d"
      },
      "source": [
        "#Displaying group data, i.e., group_name, row indexes corresponding to the group and their data type \n",
        "g1.groups"
      ],
      "execution_count": null,
      "outputs": [
        {
          "output_type": "execute_result",
          "data": {
            "text/plain": [
              "{1: [0, 3, 6, 9], 2: [1, 4, 7, 10], 3: [2, 5, 8, 11]}"
            ]
          },
          "metadata": {},
          "execution_count": 9
        }
      ]
    },
    {
      "cell_type": "code",
      "metadata": {
        "colab": {
          "base_uri": "https://localhost:8080/",
          "height": 173
        },
        "id": "phA5BMlsMm9r",
        "outputId": "15543d90-fed9-4762-cf56-64857029df52"
      },
      "source": [
        "g1.get_group(3)\n"
      ],
      "execution_count": null,
      "outputs": [
        {
          "output_type": "execute_result",
          "data": {
            "text/html": [
              "<div>\n",
              "<style scoped>\n",
              "    .dataframe tbody tr th:only-of-type {\n",
              "        vertical-align: middle;\n",
              "    }\n",
              "\n",
              "    .dataframe tbody tr th {\n",
              "        vertical-align: top;\n",
              "    }\n",
              "\n",
              "    .dataframe thead th {\n",
              "        text-align: right;\n",
              "    }\n",
              "</style>\n",
              "<table border=\"1\" class=\"dataframe\">\n",
              "  <thead>\n",
              "    <tr style=\"text-align: right;\">\n",
              "      <th></th>\n",
              "      <th>Name</th>\n",
              "      <th>Maths</th>\n",
              "      <th>Science</th>\n",
              "      <th>S.St</th>\n",
              "      <th>Hindi</th>\n",
              "      <th>Eng</th>\n",
              "    </tr>\n",
              "  </thead>\n",
              "  <tbody>\n",
              "    <tr>\n",
              "      <th>2</th>\n",
              "      <td>Raman</td>\n",
              "      <td>14</td>\n",
              "      <td>19</td>\n",
              "      <td>15</td>\n",
              "      <td>24</td>\n",
              "      <td>23</td>\n",
              "    </tr>\n",
              "    <tr>\n",
              "      <th>5</th>\n",
              "      <td>Zuhaire</td>\n",
              "      <td>22</td>\n",
              "      <td>18</td>\n",
              "      <td>19</td>\n",
              "      <td>23</td>\n",
              "      <td>13</td>\n",
              "    </tr>\n",
              "    <tr>\n",
              "      <th>8</th>\n",
              "      <td>Ashravy</td>\n",
              "      <td>12</td>\n",
              "      <td>25</td>\n",
              "      <td>19</td>\n",
              "      <td>21</td>\n",
              "      <td>23</td>\n",
              "    </tr>\n",
              "    <tr>\n",
              "      <th>11</th>\n",
              "      <td>Mishti</td>\n",
              "      <td>17</td>\n",
              "      <td>18</td>\n",
              "      <td>20</td>\n",
              "      <td>25</td>\n",
              "      <td>20</td>\n",
              "    </tr>\n",
              "  </tbody>\n",
              "</table>\n",
              "</div>"
            ],
            "text/plain": [
              "       Name  Maths  Science  S.St  Hindi  Eng\n",
              "2     Raman     14       19    15     24   23\n",
              "5   Zuhaire     22       18    19     23   13\n",
              "8   Ashravy     12       25    19     21   23\n",
              "11   Mishti     17       18    20     25   20"
            ]
          },
          "metadata": {},
          "execution_count": 18
        }
      ]
    },
    {
      "cell_type": "code",
      "metadata": {
        "colab": {
          "base_uri": "https://localhost:8080/",
          "height": 142
        },
        "id": "nZ5ndEAANWUe",
        "outputId": "3c7f1dcc-ac47-4f59-b843-6b73384faec2"
      },
      "source": [
        "g2.get_group('Raman')"
      ],
      "execution_count": null,
      "outputs": [
        {
          "output_type": "execute_result",
          "data": {
            "text/html": [
              "<div>\n",
              "<style scoped>\n",
              "    .dataframe tbody tr th:only-of-type {\n",
              "        vertical-align: middle;\n",
              "    }\n",
              "\n",
              "    .dataframe tbody tr th {\n",
              "        vertical-align: top;\n",
              "    }\n",
              "\n",
              "    .dataframe thead th {\n",
              "        text-align: right;\n",
              "    }\n",
              "</style>\n",
              "<table border=\"1\" class=\"dataframe\">\n",
              "  <thead>\n",
              "    <tr style=\"text-align: right;\">\n",
              "      <th></th>\n",
              "      <th>Name</th>\n",
              "      <th>UT</th>\n",
              "      <th>Maths</th>\n",
              "      <th>Science</th>\n",
              "      <th>S.St</th>\n",
              "      <th>Hindi</th>\n",
              "      <th>Eng</th>\n",
              "    </tr>\n",
              "  </thead>\n",
              "  <tbody>\n",
              "    <tr>\n",
              "      <th>0</th>\n",
              "      <td>Raman</td>\n",
              "      <td>1</td>\n",
              "      <td>22</td>\n",
              "      <td>21</td>\n",
              "      <td>18</td>\n",
              "      <td>20</td>\n",
              "      <td>21</td>\n",
              "    </tr>\n",
              "    <tr>\n",
              "      <th>1</th>\n",
              "      <td>Raman</td>\n",
              "      <td>2</td>\n",
              "      <td>21</td>\n",
              "      <td>20</td>\n",
              "      <td>17</td>\n",
              "      <td>22</td>\n",
              "      <td>24</td>\n",
              "    </tr>\n",
              "    <tr>\n",
              "      <th>2</th>\n",
              "      <td>Raman</td>\n",
              "      <td>3</td>\n",
              "      <td>14</td>\n",
              "      <td>19</td>\n",
              "      <td>15</td>\n",
              "      <td>24</td>\n",
              "      <td>23</td>\n",
              "    </tr>\n",
              "  </tbody>\n",
              "</table>\n",
              "</div>"
            ],
            "text/plain": [
              "    Name  UT  Maths  Science  S.St  Hindi  Eng\n",
              "0  Raman   1     22       21    18     20   21\n",
              "1  Raman   2     21       20    17     22   24\n",
              "2  Raman   3     14       19    15     24   23"
            ]
          },
          "metadata": {},
          "execution_count": 19
        }
      ]
    },
    {
      "cell_type": "code",
      "metadata": {
        "colab": {
          "base_uri": "https://localhost:8080/"
        },
        "id": "QyBZFKhAOUYJ",
        "outputId": "8edd7668-5cf3-4a8f-c8b2-4b7a920d246c"
      },
      "source": [
        "#Grouping with respect to multiple attributes #Creating a GROUP BY Name and UT\n",
        "g3=df.groupby(['Name', 'UT'])\n",
        "\n",
        "g3.first()\n",
        "\n",
        "g3.groups\n",
        "print(g3.get_group(('Ashravy', 1)))\n",
        "g3.get_group(('Ashravy', 1)).mean()"
      ],
      "execution_count": null,
      "outputs": [
        {
          "output_type": "stream",
          "name": "stdout",
          "text": [
            "   Maths  Science  S.St  Hindi  Eng\n",
            "6     23       19    20     15   22\n"
          ]
        },
        {
          "output_type": "execute_result",
          "data": {
            "text/plain": [
              "Maths      23.0\n",
              "Science    19.0\n",
              "S.St       20.0\n",
              "Hindi      15.0\n",
              "Eng        22.0\n",
              "dtype: float64"
            ]
          },
          "metadata": {},
          "execution_count": 41
        }
      ]
    },
    {
      "cell_type": "code",
      "metadata": {
        "colab": {
          "base_uri": "https://localhost:8080/"
        },
        "id": "ecKvPwugOySV",
        "outputId": "9fa471b9-4fad-4b6e-8f16-2347274f981b"
      },
      "source": [
        "for name,group in g3:\n",
        "   print(name)\n",
        "   print(group)"
      ],
      "execution_count": null,
      "outputs": [
        {
          "output_type": "stream",
          "name": "stdout",
          "text": [
            "('Ashravy', 1)\n",
            "      Name  UT  Maths  Science  S.St  Hindi  Eng\n",
            "6  Ashravy   1     23       19    20     15   22\n",
            "('Ashravy', 2)\n",
            "      Name  UT  Maths  Science  S.St  Hindi  Eng\n",
            "7  Ashravy   2     24       22    24     17   21\n",
            "('Ashravy', 3)\n",
            "      Name  UT  Maths  Science  S.St  Hindi  Eng\n",
            "8  Ashravy   3     12       25    19     21   23\n",
            "('Mishti', 1)\n",
            "     Name  UT  Maths  Science  S.St  Hindi  Eng\n",
            "9  Mishti   1     15       22    25     22   22\n",
            "('Mishti', 2)\n",
            "      Name  UT  Maths  Science  S.St  Hindi  Eng\n",
            "10  Mishti   2     18       21    25     24   23\n",
            "('Mishti', 3)\n",
            "      Name  UT  Maths  Science  S.St  Hindi  Eng\n",
            "11  Mishti   3     17       18    20     25   20\n",
            "('Raman', 1)\n",
            "    Name  UT  Maths  Science  S.St  Hindi  Eng\n",
            "0  Raman   1     22       21    18     20   21\n",
            "('Raman', 2)\n",
            "    Name  UT  Maths  Science  S.St  Hindi  Eng\n",
            "1  Raman   2     21       20    17     22   24\n",
            "('Raman', 3)\n",
            "    Name  UT  Maths  Science  S.St  Hindi  Eng\n",
            "2  Raman   3     14       19    15     24   23\n",
            "('Zuhaire', 1)\n",
            "      Name  UT  Maths  Science  S.St  Hindi  Eng\n",
            "3  Zuhaire   1     20       17    22     24   19\n",
            "('Zuhaire', 2)\n",
            "      Name  UT  Maths  Science  S.St  Hindi  Eng\n",
            "4  Zuhaire   2     23       15    21     25   15\n",
            "('Zuhaire', 3)\n",
            "      Name  UT  Maths  Science  S.St  Hindi  Eng\n",
            "5  Zuhaire   3     22       18    19     23   13\n"
          ]
        }
      ]
    },
    {
      "cell_type": "code",
      "metadata": {
        "colab": {
          "base_uri": "https://localhost:8080/"
        },
        "id": "6CfWbQAzbUBQ",
        "outputId": "e57592a9-78a8-4e76-aa79-e4644ea042da"
      },
      "source": [
        "#Calculate average marks scored in Maths in each UT\n",
        "group1=df.groupby(['UT'])\n",
        "group1['Maths'].aggregate('mean')"
      ],
      "execution_count": 44,
      "outputs": [
        {
          "output_type": "execute_result",
          "data": {
            "text/plain": [
              "UT\n",
              "1    20.00\n",
              "2    21.50\n",
              "3    16.25\n",
              "Name: Maths, dtype: float64"
            ]
          },
          "metadata": {},
          "execution_count": 44
        }
      ]
    },
    {
      "cell_type": "code",
      "metadata": {
        "colab": {
          "base_uri": "https://localhost:8080/",
          "height": 425
        },
        "id": "W4Tk4EK5fzL9",
        "outputId": "9b510a78-60a8-4a31-e47a-70fe854f2e11"
      },
      "source": [
        "#Write the python statements to print the mean, variance, standard deviation and quartile of the marks scored in Mathematics by each student across the UTs.\n",
        "print(df)\n",
        "#maths = df[['Name','UT','Maths']]\n",
        "\n",
        "group1 = df.groupby('Name')\n",
        "\n",
        "group1['Maths'].agg(['mean','var','std','quantile'])\n"
      ],
      "execution_count": 70,
      "outputs": [
        {
          "output_type": "stream",
          "name": "stdout",
          "text": [
            "       Name  UT  Maths  Science  S.St  Hindi  Eng\n",
            "0     Raman   1     22       21    18     20   21\n",
            "1     Raman   2     21       20    17     22   24\n",
            "2     Raman   3     14       19    15     24   23\n",
            "3   Zuhaire   1     20       17    22     24   19\n",
            "4   Zuhaire   2     23       15    21     25   15\n",
            "5   Zuhaire   3     22       18    19     23   13\n",
            "6   Ashravy   1     23       19    20     15   22\n",
            "7   Ashravy   2     24       22    24     17   21\n",
            "8   Ashravy   3     12       25    19     21   23\n",
            "9    Mishti   1     15       22    25     22   22\n",
            "10   Mishti   2     18       21    25     24   23\n",
            "11   Mishti   3     17       18    20     25   20\n"
          ]
        },
        {
          "output_type": "execute_result",
          "data": {
            "text/html": [
              "<div>\n",
              "<style scoped>\n",
              "    .dataframe tbody tr th:only-of-type {\n",
              "        vertical-align: middle;\n",
              "    }\n",
              "\n",
              "    .dataframe tbody tr th {\n",
              "        vertical-align: top;\n",
              "    }\n",
              "\n",
              "    .dataframe thead th {\n",
              "        text-align: right;\n",
              "    }\n",
              "</style>\n",
              "<table border=\"1\" class=\"dataframe\">\n",
              "  <thead>\n",
              "    <tr style=\"text-align: right;\">\n",
              "      <th></th>\n",
              "      <th>mean</th>\n",
              "      <th>var</th>\n",
              "      <th>std</th>\n",
              "      <th>quantile</th>\n",
              "    </tr>\n",
              "    <tr>\n",
              "      <th>Name</th>\n",
              "      <th></th>\n",
              "      <th></th>\n",
              "      <th></th>\n",
              "      <th></th>\n",
              "    </tr>\n",
              "  </thead>\n",
              "  <tbody>\n",
              "    <tr>\n",
              "      <th>Ashravy</th>\n",
              "      <td>19.666667</td>\n",
              "      <td>44.333333</td>\n",
              "      <td>6.658328</td>\n",
              "      <td>23.0</td>\n",
              "    </tr>\n",
              "    <tr>\n",
              "      <th>Mishti</th>\n",
              "      <td>16.666667</td>\n",
              "      <td>2.333333</td>\n",
              "      <td>1.527525</td>\n",
              "      <td>17.0</td>\n",
              "    </tr>\n",
              "    <tr>\n",
              "      <th>Raman</th>\n",
              "      <td>19.000000</td>\n",
              "      <td>19.000000</td>\n",
              "      <td>4.358899</td>\n",
              "      <td>21.0</td>\n",
              "    </tr>\n",
              "    <tr>\n",
              "      <th>Zuhaire</th>\n",
              "      <td>21.666667</td>\n",
              "      <td>2.333333</td>\n",
              "      <td>1.527525</td>\n",
              "      <td>22.0</td>\n",
              "    </tr>\n",
              "  </tbody>\n",
              "</table>\n",
              "</div>"
            ],
            "text/plain": [
              "              mean        var       std  quantile\n",
              "Name                                             \n",
              "Ashravy  19.666667  44.333333  6.658328      23.0\n",
              "Mishti   16.666667   2.333333  1.527525      17.0\n",
              "Raman    19.000000  19.000000  4.358899      21.0\n",
              "Zuhaire  21.666667   2.333333  1.527525      22.0"
            ]
          },
          "metadata": {},
          "execution_count": 70
        }
      ]
    },
    {
      "cell_type": "code",
      "metadata": {
        "colab": {
          "base_uri": "https://localhost:8080/",
          "height": 235
        },
        "id": "us2Yat9cPs-z",
        "outputId": "ee211ea1-bb21-4bf2-b754-fdb7ec2ebc20"
      },
      "source": [
        "import pandas as pd\n",
        "\n",
        "student_data = pd.DataFrame({\n",
        "    'school_code': ['s001','s002','s003','s001','s002','s004'],\n",
        "    'class': ['V', 'V', 'VI', 'VI', 'V', 'VI'],\n",
        "    'name': ['Alberto Franco','Gino Mcneill','Ryan Parkes', 'Eesha Hinton', 'Gino Mcneill', 'David Parkes'],\n",
        "    'date_Of_Birth ': ['15/05/2002','17/05/2002','16/02/1999','25/09/1998','11/05/2002','15/09/1997'],\n",
        "    'age': [12, 12, 13, 13, 14, 12],\n",
        "    'height': [173, 192, 186, 167, 151, 159],\n",
        "    'weight': [35, 32, 33, 30, 31, 32],\n",
        "    'address': ['street1', 'street2', 'street3', 'street1', 'street2', 'street4']},\n",
        "    index=['S1', 'S2', 'S3', 'S4', 'S5', 'S6'])\n",
        "\n",
        "student_data\n",
        "\n",
        "\n"
      ],
      "execution_count": 4,
      "outputs": [
        {
          "output_type": "execute_result",
          "data": {
            "text/html": [
              "<div>\n",
              "<style scoped>\n",
              "    .dataframe tbody tr th:only-of-type {\n",
              "        vertical-align: middle;\n",
              "    }\n",
              "\n",
              "    .dataframe tbody tr th {\n",
              "        vertical-align: top;\n",
              "    }\n",
              "\n",
              "    .dataframe thead th {\n",
              "        text-align: right;\n",
              "    }\n",
              "</style>\n",
              "<table border=\"1\" class=\"dataframe\">\n",
              "  <thead>\n",
              "    <tr style=\"text-align: right;\">\n",
              "      <th></th>\n",
              "      <th>school_code</th>\n",
              "      <th>class</th>\n",
              "      <th>name</th>\n",
              "      <th>date_Of_Birth</th>\n",
              "      <th>age</th>\n",
              "      <th>height</th>\n",
              "      <th>weight</th>\n",
              "      <th>address</th>\n",
              "    </tr>\n",
              "  </thead>\n",
              "  <tbody>\n",
              "    <tr>\n",
              "      <th>S1</th>\n",
              "      <td>s001</td>\n",
              "      <td>V</td>\n",
              "      <td>Alberto Franco</td>\n",
              "      <td>15/05/2002</td>\n",
              "      <td>12</td>\n",
              "      <td>173</td>\n",
              "      <td>35</td>\n",
              "      <td>street1</td>\n",
              "    </tr>\n",
              "    <tr>\n",
              "      <th>S2</th>\n",
              "      <td>s002</td>\n",
              "      <td>V</td>\n",
              "      <td>Gino Mcneill</td>\n",
              "      <td>17/05/2002</td>\n",
              "      <td>12</td>\n",
              "      <td>192</td>\n",
              "      <td>32</td>\n",
              "      <td>street2</td>\n",
              "    </tr>\n",
              "    <tr>\n",
              "      <th>S3</th>\n",
              "      <td>s003</td>\n",
              "      <td>VI</td>\n",
              "      <td>Ryan Parkes</td>\n",
              "      <td>16/02/1999</td>\n",
              "      <td>13</td>\n",
              "      <td>186</td>\n",
              "      <td>33</td>\n",
              "      <td>street3</td>\n",
              "    </tr>\n",
              "    <tr>\n",
              "      <th>S4</th>\n",
              "      <td>s001</td>\n",
              "      <td>VI</td>\n",
              "      <td>Eesha Hinton</td>\n",
              "      <td>25/09/1998</td>\n",
              "      <td>13</td>\n",
              "      <td>167</td>\n",
              "      <td>30</td>\n",
              "      <td>street1</td>\n",
              "    </tr>\n",
              "    <tr>\n",
              "      <th>S5</th>\n",
              "      <td>s002</td>\n",
              "      <td>V</td>\n",
              "      <td>Gino Mcneill</td>\n",
              "      <td>11/05/2002</td>\n",
              "      <td>14</td>\n",
              "      <td>151</td>\n",
              "      <td>31</td>\n",
              "      <td>street2</td>\n",
              "    </tr>\n",
              "    <tr>\n",
              "      <th>S6</th>\n",
              "      <td>s004</td>\n",
              "      <td>VI</td>\n",
              "      <td>David Parkes</td>\n",
              "      <td>15/09/1997</td>\n",
              "      <td>12</td>\n",
              "      <td>159</td>\n",
              "      <td>32</td>\n",
              "      <td>street4</td>\n",
              "    </tr>\n",
              "  </tbody>\n",
              "</table>\n",
              "</div>"
            ],
            "text/plain": [
              "   school_code class            name  ... height  weight  address\n",
              "S1        s001     V  Alberto Franco  ...    173      35  street1\n",
              "S2        s002     V    Gino Mcneill  ...    192      32  street2\n",
              "S3        s003    VI     Ryan Parkes  ...    186      33  street3\n",
              "S4        s001    VI    Eesha Hinton  ...    167      30  street1\n",
              "S5        s002     V    Gino Mcneill  ...    151      31  street2\n",
              "S6        s004    VI    David Parkes  ...    159      32  street4\n",
              "\n",
              "[6 rows x 8 columns]"
            ]
          },
          "metadata": {},
          "execution_count": 4
        }
      ]
    },
    {
      "cell_type": "code",
      "metadata": {
        "colab": {
          "base_uri": "https://localhost:8080/"
        },
        "id": "PtNmoX2AP8Cg",
        "outputId": "ebbc353c-cc70-495c-e240-7270bc4031f4"
      },
      "source": [
        "# 1. Write a Pandas program to split the following dataframe into groups based on school code. Also check the type of GroupBy object\n",
        "\n",
        "schoolCodeGrp = student_data.groupby('school_code')\n",
        "\n",
        "for name,group in schoolCodeGrp:\n",
        "    print(\"\\nGroup:\")\n",
        "    print(name)\n",
        "    print(group)\n"
      ],
      "execution_count": 6,
      "outputs": [
        {
          "output_type": "stream",
          "name": "stdout",
          "text": [
            "\n",
            "Group:\n",
            "s001\n",
            "   school_code class            name  ... height  weight  address\n",
            "S1        s001     V  Alberto Franco  ...    173      35  street1\n",
            "S4        s001    VI    Eesha Hinton  ...    167      30  street1\n",
            "\n",
            "[2 rows x 8 columns]\n",
            "\n",
            "Group:\n",
            "s002\n",
            "   school_code class          name date_Of_Birth   age  height  weight  address\n",
            "S2        s002     V  Gino Mcneill     17/05/2002   12     192      32  street2\n",
            "S5        s002     V  Gino Mcneill     11/05/2002   14     151      31  street2\n",
            "\n",
            "Group:\n",
            "s003\n",
            "   school_code class         name date_Of_Birth   age  height  weight  address\n",
            "S3        s003    VI  Ryan Parkes     16/02/1999   13     186      33  street3\n",
            "\n",
            "Group:\n",
            "s004\n",
            "   school_code class          name date_Of_Birth   age  height  weight  address\n",
            "S6        s004    VI  David Parkes     15/09/1997   12     159      32  street4\n"
          ]
        }
      ]
    },
    {
      "cell_type": "code",
      "metadata": {
        "colab": {
          "base_uri": "https://localhost:8080/",
          "height": 204
        },
        "id": "otsrxOnmQci4",
        "outputId": "e31f9d10-5779-455f-f355-127ec2227241"
      },
      "source": [
        "# 2. Write a Pandas program to split the following dataframe by school code and get mean, min, and max value of age for each school.\n",
        "\n",
        "student_data\n",
        "\n",
        "schoolCodeGrp = student_data.groupby('school_code')\n",
        "\n",
        "schoolCodeGrp['age'].aggregate(['mean','min','max'])\n"
      ],
      "execution_count": 12,
      "outputs": [
        {
          "output_type": "execute_result",
          "data": {
            "text/html": [
              "<div>\n",
              "<style scoped>\n",
              "    .dataframe tbody tr th:only-of-type {\n",
              "        vertical-align: middle;\n",
              "    }\n",
              "\n",
              "    .dataframe tbody tr th {\n",
              "        vertical-align: top;\n",
              "    }\n",
              "\n",
              "    .dataframe thead th {\n",
              "        text-align: right;\n",
              "    }\n",
              "</style>\n",
              "<table border=\"1\" class=\"dataframe\">\n",
              "  <thead>\n",
              "    <tr style=\"text-align: right;\">\n",
              "      <th></th>\n",
              "      <th>mean</th>\n",
              "      <th>min</th>\n",
              "      <th>max</th>\n",
              "    </tr>\n",
              "    <tr>\n",
              "      <th>school_code</th>\n",
              "      <th></th>\n",
              "      <th></th>\n",
              "      <th></th>\n",
              "    </tr>\n",
              "  </thead>\n",
              "  <tbody>\n",
              "    <tr>\n",
              "      <th>s001</th>\n",
              "      <td>12.5</td>\n",
              "      <td>12</td>\n",
              "      <td>13</td>\n",
              "    </tr>\n",
              "    <tr>\n",
              "      <th>s002</th>\n",
              "      <td>13.0</td>\n",
              "      <td>12</td>\n",
              "      <td>14</td>\n",
              "    </tr>\n",
              "    <tr>\n",
              "      <th>s003</th>\n",
              "      <td>13.0</td>\n",
              "      <td>13</td>\n",
              "      <td>13</td>\n",
              "    </tr>\n",
              "    <tr>\n",
              "      <th>s004</th>\n",
              "      <td>12.0</td>\n",
              "      <td>12</td>\n",
              "      <td>12</td>\n",
              "    </tr>\n",
              "  </tbody>\n",
              "</table>\n",
              "</div>"
            ],
            "text/plain": [
              "             mean  min  max\n",
              "school_code                \n",
              "s001         12.5   12   13\n",
              "s002         13.0   12   14\n",
              "s003         13.0   13   13\n",
              "s004         12.0   12   12"
            ]
          },
          "metadata": {},
          "execution_count": 12
        }
      ]
    },
    {
      "cell_type": "code",
      "metadata": {
        "colab": {
          "base_uri": "https://localhost:8080/"
        },
        "id": "6cstc220RZf1",
        "outputId": "9d9c6d30-0432-4272-d708-c445dbf54b34"
      },
      "source": [
        "# 3. Write a Pandas program to split the following given dataframe into groups based on school code and class\n",
        "\n",
        "student_data\n",
        "schoolCodeGrpClass = student_data.groupby(['school_code','class'], sort=True)\n",
        "\n",
        "for name,group in schoolCodeGrp:\n",
        "    print(\"\\nGroup:\")\n",
        "    print(name)\n",
        "    print(group)\n",
        "\n"
      ],
      "execution_count": 19,
      "outputs": [
        {
          "output_type": "stream",
          "name": "stdout",
          "text": [
            "\n",
            "Group:\n",
            "s001\n",
            "   school_code class            name  ... height  weight  address\n",
            "S1        s001     V  Alberto Franco  ...    173      35  street1\n",
            "S4        s001    VI    Eesha Hinton  ...    167      30  street1\n",
            "\n",
            "[2 rows x 8 columns]\n",
            "\n",
            "Group:\n",
            "s002\n",
            "   school_code class          name date_Of_Birth   age  height  weight  address\n",
            "S2        s002     V  Gino Mcneill     17/05/2002   12     192      32  street2\n",
            "S5        s002     V  Gino Mcneill     11/05/2002   14     151      31  street2\n",
            "\n",
            "Group:\n",
            "s003\n",
            "   school_code class         name date_Of_Birth   age  height  weight  address\n",
            "S3        s003    VI  Ryan Parkes     16/02/1999   13     186      33  street3\n",
            "\n",
            "Group:\n",
            "s004\n",
            "   school_code class          name date_Of_Birth   age  height  weight  address\n",
            "S6        s004    VI  David Parkes     15/09/1997   12     159      32  street4\n"
          ]
        }
      ]
    },
    {
      "cell_type": "code",
      "metadata": {
        "colab": {
          "base_uri": "https://localhost:8080/"
        },
        "id": "Rz08C2xOSIHn",
        "outputId": "f1c7b7f1-d18b-40f8-ae19-b75bd7101b55"
      },
      "source": [
        "# Write a Pandas program to split the following given dataframe into groups based on school code and cast grouping as a list\n",
        "\n",
        "schoolCodeGrpClass = student_data.groupby(['school_code'])\n",
        "\n",
        "print(list(schoolCodeGrpClass))"
      ],
      "execution_count": 20,
      "outputs": [
        {
          "output_type": "stream",
          "name": "stdout",
          "text": [
            "[('s001',    school_code class            name  ... height  weight  address\n",
            "S1        s001     V  Alberto Franco  ...    173      35  street1\n",
            "S4        s001    VI    Eesha Hinton  ...    167      30  street1\n",
            "\n",
            "[2 rows x 8 columns]), ('s002',    school_code class          name date_Of_Birth   age  height  weight  address\n",
            "S2        s002     V  Gino Mcneill     17/05/2002   12     192      32  street2\n",
            "S5        s002     V  Gino Mcneill     11/05/2002   14     151      31  street2), ('s003',    school_code class         name date_Of_Birth   age  height  weight  address\n",
            "S3        s003    VI  Ryan Parkes     16/02/1999   13     186      33  street3), ('s004',    school_code class          name date_Of_Birth   age  height  weight  address\n",
            "S6        s004    VI  David Parkes     15/09/1997   12     159      32  street4)]\n"
          ]
        }
      ]
    },
    {
      "cell_type": "code",
      "metadata": {
        "colab": {
          "base_uri": "https://localhost:8080/"
        },
        "id": "kDWAb4cvSc3l",
        "outputId": "b7f81773-8633-47cf-f32f-61d030f5e639"
      },
      "source": [
        "# 5. Write a Pandas program to split the following given dataframe into groups based on single column and multiple columns. Find the size of the grouped data\n",
        "\n",
        "schoolCodeGrpClass = student_data.groupby(['school_code'])\n",
        "\n",
        "print(schoolCodeGrpClass.size())\n",
        "\n",
        "schoolCodeGrpClass = student_data.groupby(['school_code','class'])\n",
        "\n",
        "print(schoolCodeGrpClass.size())"
      ],
      "execution_count": 23,
      "outputs": [
        {
          "output_type": "stream",
          "name": "stdout",
          "text": [
            "school_code\n",
            "s001    2\n",
            "s002    2\n",
            "s003    1\n",
            "s004    1\n",
            "dtype: int64\n",
            "school_code  class\n",
            "s001         V        1\n",
            "             VI       1\n",
            "s002         V        2\n",
            "s003         VI       1\n",
            "s004         VI       1\n",
            "dtype: int64\n"
          ]
        }
      ]
    },
    {
      "cell_type": "code",
      "metadata": {
        "colab": {
          "base_uri": "https://localhost:8080/",
          "height": 80
        },
        "id": "JwzK8C2qS5o5",
        "outputId": "1a1d3bc7-b1e0-43db-b6c6-09aa78993454"
      },
      "source": [
        "#Write a Pandas program to split the following given dataframe into groups based on school code and call a specific group with the name of the group\n",
        "student_data\n",
        "schoolCodeGrp = student_data.groupby(['school_code'])\n",
        "\n",
        "schoolCodeGrp.get_group('s003')\n",
        "\n"
      ],
      "execution_count": 25,
      "outputs": [
        {
          "output_type": "execute_result",
          "data": {
            "text/html": [
              "<div>\n",
              "<style scoped>\n",
              "    .dataframe tbody tr th:only-of-type {\n",
              "        vertical-align: middle;\n",
              "    }\n",
              "\n",
              "    .dataframe tbody tr th {\n",
              "        vertical-align: top;\n",
              "    }\n",
              "\n",
              "    .dataframe thead th {\n",
              "        text-align: right;\n",
              "    }\n",
              "</style>\n",
              "<table border=\"1\" class=\"dataframe\">\n",
              "  <thead>\n",
              "    <tr style=\"text-align: right;\">\n",
              "      <th></th>\n",
              "      <th>school_code</th>\n",
              "      <th>class</th>\n",
              "      <th>name</th>\n",
              "      <th>date_Of_Birth</th>\n",
              "      <th>age</th>\n",
              "      <th>height</th>\n",
              "      <th>weight</th>\n",
              "      <th>address</th>\n",
              "    </tr>\n",
              "  </thead>\n",
              "  <tbody>\n",
              "    <tr>\n",
              "      <th>S3</th>\n",
              "      <td>s003</td>\n",
              "      <td>VI</td>\n",
              "      <td>Ryan Parkes</td>\n",
              "      <td>16/02/1999</td>\n",
              "      <td>13</td>\n",
              "      <td>186</td>\n",
              "      <td>33</td>\n",
              "      <td>street3</td>\n",
              "    </tr>\n",
              "  </tbody>\n",
              "</table>\n",
              "</div>"
            ],
            "text/plain": [
              "   school_code class         name date_Of_Birth   age  height  weight  address\n",
              "S3        s003    VI  Ryan Parkes     16/02/1999   13     186      33  street3"
            ]
          },
          "metadata": {},
          "execution_count": 25
        }
      ]
    },
    {
      "cell_type": "code",
      "metadata": {
        "id": "ifQsnDRQUHxC"
      },
      "source": [
        "import pandas as pd\n",
        "#pd.set_option('display.max_rows', None)\n",
        "#pd.set_option('display.max_columns', None)\n",
        "orders_data = pd.DataFrame({\n",
        "'ord_no':[70001,70009,70002,70004,70007,70005,70008,70010,70003,70012,70011,70013],\n",
        "'purch_amt':[150.5,270.65,65.26,110.5,948.5,2400.6,5760,1983.43,2480.4,250.45, 75.29,3045.6],\n",
        "'ord_date': ['2012-10-05','2012-09-10','2012-10-05','2012-08-17','2012-09-10','2012-07-27','2012-09-10','2012-10-10','2012-10-10','2012-06-27','2012-08-17','2012-04-25'],\n",
        "'customer_id':[3005,3001,3002,3009,3005,3007,3002,3004,3009,3008,3003,3002],\n",
        "'salesman_id': [5002,5005,5001,5003,5002,5001,5001,5006,5003,5002,5007,5001]})"
      ],
      "execution_count": 27,
      "outputs": []
    },
    {
      "cell_type": "code",
      "metadata": {
        "colab": {
          "base_uri": "https://localhost:8080/",
          "height": 328
        },
        "id": "DPVcaeE5TGLM",
        "outputId": "f5fbc272-1a5f-4051-e0e7-5fb408c2061c"
      },
      "source": [
        "# 7. Write a Pandas program to split a dataset, group by one column and get mean, min, and max values by group. \n",
        "# Using the following dataset find the mean, min, and max values of purchase amount (purch_amt) group by customer id (customer_id).\n",
        "orders_data\n",
        "\n",
        "grpByCustIdgrp = orders_data.groupby('customer_id')\n",
        "\n",
        "grpByCustIdgrp['purch_amt'].aggregate(['mean','min','max'])\n",
        "\n"
      ],
      "execution_count": 29,
      "outputs": [
        {
          "output_type": "execute_result",
          "data": {
            "text/html": [
              "<div>\n",
              "<style scoped>\n",
              "    .dataframe tbody tr th:only-of-type {\n",
              "        vertical-align: middle;\n",
              "    }\n",
              "\n",
              "    .dataframe tbody tr th {\n",
              "        vertical-align: top;\n",
              "    }\n",
              "\n",
              "    .dataframe thead th {\n",
              "        text-align: right;\n",
              "    }\n",
              "</style>\n",
              "<table border=\"1\" class=\"dataframe\">\n",
              "  <thead>\n",
              "    <tr style=\"text-align: right;\">\n",
              "      <th></th>\n",
              "      <th>mean</th>\n",
              "      <th>min</th>\n",
              "      <th>max</th>\n",
              "    </tr>\n",
              "    <tr>\n",
              "      <th>customer_id</th>\n",
              "      <th></th>\n",
              "      <th></th>\n",
              "      <th></th>\n",
              "    </tr>\n",
              "  </thead>\n",
              "  <tbody>\n",
              "    <tr>\n",
              "      <th>3001</th>\n",
              "      <td>270.650000</td>\n",
              "      <td>270.65</td>\n",
              "      <td>270.65</td>\n",
              "    </tr>\n",
              "    <tr>\n",
              "      <th>3002</th>\n",
              "      <td>2956.953333</td>\n",
              "      <td>65.26</td>\n",
              "      <td>5760.00</td>\n",
              "    </tr>\n",
              "    <tr>\n",
              "      <th>3003</th>\n",
              "      <td>75.290000</td>\n",
              "      <td>75.29</td>\n",
              "      <td>75.29</td>\n",
              "    </tr>\n",
              "    <tr>\n",
              "      <th>3004</th>\n",
              "      <td>1983.430000</td>\n",
              "      <td>1983.43</td>\n",
              "      <td>1983.43</td>\n",
              "    </tr>\n",
              "    <tr>\n",
              "      <th>3005</th>\n",
              "      <td>549.500000</td>\n",
              "      <td>150.50</td>\n",
              "      <td>948.50</td>\n",
              "    </tr>\n",
              "    <tr>\n",
              "      <th>3007</th>\n",
              "      <td>2400.600000</td>\n",
              "      <td>2400.60</td>\n",
              "      <td>2400.60</td>\n",
              "    </tr>\n",
              "    <tr>\n",
              "      <th>3008</th>\n",
              "      <td>250.450000</td>\n",
              "      <td>250.45</td>\n",
              "      <td>250.45</td>\n",
              "    </tr>\n",
              "    <tr>\n",
              "      <th>3009</th>\n",
              "      <td>1295.450000</td>\n",
              "      <td>110.50</td>\n",
              "      <td>2480.40</td>\n",
              "    </tr>\n",
              "  </tbody>\n",
              "</table>\n",
              "</div>"
            ],
            "text/plain": [
              "                    mean      min      max\n",
              "customer_id                               \n",
              "3001          270.650000   270.65   270.65\n",
              "3002         2956.953333    65.26  5760.00\n",
              "3003           75.290000    75.29    75.29\n",
              "3004         1983.430000  1983.43  1983.43\n",
              "3005          549.500000   150.50   948.50\n",
              "3007         2400.600000  2400.60  2400.60\n",
              "3008          250.450000   250.45   250.45\n",
              "3009         1295.450000   110.50  2480.40"
            ]
          },
          "metadata": {},
          "execution_count": 29
        }
      ]
    },
    {
      "cell_type": "code",
      "metadata": {
        "colab": {
          "base_uri": "https://localhost:8080/",
          "height": 498
        },
        "id": "fKSKGSQ6THsY",
        "outputId": "d216f73a-a3e3-4ee3-db56-406d7781d74b"
      },
      "source": [
        "# 8. Write a Pandas program to split a dataset to group by two columns and count by each row\n",
        "\n",
        "#orders_data\n",
        "grpByCustIdgrp = orders_data.groupby(['customer_id','salesman_id'])\n",
        "\n",
        "print(grpByCustIdgrp.count())\n",
        "\n",
        "result = orders_data.groupby(['customer_id','salesman_id']).size().reset_index().groupby(['customer_id','salesman_id'])[[0]].max()\n",
        "\n",
        "r = grpByCustIdgrp.size().reset_index()\n",
        "\n",
        "r.groupby(['customer_id','salesman_id'])[[0]].max()\n"
      ],
      "execution_count": 63,
      "outputs": [
        {
          "output_type": "stream",
          "name": "stdout",
          "text": [
            "                         ord_no  purch_amt  ord_date\n",
            "customer_id salesman_id                             \n",
            "3001        5005              1          1         1\n",
            "3002        5001              3          3         3\n",
            "3003        5007              1          1         1\n",
            "3004        5006              1          1         1\n",
            "3005        5002              2          2         2\n",
            "3007        5001              1          1         1\n",
            "3008        5002              1          1         1\n",
            "3009        5003              2          2         2\n"
          ]
        },
        {
          "output_type": "execute_result",
          "data": {
            "text/html": [
              "<div>\n",
              "<style scoped>\n",
              "    .dataframe tbody tr th:only-of-type {\n",
              "        vertical-align: middle;\n",
              "    }\n",
              "\n",
              "    .dataframe tbody tr th {\n",
              "        vertical-align: top;\n",
              "    }\n",
              "\n",
              "    .dataframe thead th {\n",
              "        text-align: right;\n",
              "    }\n",
              "</style>\n",
              "<table border=\"1\" class=\"dataframe\">\n",
              "  <thead>\n",
              "    <tr style=\"text-align: right;\">\n",
              "      <th></th>\n",
              "      <th></th>\n",
              "      <th>0</th>\n",
              "    </tr>\n",
              "    <tr>\n",
              "      <th>customer_id</th>\n",
              "      <th>salesman_id</th>\n",
              "      <th></th>\n",
              "    </tr>\n",
              "  </thead>\n",
              "  <tbody>\n",
              "    <tr>\n",
              "      <th>3001</th>\n",
              "      <th>5005</th>\n",
              "      <td>1</td>\n",
              "    </tr>\n",
              "    <tr>\n",
              "      <th>3002</th>\n",
              "      <th>5001</th>\n",
              "      <td>3</td>\n",
              "    </tr>\n",
              "    <tr>\n",
              "      <th>3003</th>\n",
              "      <th>5007</th>\n",
              "      <td>1</td>\n",
              "    </tr>\n",
              "    <tr>\n",
              "      <th>3004</th>\n",
              "      <th>5006</th>\n",
              "      <td>1</td>\n",
              "    </tr>\n",
              "    <tr>\n",
              "      <th>3005</th>\n",
              "      <th>5002</th>\n",
              "      <td>2</td>\n",
              "    </tr>\n",
              "    <tr>\n",
              "      <th>3007</th>\n",
              "      <th>5001</th>\n",
              "      <td>1</td>\n",
              "    </tr>\n",
              "    <tr>\n",
              "      <th>3008</th>\n",
              "      <th>5002</th>\n",
              "      <td>1</td>\n",
              "    </tr>\n",
              "    <tr>\n",
              "      <th>3009</th>\n",
              "      <th>5003</th>\n",
              "      <td>2</td>\n",
              "    </tr>\n",
              "  </tbody>\n",
              "</table>\n",
              "</div>"
            ],
            "text/plain": [
              "                         0\n",
              "customer_id salesman_id   \n",
              "3001        5005         1\n",
              "3002        5001         3\n",
              "3003        5007         1\n",
              "3004        5006         1\n",
              "3005        5002         2\n",
              "3007        5001         1\n",
              "3008        5002         1\n",
              "3009        5003         2"
            ]
          },
          "metadata": {},
          "execution_count": 63
        }
      ]
    },
    {
      "cell_type": "code",
      "metadata": {
        "colab": {
          "base_uri": "https://localhost:8080/"
        },
        "id": "nPMe2Ia5cT-j",
        "outputId": "33cc3d2c-d85a-4eab-9c20-dc3ab8bd2a5c"
      },
      "source": [
        "#orders_data\n",
        "grpByCustIdgrp = orders_data.groupby(['customer_id','salesman_id'])\n",
        "r = grpByCustIdgrp.agg({'purch_amt':sum})\n",
        "result = r['purch_amt'].groupby(level=0, group_keys=False)\n",
        "result.nlargest()\n",
        "\n",
        "#r['sum'] = grpByCustIdgrp[['sum']].transform(sum)\n"
      ],
      "execution_count": 106,
      "outputs": [
        {
          "output_type": "execute_result",
          "data": {
            "text/plain": [
              "customer_id  salesman_id\n",
              "3001         5005            270.65\n",
              "3002         5001           8870.86\n",
              "3003         5007             75.29\n",
              "3004         5006           1983.43\n",
              "3005         5002           1099.00\n",
              "3007         5001           2400.60\n",
              "3008         5002            250.45\n",
              "3009         5003           2590.90\n",
              "Name: purch_amt, dtype: float64"
            ]
          },
          "metadata": {},
          "execution_count": 106
        }
      ]
    },
    {
      "cell_type": "code",
      "metadata": {
        "colab": {
          "base_uri": "https://localhost:8080/"
        },
        "id": "ghkS7aQcfIfs",
        "outputId": "738796e7-eaf3-4f15-f02c-693645776cd6"
      },
      "source": [
        "# 9. Write a Pandas program to split a dataset to group by two columns and then sort the aggregated results within the groups. \n",
        "# In the following dataset group on 'customer_id', 'salesman_id' and then sort sum of purch_amt within the groups.\n",
        "\n",
        "\n",
        "df_agg = orders_data.groupby(['customer_id','salesman_id']).agg({'purch_amt':sum})\n",
        "result = df_agg['purch_amt'].groupby(level=0, group_keys=False)\n",
        "print(\"\\nGroup on 'customer_id', 'salesman_id' and then sort sum of purch_amt within the groups:\")\n",
        "print(result.nlargest())"
      ],
      "execution_count": 108,
      "outputs": [
        {
          "output_type": "stream",
          "name": "stdout",
          "text": [
            "\n",
            "Group on 'customer_id', 'salesman_id' and then sort sum of purch_amt within the groups:\n",
            "customer_id  salesman_id\n",
            "3001         5005            270.65\n",
            "3002         5001           8870.86\n",
            "3003         5007             75.29\n",
            "3004         5006           1983.43\n",
            "3005         5002           1099.00\n",
            "3007         5001           2400.60\n",
            "3008         5002            250.45\n",
            "3009         5003           2590.90\n",
            "Name: purch_amt, dtype: float64\n"
          ]
        }
      ]
    },
    {
      "cell_type": "code",
      "metadata": {
        "id": "hnB28qKeTPmY"
      },
      "source": [
        "# 10. Write a Pandas program to split the following dataframe into groups based on customer id and create a list of order date for each group.\n",
        "\n",
        "df = orders_data.groupby(['customer_id'])\n",
        "\n",
        "result = df['ord_date'].apply(list)\n",
        "\n"
      ],
      "execution_count": 122,
      "outputs": []
    },
    {
      "cell_type": "code",
      "metadata": {
        "colab": {
          "base_uri": "https://localhost:8080/",
          "height": 518
        },
        "id": "Ik6WjIE_g5lj",
        "outputId": "fed0be6b-06bc-42e7-9a47-367df73d7d9e"
      },
      "source": [
        "# Write a Pandas program to split the following dataframe into groups and calculate monthly purchase amount.\n",
        "\n",
        "print(orders_data)\n",
        "orders_data['ord_date'] = pd.to_datetime(orders_data['ord_date'])\n",
        "\n",
        "#month wise purchase amount\n",
        "result = orders_data.set_index('ord_date').groupby(pd.Grouper(freq='M')).agg({'purch_amt':sum})\n",
        "result\n",
        "\n",
        "\n",
        "#orders_data['ord_date']= orders_data.to_datetime(orders_data['ord_date']) \n",
        "#print(\"\\nMonth wise purchase amount:\")\n",
        "#result = df.set_index('ord_date').groupby(pd.Grouper(freq='M')).agg({'purch_amt':sum})\n",
        "\n",
        "#df.first()"
      ],
      "execution_count": 133,
      "outputs": [
        {
          "output_type": "stream",
          "name": "stdout",
          "text": [
            "    ord_no  purch_amt   ord_date  customer_id  salesman_id\n",
            "0    70001     150.50 2012-10-05         3005         5002\n",
            "1    70009     270.65 2012-09-10         3001         5005\n",
            "2    70002      65.26 2012-10-05         3002         5001\n",
            "3    70004     110.50 2012-08-17         3009         5003\n",
            "4    70007     948.50 2012-09-10         3005         5002\n",
            "5    70005    2400.60 2012-07-27         3007         5001\n",
            "6    70008    5760.00 2012-09-10         3002         5001\n",
            "7    70010    1983.43 2012-10-10         3004         5006\n",
            "8    70003    2480.40 2012-10-10         3009         5003\n",
            "9    70012     250.45 2012-06-27         3008         5002\n",
            "10   70011      75.29 2012-08-17         3003         5007\n",
            "11   70013    3045.60 2012-04-25         3002         5001\n"
          ]
        },
        {
          "output_type": "execute_result",
          "data": {
            "text/html": [
              "<div>\n",
              "<style scoped>\n",
              "    .dataframe tbody tr th:only-of-type {\n",
              "        vertical-align: middle;\n",
              "    }\n",
              "\n",
              "    .dataframe tbody tr th {\n",
              "        vertical-align: top;\n",
              "    }\n",
              "\n",
              "    .dataframe thead th {\n",
              "        text-align: right;\n",
              "    }\n",
              "</style>\n",
              "<table border=\"1\" class=\"dataframe\">\n",
              "  <thead>\n",
              "    <tr style=\"text-align: right;\">\n",
              "      <th></th>\n",
              "      <th>purch_amt</th>\n",
              "    </tr>\n",
              "    <tr>\n",
              "      <th>ord_date</th>\n",
              "      <th></th>\n",
              "    </tr>\n",
              "  </thead>\n",
              "  <tbody>\n",
              "    <tr>\n",
              "      <th>2012-04-30</th>\n",
              "      <td>3045.60</td>\n",
              "    </tr>\n",
              "    <tr>\n",
              "      <th>2012-05-31</th>\n",
              "      <td>0.00</td>\n",
              "    </tr>\n",
              "    <tr>\n",
              "      <th>2012-06-30</th>\n",
              "      <td>250.45</td>\n",
              "    </tr>\n",
              "    <tr>\n",
              "      <th>2012-07-31</th>\n",
              "      <td>2400.60</td>\n",
              "    </tr>\n",
              "    <tr>\n",
              "      <th>2012-08-31</th>\n",
              "      <td>185.79</td>\n",
              "    </tr>\n",
              "    <tr>\n",
              "      <th>2012-09-30</th>\n",
              "      <td>6979.15</td>\n",
              "    </tr>\n",
              "    <tr>\n",
              "      <th>2012-10-31</th>\n",
              "      <td>4679.59</td>\n",
              "    </tr>\n",
              "  </tbody>\n",
              "</table>\n",
              "</div>"
            ],
            "text/plain": [
              "            purch_amt\n",
              "ord_date             \n",
              "2012-04-30    3045.60\n",
              "2012-05-31       0.00\n",
              "2012-06-30     250.45\n",
              "2012-07-31    2400.60\n",
              "2012-08-31     185.79\n",
              "2012-09-30    6979.15\n",
              "2012-10-31    4679.59"
            ]
          },
          "metadata": {},
          "execution_count": 133
        }
      ]
    },
    {
      "cell_type": "code",
      "metadata": {
        "colab": {
          "base_uri": "https://localhost:8080/"
        },
        "id": "DycJijJdt8-z",
        "outputId": "f362c9ba-f5d4-4a9b-e8f8-f9c84f714169"
      },
      "source": [
        "# 12. Write a Pandas program to split the following dataframe into groups, group by month and year based on order date and find the total purchase amount year wise, month wise\n",
        "\n",
        "print(orders_data)\n",
        "orders_data['ord_date'] = pd.to_datetime(orders_data['ord_date'])\n",
        "\n",
        "#month wise purchase amount\n",
        "result = orders_data.set_index('ord_date').groupby(pd.Grouper(freq='M')).agg({'purch_amt':sum})\n",
        "result\n",
        "\n",
        "print(\"\\nYear wise Month wise purchase amount:\")\n",
        "result = orders_data.groupby([orders_data['ord_date'].dt.year, orders_data['ord_date'].dt.month]).agg({'purch_amt':sum})\n",
        "print(result)"
      ],
      "execution_count": 134,
      "outputs": [
        {
          "output_type": "stream",
          "name": "stdout",
          "text": [
            "    ord_no  purch_amt   ord_date  customer_id  salesman_id\n",
            "0    70001     150.50 2012-10-05         3005         5002\n",
            "1    70009     270.65 2012-09-10         3001         5005\n",
            "2    70002      65.26 2012-10-05         3002         5001\n",
            "3    70004     110.50 2012-08-17         3009         5003\n",
            "4    70007     948.50 2012-09-10         3005         5002\n",
            "5    70005    2400.60 2012-07-27         3007         5001\n",
            "6    70008    5760.00 2012-09-10         3002         5001\n",
            "7    70010    1983.43 2012-10-10         3004         5006\n",
            "8    70003    2480.40 2012-10-10         3009         5003\n",
            "9    70012     250.45 2012-06-27         3008         5002\n",
            "10   70011      75.29 2012-08-17         3003         5007\n",
            "11   70013    3045.60 2012-04-25         3002         5001\n",
            "\n",
            "Year wise Month wise purchase amount:\n",
            "                   purch_amt\n",
            "ord_date ord_date           \n",
            "2012     4           3045.60\n",
            "         6            250.45\n",
            "         7           2400.60\n",
            "         8            185.79\n",
            "         9           6979.15\n",
            "         10          4679.59\n"
          ]
        }
      ]
    },
    {
      "cell_type": "code",
      "metadata": {
        "colab": {
          "base_uri": "https://localhost:8080/"
        },
        "id": "ywsOnuwbvtgY",
        "outputId": "f2834e60-d402-4f5f-a105-c059d908d01f"
      },
      "source": [
        "# 13. Write a Pandas program to split the following dataframe into groups based on first column and set other column values into a list of values.\n",
        "\n",
        "df = pd.DataFrame( {'X' : [10, 10, 10, 20, 30, 30, 10], \n",
        "                    'Y' : [10, 15, 11, 20, 12, 12, 14], \n",
        "                    'Z' : [22, 20, 18, 20, 13, 10, 0]})\n",
        "\n",
        "        \n",
        "\n",
        "#result= df.groupby('X').agg(lambda tdf: tdf.unique().tolist())\n",
        "\n",
        "#result\n",
        "\n",
        "#df['X'].unique().tolist()\n",
        "\n",
        "result= df.groupby('X').agg(lambda x: x.unique().tolist())\n",
        "#result.get_group(10)\n",
        "print(result)\n",
        "\n",
        "\n",
        "result= df.groupby('X').agg(lambda x: x.tolist())\n",
        "print(result)\n"
      ],
      "execution_count": 157,
      "outputs": [
        {
          "output_type": "stream",
          "name": "stdout",
          "text": [
            "                   Y                Z\n",
            "X                                    \n",
            "10  [10, 15, 11, 14]  [22, 20, 18, 0]\n",
            "20              [20]             [20]\n",
            "30              [12]         [13, 10]\n",
            "                   Y                Z\n",
            "X                                    \n",
            "10  [10, 15, 11, 14]  [22, 20, 18, 0]\n",
            "20              [20]             [20]\n",
            "30          [12, 12]         [13, 10]\n"
          ]
        }
      ]
    },
    {
      "cell_type": "code",
      "metadata": {
        "colab": {
          "base_uri": "https://localhost:8080/",
          "height": 297
        },
        "id": "A2TeDbG_BGck",
        "outputId": "187bdd32-8322-4c5f-cb0f-a868dee4e62d"
      },
      "source": [
        "#Write a Pandas program to split the following dataframe into groups based on all columns and calculate GroupBy value counts on the dataframe.\n",
        "\n",
        "df = pd.DataFrame( {'id' : [1, 2, 1, 1, 2, 1, 2], \n",
        "                    'type' : [10, 15, 11, 20, 21, 12, 14], \n",
        "                    'book' : ['Math','English','Physics','Math','English','Physics','English']})\n",
        "\n",
        "result= df.groupby(['id','type','book']).size().unstack(fill_value=0)\n",
        "result\n"
      ],
      "execution_count": 163,
      "outputs": [
        {
          "output_type": "execute_result",
          "data": {
            "text/html": [
              "<div>\n",
              "<style scoped>\n",
              "    .dataframe tbody tr th:only-of-type {\n",
              "        vertical-align: middle;\n",
              "    }\n",
              "\n",
              "    .dataframe tbody tr th {\n",
              "        vertical-align: top;\n",
              "    }\n",
              "\n",
              "    .dataframe thead th {\n",
              "        text-align: right;\n",
              "    }\n",
              "</style>\n",
              "<table border=\"1\" class=\"dataframe\">\n",
              "  <thead>\n",
              "    <tr style=\"text-align: right;\">\n",
              "      <th></th>\n",
              "      <th>book</th>\n",
              "      <th>English</th>\n",
              "      <th>Math</th>\n",
              "      <th>Physics</th>\n",
              "    </tr>\n",
              "    <tr>\n",
              "      <th>id</th>\n",
              "      <th>type</th>\n",
              "      <th></th>\n",
              "      <th></th>\n",
              "      <th></th>\n",
              "    </tr>\n",
              "  </thead>\n",
              "  <tbody>\n",
              "    <tr>\n",
              "      <th rowspan=\"4\" valign=\"top\">1</th>\n",
              "      <th>10</th>\n",
              "      <td>0</td>\n",
              "      <td>1</td>\n",
              "      <td>0</td>\n",
              "    </tr>\n",
              "    <tr>\n",
              "      <th>11</th>\n",
              "      <td>0</td>\n",
              "      <td>0</td>\n",
              "      <td>1</td>\n",
              "    </tr>\n",
              "    <tr>\n",
              "      <th>12</th>\n",
              "      <td>0</td>\n",
              "      <td>0</td>\n",
              "      <td>1</td>\n",
              "    </tr>\n",
              "    <tr>\n",
              "      <th>20</th>\n",
              "      <td>0</td>\n",
              "      <td>1</td>\n",
              "      <td>0</td>\n",
              "    </tr>\n",
              "    <tr>\n",
              "      <th rowspan=\"3\" valign=\"top\">2</th>\n",
              "      <th>14</th>\n",
              "      <td>1</td>\n",
              "      <td>0</td>\n",
              "      <td>0</td>\n",
              "    </tr>\n",
              "    <tr>\n",
              "      <th>15</th>\n",
              "      <td>1</td>\n",
              "      <td>0</td>\n",
              "      <td>0</td>\n",
              "    </tr>\n",
              "    <tr>\n",
              "      <th>21</th>\n",
              "      <td>1</td>\n",
              "      <td>0</td>\n",
              "      <td>0</td>\n",
              "    </tr>\n",
              "  </tbody>\n",
              "</table>\n",
              "</div>"
            ],
            "text/plain": [
              "book     English  Math  Physics\n",
              "id type                        \n",
              "1  10          0     1        0\n",
              "   11          0     0        1\n",
              "   12          0     0        1\n",
              "   20          0     1        0\n",
              "2  14          1     0        0\n",
              "   15          1     0        0\n",
              "   21          1     0        0"
            ]
          },
          "metadata": {},
          "execution_count": 163
        }
      ]
    },
    {
      "cell_type": "code",
      "metadata": {
        "id": "ssRMrvp4Cy0M"
      },
      "source": [
        ""
      ],
      "execution_count": null,
      "outputs": []
    }
  ]
}