{
  "nbformat": 4,
  "nbformat_minor": 0,
  "metadata": {
    "colab": {
      "name": "Dataframe - duplicated().ipynb",
      "provenance": [],
      "authorship_tag": "ABX9TyPRuqv/xUknZGFF02RpBFVc",
      "include_colab_link": true
    },
    "kernelspec": {
      "name": "python3",
      "display_name": "Python 3"
    },
    "language_info": {
      "name": "python"
    }
  },
  "cells": [
    {
      "cell_type": "markdown",
      "metadata": {
        "id": "view-in-github",
        "colab_type": "text"
      },
      "source": [
        "<a href=\"https://colab.research.google.com/github/jayac251/Machine_Learning/blob/main/Dataframe_duplicated().ipynb\" target=\"_parent\"><img src=\"https://colab.research.google.com/assets/colab-badge.svg\" alt=\"Open In Colab\"/></a>"
      ]
    },
    {
      "cell_type": "code",
      "metadata": {
        "id": "Gvs35e2AxObL"
      },
      "source": [
        "import pandas as pd\n",
        "\n"
      ],
      "execution_count": null,
      "outputs": []
    },
    {
      "cell_type": "code",
      "metadata": {
        "colab": {
          "base_uri": "https://localhost:8080/"
        },
        "id": "_rcqI1nPxom5",
        "outputId": "448e2e93-349e-45ee-94fa-e866ec3a7e1b"
      },
      "source": [
        "# mounting google drive\n",
        "from google.colab import drive\n",
        "drive.mount(\"/gdrive\")"
      ],
      "execution_count": null,
      "outputs": [
        {
          "output_type": "stream",
          "name": "stdout",
          "text": [
            "Mounted at /gdrive\n"
          ]
        }
      ]
    },
    {
      "cell_type": "markdown",
      "metadata": {
        "id": "4_MEHcPLAFIV"
      },
      "source": [
        "##**Issues**\n",
        "\n",
        "1. Firstname column has 67 (1000 - 933) null values, similarly gender, Sr. mgmt and Team has null values\n",
        "\n",
        "2. Sr. Mgmt is imported as string instead of boolean which is light weight\n",
        "\n",
        "2. Gender's type is string, which shd be categorial type, Male or Female\n",
        "\n",
        "4. Start date and Last Login Time imported as string ( Doing date calculation cannot be done if it s a string)\n",
        "\n"
      ]
    },
    {
      "cell_type": "code",
      "metadata": {
        "colab": {
          "base_uri": "https://localhost:8080/",
          "height": 204
        },
        "id": "zOzv18BKxo_W",
        "outputId": "617bbcdf-8cb3-407d-df0f-6aa83db78841"
      },
      "source": [
        "emp = pd.read_csv(\"/gdrive/My Drive/Colab Notebooks/employees.csv\")\n",
        "emp.head()"
      ],
      "execution_count": null,
      "outputs": [
        {
          "output_type": "execute_result",
          "data": {
            "text/html": [
              "<div>\n",
              "<style scoped>\n",
              "    .dataframe tbody tr th:only-of-type {\n",
              "        vertical-align: middle;\n",
              "    }\n",
              "\n",
              "    .dataframe tbody tr th {\n",
              "        vertical-align: top;\n",
              "    }\n",
              "\n",
              "    .dataframe thead th {\n",
              "        text-align: right;\n",
              "    }\n",
              "</style>\n",
              "<table border=\"1\" class=\"dataframe\">\n",
              "  <thead>\n",
              "    <tr style=\"text-align: right;\">\n",
              "      <th></th>\n",
              "      <th>First Name</th>\n",
              "      <th>Gender</th>\n",
              "      <th>Start Date</th>\n",
              "      <th>Last Login Time</th>\n",
              "      <th>Salary</th>\n",
              "      <th>Bonus %</th>\n",
              "      <th>Senior Management</th>\n",
              "      <th>Team</th>\n",
              "    </tr>\n",
              "  </thead>\n",
              "  <tbody>\n",
              "    <tr>\n",
              "      <th>0</th>\n",
              "      <td>Douglas</td>\n",
              "      <td>Male</td>\n",
              "      <td>8/6/1993</td>\n",
              "      <td>12:42 PM</td>\n",
              "      <td>97308</td>\n",
              "      <td>6.945</td>\n",
              "      <td>True</td>\n",
              "      <td>Marketing</td>\n",
              "    </tr>\n",
              "    <tr>\n",
              "      <th>1</th>\n",
              "      <td>Thomas</td>\n",
              "      <td>Male</td>\n",
              "      <td>3/31/1996</td>\n",
              "      <td>6:53 AM</td>\n",
              "      <td>61933</td>\n",
              "      <td>4.170</td>\n",
              "      <td>True</td>\n",
              "      <td>NaN</td>\n",
              "    </tr>\n",
              "    <tr>\n",
              "      <th>2</th>\n",
              "      <td>Maria</td>\n",
              "      <td>Female</td>\n",
              "      <td>4/23/1993</td>\n",
              "      <td>11:17 AM</td>\n",
              "      <td>130590</td>\n",
              "      <td>11.858</td>\n",
              "      <td>False</td>\n",
              "      <td>Finance</td>\n",
              "    </tr>\n",
              "    <tr>\n",
              "      <th>3</th>\n",
              "      <td>Jerry</td>\n",
              "      <td>Male</td>\n",
              "      <td>3/4/2005</td>\n",
              "      <td>1:00 PM</td>\n",
              "      <td>138705</td>\n",
              "      <td>9.340</td>\n",
              "      <td>True</td>\n",
              "      <td>Finance</td>\n",
              "    </tr>\n",
              "    <tr>\n",
              "      <th>4</th>\n",
              "      <td>Larry</td>\n",
              "      <td>Male</td>\n",
              "      <td>1/24/1998</td>\n",
              "      <td>4:47 PM</td>\n",
              "      <td>101004</td>\n",
              "      <td>1.389</td>\n",
              "      <td>True</td>\n",
              "      <td>Client Services</td>\n",
              "    </tr>\n",
              "  </tbody>\n",
              "</table>\n",
              "</div>"
            ],
            "text/plain": [
              "  First Name  Gender Start Date  ... Bonus %  Senior Management             Team\n",
              "0    Douglas    Male   8/6/1993  ...   6.945               True        Marketing\n",
              "1     Thomas    Male  3/31/1996  ...   4.170               True              NaN\n",
              "2      Maria  Female  4/23/1993  ...  11.858              False          Finance\n",
              "3      Jerry    Male   3/4/2005  ...   9.340               True          Finance\n",
              "4      Larry    Male  1/24/1998  ...   1.389               True  Client Services\n",
              "\n",
              "[5 rows x 8 columns]"
            ]
          },
          "metadata": {},
          "execution_count": 4
        }
      ]
    },
    {
      "cell_type": "code",
      "metadata": {
        "colab": {
          "base_uri": "https://localhost:8080/"
        },
        "id": "K9Msw-IbxpVi",
        "outputId": "06ef4ca7-018d-4b5d-dc15-aef0d1d1b01d"
      },
      "source": [
        "emp.info()"
      ],
      "execution_count": null,
      "outputs": [
        {
          "output_type": "stream",
          "name": "stdout",
          "text": [
            "<class 'pandas.core.frame.DataFrame'>\n",
            "RangeIndex: 1000 entries, 0 to 999\n",
            "Data columns (total 8 columns):\n",
            " #   Column             Non-Null Count  Dtype  \n",
            "---  ------             --------------  -----  \n",
            " 0   First Name         933 non-null    object \n",
            " 1   Gender             855 non-null    object \n",
            " 2   Start Date         1000 non-null   object \n",
            " 3   Last Login Time    1000 non-null   object \n",
            " 4   Salary             1000 non-null   int64  \n",
            " 5   Bonus %            1000 non-null   float64\n",
            " 6   Senior Management  933 non-null    object \n",
            " 7   Team               957 non-null    object \n",
            "dtypes: float64(1), int64(1), object(6)\n",
            "memory usage: 62.6+ KB\n"
          ]
        }
      ]
    },
    {
      "cell_type": "markdown",
      "metadata": {
        "id": "09Qd_W9dCSkJ"
      },
      "source": [
        "##**Convert Start date, Last login time to date time object**"
      ]
    },
    {
      "cell_type": "code",
      "metadata": {
        "colab": {
          "base_uri": "https://localhost:8080/"
        },
        "id": "SSt8ghUzxpov",
        "outputId": "9f76dd27-a343-4ad6-dc79-2a83866ff2e9"
      },
      "source": [
        "emp['Start Date'].head(5)"
      ],
      "execution_count": null,
      "outputs": [
        {
          "output_type": "execute_result",
          "data": {
            "text/plain": [
              "0     8/6/1993\n",
              "1    3/31/1996\n",
              "2    4/23/1993\n",
              "3     3/4/2005\n",
              "4    1/24/1998\n",
              "Name: Start Date, dtype: object"
            ]
          },
          "metadata": {},
          "execution_count": 6
        }
      ]
    },
    {
      "cell_type": "code",
      "metadata": {
        "id": "iBsNAeYYCfwF"
      },
      "source": [
        "emp['Start Date'] = pd.to_datetime(emp['Start Date'])"
      ],
      "execution_count": null,
      "outputs": []
    },
    {
      "cell_type": "code",
      "metadata": {
        "id": "CYRi5XkvC6Ep"
      },
      "source": [
        "emp['Last Login Time'] = pd.to_datetime(emp['Last Login Time'])"
      ],
      "execution_count": null,
      "outputs": []
    },
    {
      "cell_type": "code",
      "metadata": {
        "colab": {
          "base_uri": "https://localhost:8080/"
        },
        "id": "bj0nIqtAxWCA",
        "outputId": "a5eba42b-0c97-4794-e2c2-71a7e789b86e"
      },
      "source": [
        "emp['Last Login Time']"
      ],
      "execution_count": null,
      "outputs": [
        {
          "output_type": "execute_result",
          "data": {
            "text/plain": [
              "0     2021-10-08 12:42:00\n",
              "1     2021-10-08 06:53:00\n",
              "2     2021-10-08 11:17:00\n",
              "3     2021-10-08 13:00:00\n",
              "4     2021-10-08 16:47:00\n",
              "              ...        \n",
              "995   2021-10-08 06:09:00\n",
              "996   2021-10-08 06:30:00\n",
              "997   2021-10-08 12:39:00\n",
              "998   2021-10-08 16:45:00\n",
              "999   2021-10-08 18:24:00\n",
              "Name: Last Login Time, Length: 1000, dtype: datetime64[ns]"
            ]
          },
          "metadata": {},
          "execution_count": 10
        }
      ]
    },
    {
      "cell_type": "markdown",
      "metadata": {
        "id": "Uczn7xM3xmEH"
      },
      "source": [
        "##**Convert Sr.mgmt to Boolean object**"
      ]
    },
    {
      "cell_type": "code",
      "metadata": {
        "id": "6yzybrgYx0Kv"
      },
      "source": [
        "emp['Senior Management'] = emp['Senior Management'].astype('bool')"
      ],
      "execution_count": null,
      "outputs": []
    },
    {
      "cell_type": "markdown",
      "metadata": {
        "id": "D0nr2e-1xviN"
      },
      "source": [
        "##**Convert Gender to category object**"
      ]
    },
    {
      "cell_type": "code",
      "metadata": {
        "colab": {
          "base_uri": "https://localhost:8080/"
        },
        "id": "KN9AYFNIx_E4",
        "outputId": "7d519819-e405-4517-d7a0-4ed9fc76175a"
      },
      "source": [
        "emp['Gender']"
      ],
      "execution_count": null,
      "outputs": [
        {
          "output_type": "execute_result",
          "data": {
            "text/plain": [
              "0        Male\n",
              "1        Male\n",
              "2      Female\n",
              "3        Male\n",
              "4        Male\n",
              "        ...  \n",
              "995       NaN\n",
              "996      Male\n",
              "997      Male\n",
              "998      Male\n",
              "999      Male\n",
              "Name: Gender, Length: 1000, dtype: object"
            ]
          },
          "metadata": {},
          "execution_count": 12
        }
      ]
    },
    {
      "cell_type": "code",
      "metadata": {
        "colab": {
          "base_uri": "https://localhost:8080/"
        },
        "id": "ehJWi9SsyNqt",
        "outputId": "0b033c95-0f8e-4703-a9be-76f26184808a"
      },
      "source": [
        "emp['Gender'].astype('category')"
      ],
      "execution_count": null,
      "outputs": [
        {
          "output_type": "execute_result",
          "data": {
            "text/plain": [
              "0        Male\n",
              "1        Male\n",
              "2      Female\n",
              "3        Male\n",
              "4        Male\n",
              "        ...  \n",
              "995       NaN\n",
              "996      Male\n",
              "997      Male\n",
              "998      Male\n",
              "999      Male\n",
              "Name: Gender, Length: 1000, dtype: category\n",
              "Categories (2, object): ['Female', 'Male']"
            ]
          },
          "metadata": {},
          "execution_count": 15
        }
      ]
    },
    {
      "cell_type": "code",
      "metadata": {
        "id": "kzQp_Z94yFBG"
      },
      "source": [
        "emp['Gender'] = emp['Gender'].astype('category')"
      ],
      "execution_count": null,
      "outputs": []
    },
    {
      "cell_type": "markdown",
      "metadata": {
        "id": "hjjgdW_ZFmES"
      },
      "source": [
        "##**.duplicated() method**"
      ]
    },
    {
      "cell_type": "code",
      "metadata": {
        "colab": {
          "base_uri": "https://localhost:8080/",
          "height": 204
        },
        "id": "B39vZiXqGjzg",
        "outputId": "0400f7e2-4f98-474d-9dbb-cf5bc587ace0"
      },
      "source": [
        "emp.sort_values('First Name', inplace = True)\n",
        "emp.head()"
      ],
      "execution_count": null,
      "outputs": [
        {
          "output_type": "execute_result",
          "data": {
            "text/html": [
              "<div>\n",
              "<style scoped>\n",
              "    .dataframe tbody tr th:only-of-type {\n",
              "        vertical-align: middle;\n",
              "    }\n",
              "\n",
              "    .dataframe tbody tr th {\n",
              "        vertical-align: top;\n",
              "    }\n",
              "\n",
              "    .dataframe thead th {\n",
              "        text-align: right;\n",
              "    }\n",
              "</style>\n",
              "<table border=\"1\" class=\"dataframe\">\n",
              "  <thead>\n",
              "    <tr style=\"text-align: right;\">\n",
              "      <th></th>\n",
              "      <th>First Name</th>\n",
              "      <th>Gender</th>\n",
              "      <th>Start Date</th>\n",
              "      <th>Last Login Time</th>\n",
              "      <th>Salary</th>\n",
              "      <th>Bonus %</th>\n",
              "      <th>Senior Management</th>\n",
              "      <th>Team</th>\n",
              "    </tr>\n",
              "  </thead>\n",
              "  <tbody>\n",
              "    <tr>\n",
              "      <th>101</th>\n",
              "      <td>Aaron</td>\n",
              "      <td>Male</td>\n",
              "      <td>2012-02-17</td>\n",
              "      <td>2021-10-08 10:20:00</td>\n",
              "      <td>61602</td>\n",
              "      <td>11.849</td>\n",
              "      <td>True</td>\n",
              "      <td>Marketing</td>\n",
              "    </tr>\n",
              "    <tr>\n",
              "      <th>327</th>\n",
              "      <td>Aaron</td>\n",
              "      <td>Male</td>\n",
              "      <td>1994-01-29</td>\n",
              "      <td>2021-10-08 18:48:00</td>\n",
              "      <td>58755</td>\n",
              "      <td>5.097</td>\n",
              "      <td>True</td>\n",
              "      <td>Marketing</td>\n",
              "    </tr>\n",
              "    <tr>\n",
              "      <th>440</th>\n",
              "      <td>Aaron</td>\n",
              "      <td>Male</td>\n",
              "      <td>1990-07-22</td>\n",
              "      <td>2021-10-08 14:53:00</td>\n",
              "      <td>52119</td>\n",
              "      <td>11.343</td>\n",
              "      <td>True</td>\n",
              "      <td>Client Services</td>\n",
              "    </tr>\n",
              "    <tr>\n",
              "      <th>937</th>\n",
              "      <td>Aaron</td>\n",
              "      <td>NaN</td>\n",
              "      <td>1986-01-22</td>\n",
              "      <td>2021-10-08 19:39:00</td>\n",
              "      <td>63126</td>\n",
              "      <td>18.424</td>\n",
              "      <td>False</td>\n",
              "      <td>Client Services</td>\n",
              "    </tr>\n",
              "    <tr>\n",
              "      <th>137</th>\n",
              "      <td>Adam</td>\n",
              "      <td>Male</td>\n",
              "      <td>2011-05-21</td>\n",
              "      <td>2021-10-08 01:45:00</td>\n",
              "      <td>95327</td>\n",
              "      <td>15.120</td>\n",
              "      <td>False</td>\n",
              "      <td>Distribution</td>\n",
              "    </tr>\n",
              "  </tbody>\n",
              "</table>\n",
              "</div>"
            ],
            "text/plain": [
              "    First Name Gender Start Date  ... Bonus %  Senior Management             Team\n",
              "101      Aaron   Male 2012-02-17  ...  11.849               True        Marketing\n",
              "327      Aaron   Male 1994-01-29  ...   5.097               True        Marketing\n",
              "440      Aaron   Male 1990-07-22  ...  11.343               True  Client Services\n",
              "937      Aaron    NaN 1986-01-22  ...  18.424              False  Client Services\n",
              "137       Adam   Male 2011-05-21  ...  15.120              False     Distribution\n",
              "\n",
              "[5 rows x 8 columns]"
            ]
          },
          "metadata": {},
          "execution_count": 20
        }
      ]
    },
    {
      "cell_type": "code",
      "metadata": {
        "colab": {
          "base_uri": "https://localhost:8080/"
        },
        "id": "1f2qDdetGmh2",
        "outputId": "d73a3221-62b0-4f29-e004-6c0963786c40"
      },
      "source": [
        "emp['First Name']"
      ],
      "execution_count": null,
      "outputs": [
        {
          "output_type": "execute_result",
          "data": {
            "text/plain": [
              "101    Aaron\n",
              "327    Aaron\n",
              "440    Aaron\n",
              "937    Aaron\n",
              "137     Adam\n",
              "       ...  \n",
              "902      NaN\n",
              "925      NaN\n",
              "946      NaN\n",
              "947      NaN\n",
              "951      NaN\n",
              "Name: First Name, Length: 1000, dtype: object"
            ]
          },
          "metadata": {},
          "execution_count": 21
        }
      ]
    },
    {
      "cell_type": "code",
      "metadata": {
        "colab": {
          "base_uri": "https://localhost:8080/"
        },
        "id": "rOIPDWWIHBJS",
        "outputId": "50a85683-768a-43c6-d296-fe60a32fe34a"
      },
      "source": [
        "emp['First Name'].duplicated().head(20)"
      ],
      "execution_count": null,
      "outputs": [
        {
          "output_type": "execute_result",
          "data": {
            "text/plain": [
              "101    False\n",
              "327     True\n",
              "440     True\n",
              "937     True\n",
              "137    False\n",
              "141     True\n",
              "302     True\n",
              "538     True\n",
              "300    False\n",
              "53      True\n",
              "610     True\n",
              "959    False\n",
              "999     True\n",
              "680     True\n",
              "477     True\n",
              "458     True\n",
              "372     True\n",
              "988    False\n",
              "970     True\n",
              "765     True\n",
              "Name: First Name, dtype: bool"
            ]
          },
          "metadata": {},
          "execution_count": 26
        }
      ]
    },
    {
      "cell_type": "markdown",
      "metadata": {
        "id": "3wCUAU88HV1y"
      },
      "source": [
        "##extract duplicate rows"
      ]
    },
    {
      "cell_type": "code",
      "metadata": {
        "colab": {
          "base_uri": "https://localhost:8080/",
          "height": 419
        },
        "id": "aN6gGm4FHVFN",
        "outputId": "9c4f5b5b-66a2-430e-cc0e-21b7fb423f05"
      },
      "source": [
        "emp[emp['First Name'].duplicated()]"
      ],
      "execution_count": null,
      "outputs": [
        {
          "output_type": "execute_result",
          "data": {
            "text/html": [
              "<div>\n",
              "<style scoped>\n",
              "    .dataframe tbody tr th:only-of-type {\n",
              "        vertical-align: middle;\n",
              "    }\n",
              "\n",
              "    .dataframe tbody tr th {\n",
              "        vertical-align: top;\n",
              "    }\n",
              "\n",
              "    .dataframe thead th {\n",
              "        text-align: right;\n",
              "    }\n",
              "</style>\n",
              "<table border=\"1\" class=\"dataframe\">\n",
              "  <thead>\n",
              "    <tr style=\"text-align: right;\">\n",
              "      <th></th>\n",
              "      <th>First Name</th>\n",
              "      <th>Gender</th>\n",
              "      <th>Start Date</th>\n",
              "      <th>Last Login Time</th>\n",
              "      <th>Salary</th>\n",
              "      <th>Bonus %</th>\n",
              "      <th>Senior Management</th>\n",
              "      <th>Team</th>\n",
              "    </tr>\n",
              "  </thead>\n",
              "  <tbody>\n",
              "    <tr>\n",
              "      <th>327</th>\n",
              "      <td>Aaron</td>\n",
              "      <td>Male</td>\n",
              "      <td>1994-01-29</td>\n",
              "      <td>2021-10-08 18:48:00</td>\n",
              "      <td>58755</td>\n",
              "      <td>5.097</td>\n",
              "      <td>True</td>\n",
              "      <td>Marketing</td>\n",
              "    </tr>\n",
              "    <tr>\n",
              "      <th>440</th>\n",
              "      <td>Aaron</td>\n",
              "      <td>Male</td>\n",
              "      <td>1990-07-22</td>\n",
              "      <td>2021-10-08 14:53:00</td>\n",
              "      <td>52119</td>\n",
              "      <td>11.343</td>\n",
              "      <td>True</td>\n",
              "      <td>Client Services</td>\n",
              "    </tr>\n",
              "    <tr>\n",
              "      <th>937</th>\n",
              "      <td>Aaron</td>\n",
              "      <td>NaN</td>\n",
              "      <td>1986-01-22</td>\n",
              "      <td>2021-10-08 19:39:00</td>\n",
              "      <td>63126</td>\n",
              "      <td>18.424</td>\n",
              "      <td>False</td>\n",
              "      <td>Client Services</td>\n",
              "    </tr>\n",
              "    <tr>\n",
              "      <th>141</th>\n",
              "      <td>Adam</td>\n",
              "      <td>Male</td>\n",
              "      <td>1990-12-24</td>\n",
              "      <td>2021-10-08 20:57:00</td>\n",
              "      <td>110194</td>\n",
              "      <td>14.727</td>\n",
              "      <td>True</td>\n",
              "      <td>Product</td>\n",
              "    </tr>\n",
              "    <tr>\n",
              "      <th>302</th>\n",
              "      <td>Adam</td>\n",
              "      <td>Male</td>\n",
              "      <td>2007-07-05</td>\n",
              "      <td>2021-10-08 11:59:00</td>\n",
              "      <td>71276</td>\n",
              "      <td>5.027</td>\n",
              "      <td>True</td>\n",
              "      <td>Human Resources</td>\n",
              "    </tr>\n",
              "    <tr>\n",
              "      <th>...</th>\n",
              "      <td>...</td>\n",
              "      <td>...</td>\n",
              "      <td>...</td>\n",
              "      <td>...</td>\n",
              "      <td>...</td>\n",
              "      <td>...</td>\n",
              "      <td>...</td>\n",
              "      <td>...</td>\n",
              "    </tr>\n",
              "    <tr>\n",
              "      <th>902</th>\n",
              "      <td>NaN</td>\n",
              "      <td>Male</td>\n",
              "      <td>2001-05-23</td>\n",
              "      <td>2021-10-08 19:52:00</td>\n",
              "      <td>103877</td>\n",
              "      <td>6.322</td>\n",
              "      <td>True</td>\n",
              "      <td>Distribution</td>\n",
              "    </tr>\n",
              "    <tr>\n",
              "      <th>925</th>\n",
              "      <td>NaN</td>\n",
              "      <td>Female</td>\n",
              "      <td>2000-08-23</td>\n",
              "      <td>2021-10-08 16:19:00</td>\n",
              "      <td>95866</td>\n",
              "      <td>19.388</td>\n",
              "      <td>True</td>\n",
              "      <td>Sales</td>\n",
              "    </tr>\n",
              "    <tr>\n",
              "      <th>946</th>\n",
              "      <td>NaN</td>\n",
              "      <td>Female</td>\n",
              "      <td>1985-09-15</td>\n",
              "      <td>2021-10-08 01:50:00</td>\n",
              "      <td>133472</td>\n",
              "      <td>16.941</td>\n",
              "      <td>True</td>\n",
              "      <td>Distribution</td>\n",
              "    </tr>\n",
              "    <tr>\n",
              "      <th>947</th>\n",
              "      <td>NaN</td>\n",
              "      <td>Male</td>\n",
              "      <td>2012-07-30</td>\n",
              "      <td>2021-10-08 15:07:00</td>\n",
              "      <td>107351</td>\n",
              "      <td>5.329</td>\n",
              "      <td>True</td>\n",
              "      <td>Marketing</td>\n",
              "    </tr>\n",
              "    <tr>\n",
              "      <th>951</th>\n",
              "      <td>NaN</td>\n",
              "      <td>Female</td>\n",
              "      <td>2010-09-14</td>\n",
              "      <td>2021-10-08 05:19:00</td>\n",
              "      <td>143638</td>\n",
              "      <td>9.662</td>\n",
              "      <td>True</td>\n",
              "      <td>NaN</td>\n",
              "    </tr>\n",
              "  </tbody>\n",
              "</table>\n",
              "<p>799 rows × 8 columns</p>\n",
              "</div>"
            ],
            "text/plain": [
              "    First Name  Gender Start Date  ... Bonus %  Senior Management             Team\n",
              "327      Aaron    Male 1994-01-29  ...   5.097               True        Marketing\n",
              "440      Aaron    Male 1990-07-22  ...  11.343               True  Client Services\n",
              "937      Aaron     NaN 1986-01-22  ...  18.424              False  Client Services\n",
              "141       Adam    Male 1990-12-24  ...  14.727               True          Product\n",
              "302       Adam    Male 2007-07-05  ...   5.027               True  Human Resources\n",
              "..         ...     ...        ...  ...     ...                ...              ...\n",
              "902        NaN    Male 2001-05-23  ...   6.322               True     Distribution\n",
              "925        NaN  Female 2000-08-23  ...  19.388               True            Sales\n",
              "946        NaN  Female 1985-09-15  ...  16.941               True     Distribution\n",
              "947        NaN    Male 2012-07-30  ...   5.329               True        Marketing\n",
              "951        NaN  Female 2010-09-14  ...   9.662               True              NaN\n",
              "\n",
              "[799 rows x 8 columns]"
            ]
          },
          "metadata": {},
          "execution_count": 28
        }
      ]
    },
    {
      "cell_type": "code",
      "metadata": {
        "colab": {
          "base_uri": "https://localhost:8080/"
        },
        "id": "piPKkNrVI1mR",
        "outputId": "162eaa1d-6b2c-4584-bb48-55b160ed03d7"
      },
      "source": [
        "emp['First Name'].duplicated(keep='last').head(20)"
      ],
      "execution_count": null,
      "outputs": [
        {
          "output_type": "execute_result",
          "data": {
            "text/plain": [
              "101     True\n",
              "327     True\n",
              "440     True\n",
              "937    False\n",
              "137     True\n",
              "141     True\n",
              "302     True\n",
              "538    False\n",
              "300     True\n",
              "53      True\n",
              "610    False\n",
              "959     True\n",
              "999     True\n",
              "680     True\n",
              "477     True\n",
              "458     True\n",
              "372    False\n",
              "988     True\n",
              "970     True\n",
              "765     True\n",
              "Name: First Name, dtype: bool"
            ]
          },
          "metadata": {},
          "execution_count": 29
        }
      ]
    },
    {
      "cell_type": "code",
      "metadata": {
        "colab": {
          "base_uri": "https://localhost:8080/"
        },
        "id": "aJ_6PeWJJmvM",
        "outputId": "e12fb87d-51fc-476e-eeef-e96aba8017e8"
      },
      "source": [
        "emp['First Name'].duplicated(keep=False).head(20)\n",
        "\n",
        "\n",
        "# the keep parameter accepts an additional argument, \n",
        "#and instead of first or last as a string, we can enter false. \n",
        "#Now, what false will do is it's going to mark something as duplicated \n",
        "#if it occurs more than once. Period. Doesn't matter if it's the first time or the last time. \n",
        "#Here we have an example where we have all Aarons. All of these are going to be marked as true.\n",
        "# True for yes, it is a duplicate because Aaron occurs more than once. "
      ],
      "execution_count": null,
      "outputs": [
        {
          "output_type": "execute_result",
          "data": {
            "text/plain": [
              "101    True\n",
              "327    True\n",
              "440    True\n",
              "937    True\n",
              "137    True\n",
              "141    True\n",
              "302    True\n",
              "538    True\n",
              "300    True\n",
              "53     True\n",
              "610    True\n",
              "959    True\n",
              "999    True\n",
              "680    True\n",
              "477    True\n",
              "458    True\n",
              "372    True\n",
              "988    True\n",
              "970    True\n",
              "765    True\n",
              "Name: First Name, dtype: bool"
            ]
          },
          "metadata": {},
          "execution_count": 30
        }
      ]
    },
    {
      "cell_type": "markdown",
      "metadata": {
        "id": "_7QPRY6GKccU"
      },
      "source": [
        "#extract all the duplicate rows including the first occurrence"
      ]
    },
    {
      "cell_type": "code",
      "metadata": {
        "id": "xJA16HfdJAyy"
      },
      "source": [
        "emp[emp['First Name'].duplicated(keep=False)]\n",
        "\n",
        "#list of all of the duplicates, in the DataFrame, \n",
        "#if we extract it, what we can do here is extract only the rows that \n",
        "#have more than one duplicate value in the First Name column. \n",
        "#So these are all the duplicates. \n",
        "#You can see that the Aarons are represented four times and the Aaron name does occur four times."
      ],
      "execution_count": null,
      "outputs": []
    },
    {
      "cell_type": "markdown",
      "metadata": {
        "id": "D81Nz0A0KkZ6"
      },
      "source": [
        "#extract the unique rows\n",
        "\n",
        "extract rows that have unique first name which occurs only once"
      ]
    },
    {
      "cell_type": "code",
      "metadata": {
        "colab": {
          "base_uri": "https://localhost:8080/"
        },
        "id": "Yp2W98DdKrJF",
        "outputId": "e63119bf-2f5b-4ecd-b18a-961f13c30e96"
      },
      "source": [
        "~emp['First Name'].duplicated(keep=False)"
      ],
      "execution_count": null,
      "outputs": [
        {
          "output_type": "execute_result",
          "data": {
            "text/plain": [
              "101    False\n",
              "327    False\n",
              "440    False\n",
              "937    False\n",
              "137    False\n",
              "       ...  \n",
              "902    False\n",
              "925    False\n",
              "946    False\n",
              "947    False\n",
              "951    False\n",
              "Name: First Name, Length: 1000, dtype: bool"
            ]
          },
          "metadata": {},
          "execution_count": 36
        }
      ]
    },
    {
      "cell_type": "code",
      "metadata": {
        "colab": {
          "base_uri": "https://localhost:8080/",
          "height": 498
        },
        "id": "ShBcyE6XLSu2",
        "outputId": "91cf0c2c-3467-49ce-bdf9-0ecfe526e0c4"
      },
      "source": [
        "mask = ~emp['First Name'].duplicated(keep=False)\n",
        "emp[mask].head(20)"
      ],
      "execution_count": null,
      "outputs": [
        {
          "output_type": "execute_result",
          "data": {
            "text/html": [
              "<div>\n",
              "<style scoped>\n",
              "    .dataframe tbody tr th:only-of-type {\n",
              "        vertical-align: middle;\n",
              "    }\n",
              "\n",
              "    .dataframe tbody tr th {\n",
              "        vertical-align: top;\n",
              "    }\n",
              "\n",
              "    .dataframe thead th {\n",
              "        text-align: right;\n",
              "    }\n",
              "</style>\n",
              "<table border=\"1\" class=\"dataframe\">\n",
              "  <thead>\n",
              "    <tr style=\"text-align: right;\">\n",
              "      <th></th>\n",
              "      <th>First Name</th>\n",
              "      <th>Gender</th>\n",
              "      <th>Start Date</th>\n",
              "      <th>Last Login Time</th>\n",
              "      <th>Salary</th>\n",
              "      <th>Bonus %</th>\n",
              "      <th>Senior Management</th>\n",
              "      <th>Team</th>\n",
              "    </tr>\n",
              "  </thead>\n",
              "  <tbody>\n",
              "    <tr>\n",
              "      <th>8</th>\n",
              "      <td>Angela</td>\n",
              "      <td>Female</td>\n",
              "      <td>2005-11-22</td>\n",
              "      <td>2021-10-08 06:29:00</td>\n",
              "      <td>95570</td>\n",
              "      <td>18.523</td>\n",
              "      <td>True</td>\n",
              "      <td>Engineering</td>\n",
              "    </tr>\n",
              "    <tr>\n",
              "      <th>688</th>\n",
              "      <td>Brian</td>\n",
              "      <td>Male</td>\n",
              "      <td>2007-04-07</td>\n",
              "      <td>2021-10-08 22:47:00</td>\n",
              "      <td>93901</td>\n",
              "      <td>17.821</td>\n",
              "      <td>True</td>\n",
              "      <td>Legal</td>\n",
              "    </tr>\n",
              "    <tr>\n",
              "      <th>190</th>\n",
              "      <td>Carol</td>\n",
              "      <td>Female</td>\n",
              "      <td>1996-03-19</td>\n",
              "      <td>2021-10-08 03:39:00</td>\n",
              "      <td>57783</td>\n",
              "      <td>9.129</td>\n",
              "      <td>False</td>\n",
              "      <td>Finance</td>\n",
              "    </tr>\n",
              "    <tr>\n",
              "      <th>887</th>\n",
              "      <td>David</td>\n",
              "      <td>Male</td>\n",
              "      <td>2009-12-05</td>\n",
              "      <td>2021-10-08 08:48:00</td>\n",
              "      <td>92242</td>\n",
              "      <td>15.407</td>\n",
              "      <td>False</td>\n",
              "      <td>Legal</td>\n",
              "    </tr>\n",
              "    <tr>\n",
              "      <th>5</th>\n",
              "      <td>Dennis</td>\n",
              "      <td>Male</td>\n",
              "      <td>1987-04-18</td>\n",
              "      <td>2021-10-08 01:35:00</td>\n",
              "      <td>115163</td>\n",
              "      <td>10.125</td>\n",
              "      <td>False</td>\n",
              "      <td>Legal</td>\n",
              "    </tr>\n",
              "    <tr>\n",
              "      <th>495</th>\n",
              "      <td>Eugene</td>\n",
              "      <td>Male</td>\n",
              "      <td>1984-05-24</td>\n",
              "      <td>2021-10-08 10:54:00</td>\n",
              "      <td>81077</td>\n",
              "      <td>2.117</td>\n",
              "      <td>False</td>\n",
              "      <td>Sales</td>\n",
              "    </tr>\n",
              "    <tr>\n",
              "      <th>33</th>\n",
              "      <td>Jean</td>\n",
              "      <td>Female</td>\n",
              "      <td>1993-12-18</td>\n",
              "      <td>2021-10-08 09:07:00</td>\n",
              "      <td>119082</td>\n",
              "      <td>16.180</td>\n",
              "      <td>False</td>\n",
              "      <td>Business Development</td>\n",
              "    </tr>\n",
              "    <tr>\n",
              "      <th>832</th>\n",
              "      <td>Keith</td>\n",
              "      <td>Male</td>\n",
              "      <td>2003-02-12</td>\n",
              "      <td>2021-10-08 15:02:00</td>\n",
              "      <td>120672</td>\n",
              "      <td>19.467</td>\n",
              "      <td>False</td>\n",
              "      <td>Legal</td>\n",
              "    </tr>\n",
              "    <tr>\n",
              "      <th>291</th>\n",
              "      <td>Tammy</td>\n",
              "      <td>Female</td>\n",
              "      <td>1984-11-11</td>\n",
              "      <td>2021-10-08 10:30:00</td>\n",
              "      <td>132839</td>\n",
              "      <td>17.463</td>\n",
              "      <td>True</td>\n",
              "      <td>Client Services</td>\n",
              "    </tr>\n",
              "  </tbody>\n",
              "</table>\n",
              "</div>"
            ],
            "text/plain": [
              "    First Name  Gender  ... Senior Management                  Team\n",
              "8       Angela  Female  ...              True           Engineering\n",
              "688      Brian    Male  ...              True                 Legal\n",
              "190      Carol  Female  ...             False               Finance\n",
              "887      David    Male  ...             False                 Legal\n",
              "5       Dennis    Male  ...             False                 Legal\n",
              "495     Eugene    Male  ...             False                 Sales\n",
              "33        Jean  Female  ...             False  Business Development\n",
              "832      Keith    Male  ...             False                 Legal\n",
              "291      Tammy  Female  ...              True       Client Services\n",
              "\n",
              "[9 rows x 8 columns]"
            ]
          },
          "metadata": {},
          "execution_count": 35
        }
      ]
    },
    {
      "cell_type": "code",
      "metadata": {
        "colab": {
          "base_uri": "https://localhost:8080/",
          "height": 498
        },
        "id": "RJ5xz9DXLyuH",
        "outputId": "4f6f5e09-26a9-4ec1-a09e-2eb280b54dbb"
      },
      "source": [
        "emp[mask].sort_values('First Name')"
      ],
      "execution_count": null,
      "outputs": [
        {
          "output_type": "execute_result",
          "data": {
            "text/html": [
              "<div>\n",
              "<style scoped>\n",
              "    .dataframe tbody tr th:only-of-type {\n",
              "        vertical-align: middle;\n",
              "    }\n",
              "\n",
              "    .dataframe tbody tr th {\n",
              "        vertical-align: top;\n",
              "    }\n",
              "\n",
              "    .dataframe thead th {\n",
              "        text-align: right;\n",
              "    }\n",
              "</style>\n",
              "<table border=\"1\" class=\"dataframe\">\n",
              "  <thead>\n",
              "    <tr style=\"text-align: right;\">\n",
              "      <th></th>\n",
              "      <th>First Name</th>\n",
              "      <th>Gender</th>\n",
              "      <th>Start Date</th>\n",
              "      <th>Last Login Time</th>\n",
              "      <th>Salary</th>\n",
              "      <th>Bonus %</th>\n",
              "      <th>Senior Management</th>\n",
              "      <th>Team</th>\n",
              "    </tr>\n",
              "  </thead>\n",
              "  <tbody>\n",
              "    <tr>\n",
              "      <th>8</th>\n",
              "      <td>Angela</td>\n",
              "      <td>Female</td>\n",
              "      <td>2005-11-22</td>\n",
              "      <td>2021-10-08 06:29:00</td>\n",
              "      <td>95570</td>\n",
              "      <td>18.523</td>\n",
              "      <td>True</td>\n",
              "      <td>Engineering</td>\n",
              "    </tr>\n",
              "    <tr>\n",
              "      <th>688</th>\n",
              "      <td>Brian</td>\n",
              "      <td>Male</td>\n",
              "      <td>2007-04-07</td>\n",
              "      <td>2021-10-08 22:47:00</td>\n",
              "      <td>93901</td>\n",
              "      <td>17.821</td>\n",
              "      <td>True</td>\n",
              "      <td>Legal</td>\n",
              "    </tr>\n",
              "    <tr>\n",
              "      <th>190</th>\n",
              "      <td>Carol</td>\n",
              "      <td>Female</td>\n",
              "      <td>1996-03-19</td>\n",
              "      <td>2021-10-08 03:39:00</td>\n",
              "      <td>57783</td>\n",
              "      <td>9.129</td>\n",
              "      <td>False</td>\n",
              "      <td>Finance</td>\n",
              "    </tr>\n",
              "    <tr>\n",
              "      <th>887</th>\n",
              "      <td>David</td>\n",
              "      <td>Male</td>\n",
              "      <td>2009-12-05</td>\n",
              "      <td>2021-10-08 08:48:00</td>\n",
              "      <td>92242</td>\n",
              "      <td>15.407</td>\n",
              "      <td>False</td>\n",
              "      <td>Legal</td>\n",
              "    </tr>\n",
              "    <tr>\n",
              "      <th>5</th>\n",
              "      <td>Dennis</td>\n",
              "      <td>Male</td>\n",
              "      <td>1987-04-18</td>\n",
              "      <td>2021-10-08 01:35:00</td>\n",
              "      <td>115163</td>\n",
              "      <td>10.125</td>\n",
              "      <td>False</td>\n",
              "      <td>Legal</td>\n",
              "    </tr>\n",
              "    <tr>\n",
              "      <th>495</th>\n",
              "      <td>Eugene</td>\n",
              "      <td>Male</td>\n",
              "      <td>1984-05-24</td>\n",
              "      <td>2021-10-08 10:54:00</td>\n",
              "      <td>81077</td>\n",
              "      <td>2.117</td>\n",
              "      <td>False</td>\n",
              "      <td>Sales</td>\n",
              "    </tr>\n",
              "    <tr>\n",
              "      <th>33</th>\n",
              "      <td>Jean</td>\n",
              "      <td>Female</td>\n",
              "      <td>1993-12-18</td>\n",
              "      <td>2021-10-08 09:07:00</td>\n",
              "      <td>119082</td>\n",
              "      <td>16.180</td>\n",
              "      <td>False</td>\n",
              "      <td>Business Development</td>\n",
              "    </tr>\n",
              "    <tr>\n",
              "      <th>832</th>\n",
              "      <td>Keith</td>\n",
              "      <td>Male</td>\n",
              "      <td>2003-02-12</td>\n",
              "      <td>2021-10-08 15:02:00</td>\n",
              "      <td>120672</td>\n",
              "      <td>19.467</td>\n",
              "      <td>False</td>\n",
              "      <td>Legal</td>\n",
              "    </tr>\n",
              "    <tr>\n",
              "      <th>291</th>\n",
              "      <td>Tammy</td>\n",
              "      <td>Female</td>\n",
              "      <td>1984-11-11</td>\n",
              "      <td>2021-10-08 10:30:00</td>\n",
              "      <td>132839</td>\n",
              "      <td>17.463</td>\n",
              "      <td>True</td>\n",
              "      <td>Client Services</td>\n",
              "    </tr>\n",
              "  </tbody>\n",
              "</table>\n",
              "</div>"
            ],
            "text/plain": [
              "    First Name  Gender  ... Senior Management                  Team\n",
              "8       Angela  Female  ...              True           Engineering\n",
              "688      Brian    Male  ...              True                 Legal\n",
              "190      Carol  Female  ...             False               Finance\n",
              "887      David    Male  ...             False                 Legal\n",
              "5       Dennis    Male  ...             False                 Legal\n",
              "495     Eugene    Male  ...             False                 Sales\n",
              "33        Jean  Female  ...             False  Business Development\n",
              "832      Keith    Male  ...             False                 Legal\n",
              "291      Tammy  Female  ...              True       Client Services\n",
              "\n",
              "[9 rows x 8 columns]"
            ]
          },
          "metadata": {},
          "execution_count": 38
        }
      ]
    }
  ]
}